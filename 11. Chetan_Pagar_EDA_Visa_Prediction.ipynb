{
 "cells": [
  {
   "cell_type": "code",
   "execution_count": 1,
   "id": "401bda4c",
   "metadata": {},
   "outputs": [],
   "source": [
    "## Visa Prediction"
   ]
  },
  {
   "cell_type": "code",
   "execution_count": 2,
   "id": "bd52410f",
   "metadata": {},
   "outputs": [],
   "source": [
    "# Module Alization (Import Numpy, Padas, Matplotlib, Seaborn Libraries)"
   ]
  },
  {
   "cell_type": "code",
   "execution_count": 34,
   "id": "a1bf319f",
   "metadata": {},
   "outputs": [],
   "source": [
    "import numpy as np\n",
    "import pandas as pd\n",
    "import matplotlib.pyplot as plt\n",
    "import seaborn as sns\n",
    "import warnings\n",
    "warnings.filterwarnings('ignore')"
   ]
  },
  {
   "cell_type": "code",
   "execution_count": null,
   "id": "8ba42eed",
   "metadata": {},
   "outputs": [],
   "source": [
    "# Read Dataset for Analysis"
   ]
  },
  {
   "cell_type": "code",
   "execution_count": 4,
   "id": "4aba4ebe",
   "metadata": {},
   "outputs": [
    {
     "data": {
      "text/html": [
       "<div>\n",
       "<style scoped>\n",
       "    .dataframe tbody tr th:only-of-type {\n",
       "        vertical-align: middle;\n",
       "    }\n",
       "\n",
       "    .dataframe tbody tr th {\n",
       "        vertical-align: top;\n",
       "    }\n",
       "\n",
       "    .dataframe thead th {\n",
       "        text-align: right;\n",
       "    }\n",
       "</style>\n",
       "<table border=\"1\" class=\"dataframe\">\n",
       "  <thead>\n",
       "    <tr style=\"text-align: right;\">\n",
       "      <th></th>\n",
       "      <th>Visa_Class</th>\n",
       "      <th>Employer_Name</th>\n",
       "      <th>SOC_Title</th>\n",
       "      <th>Job_Title</th>\n",
       "      <th>Full_Time_Position</th>\n",
       "      <th>Worksite</th>\n",
       "      <th>Prevailing_Wage</th>\n",
       "      <th>Unit_Of_Pay</th>\n",
       "      <th>Employer_Location</th>\n",
       "      <th>Employer_Country</th>\n",
       "      <th>Case_Status</th>\n",
       "      <th>Quarter</th>\n",
       "    </tr>\n",
       "  </thead>\n",
       "  <tbody>\n",
       "    <tr>\n",
       "      <th>0</th>\n",
       "      <td>H-1B</td>\n",
       "      <td>Hexaware Technologies Inc.</td>\n",
       "      <td>Software Developers, Applications</td>\n",
       "      <td>Senior Technical Architect</td>\n",
       "      <td>Y</td>\n",
       "      <td>Herndon,, Virginia</td>\n",
       "      <td>97406.0</td>\n",
       "      <td>Year</td>\n",
       "      <td>Iselin, New Jersey</td>\n",
       "      <td>United States Of America</td>\n",
       "      <td>Certified</td>\n",
       "      <td>Q1</td>\n",
       "    </tr>\n",
       "    <tr>\n",
       "      <th>1</th>\n",
       "      <td>H-1B</td>\n",
       "      <td>WIPRO LIMITED</td>\n",
       "      <td>Computer Programmers</td>\n",
       "      <td>Programmer Analyst\\t</td>\n",
       "      <td>Y</td>\n",
       "      <td>Texas City, Texas</td>\n",
       "      <td>84510.0</td>\n",
       "      <td>Year</td>\n",
       "      <td>East Brunswick, New Jersey</td>\n",
       "      <td>United States Of America</td>\n",
       "      <td>Certified</td>\n",
       "      <td>Q1</td>\n",
       "    </tr>\n",
       "    <tr>\n",
       "      <th>2</th>\n",
       "      <td>H-1B</td>\n",
       "      <td>Mastech Digital InfoTech, Inc.</td>\n",
       "      <td>Software Developers, Applications</td>\n",
       "      <td>Software Developer</td>\n",
       "      <td>Y</td>\n",
       "      <td>Strongsville, Ohio</td>\n",
       "      <td>70678.0</td>\n",
       "      <td>Year</td>\n",
       "      <td>Moon Township, Pennsylvania</td>\n",
       "      <td>United States Of America</td>\n",
       "      <td>Certified</td>\n",
       "      <td>Q1</td>\n",
       "    </tr>\n",
       "    <tr>\n",
       "      <th>3</th>\n",
       "      <td>H-1B</td>\n",
       "      <td>VIRTUSA CORPORATION</td>\n",
       "      <td>Computer Systems Analysts</td>\n",
       "      <td>JAVA ANALYST 2</td>\n",
       "      <td>Y</td>\n",
       "      <td>Hartford, Connecticut</td>\n",
       "      <td>81453.0</td>\n",
       "      <td>Year</td>\n",
       "      <td>Southborough, Massachusetts</td>\n",
       "      <td>United States Of America</td>\n",
       "      <td>Certified</td>\n",
       "      <td>Q1</td>\n",
       "    </tr>\n",
       "    <tr>\n",
       "      <th>4</th>\n",
       "      <td>H-1B</td>\n",
       "      <td>XTGLOBAL, INC.</td>\n",
       "      <td>Database Administrators</td>\n",
       "      <td>SQL DATABASE ADMINISTRATOR II</td>\n",
       "      <td>Y</td>\n",
       "      <td>Austin, Texas</td>\n",
       "      <td>91146.0</td>\n",
       "      <td>Year</td>\n",
       "      <td>Plano, Texas</td>\n",
       "      <td>United States Of America</td>\n",
       "      <td>Certified</td>\n",
       "      <td>Q1</td>\n",
       "    </tr>\n",
       "    <tr>\n",
       "      <th>...</th>\n",
       "      <td>...</td>\n",
       "      <td>...</td>\n",
       "      <td>...</td>\n",
       "      <td>...</td>\n",
       "      <td>...</td>\n",
       "      <td>...</td>\n",
       "      <td>...</td>\n",
       "      <td>...</td>\n",
       "      <td>...</td>\n",
       "      <td>...</td>\n",
       "      <td>...</td>\n",
       "      <td>...</td>\n",
       "    </tr>\n",
       "    <tr>\n",
       "      <th>826300</th>\n",
       "      <td>H-1B</td>\n",
       "      <td>ESCOBEDO CONSTRUCTION, LP</td>\n",
       "      <td>Software Developers, Systems Software</td>\n",
       "      <td>SOFTWARE DEVELOPMENT</td>\n",
       "      <td>Y</td>\n",
       "      <td>Buda, Texas</td>\n",
       "      <td>72384.0</td>\n",
       "      <td>Year</td>\n",
       "      <td>Buda, Texas</td>\n",
       "      <td>United States Of America</td>\n",
       "      <td>Withdrawn</td>\n",
       "      <td>Q4</td>\n",
       "    </tr>\n",
       "    <tr>\n",
       "      <th>826301</th>\n",
       "      <td>H-1B</td>\n",
       "      <td>The University of Texas at Dallas</td>\n",
       "      <td>Business Teachers, Postsecondary</td>\n",
       "      <td>Assistant Professor of Instruction</td>\n",
       "      <td>Y</td>\n",
       "      <td>Richardson, Texas</td>\n",
       "      <td>18340.0</td>\n",
       "      <td>Year</td>\n",
       "      <td>Richardson , Texas</td>\n",
       "      <td>United States Of America</td>\n",
       "      <td>Withdrawn</td>\n",
       "      <td>Q4</td>\n",
       "    </tr>\n",
       "    <tr>\n",
       "      <th>826302</th>\n",
       "      <td>H-1B</td>\n",
       "      <td>NIC INFO TEK INC</td>\n",
       "      <td>Software Developers, Applications</td>\n",
       "      <td>Engineering Lead</td>\n",
       "      <td>Y</td>\n",
       "      <td>Nolensville , Tennessee</td>\n",
       "      <td>80330.0</td>\n",
       "      <td>Year</td>\n",
       "      <td>Temple Terrace, Florida</td>\n",
       "      <td>United States Of America</td>\n",
       "      <td>Withdrawn</td>\n",
       "      <td>Q4</td>\n",
       "    </tr>\n",
       "    <tr>\n",
       "      <th>826303</th>\n",
       "      <td>H-1B</td>\n",
       "      <td>NIC INFO TEK INC</td>\n",
       "      <td>Software Developers, Applications</td>\n",
       "      <td>Engineering Lead</td>\n",
       "      <td>Y</td>\n",
       "      <td>Nolensville, Tennessee</td>\n",
       "      <td>80330.0</td>\n",
       "      <td>Year</td>\n",
       "      <td>Temple Terrace, Florida</td>\n",
       "      <td>United States Of America</td>\n",
       "      <td>Withdrawn</td>\n",
       "      <td>Q4</td>\n",
       "    </tr>\n",
       "    <tr>\n",
       "      <th>826304</th>\n",
       "      <td>H-1B</td>\n",
       "      <td>CompassBeauty, Inc.</td>\n",
       "      <td>Computer And Information Systems Managers</td>\n",
       "      <td>Vice President, Engineering</td>\n",
       "      <td>Y</td>\n",
       "      <td>San Francisco, California</td>\n",
       "      <td>136864.0</td>\n",
       "      <td>Year</td>\n",
       "      <td>San Francisco, California</td>\n",
       "      <td>United States Of America</td>\n",
       "      <td>Withdrawn</td>\n",
       "      <td>Q4</td>\n",
       "    </tr>\n",
       "  </tbody>\n",
       "</table>\n",
       "<p>826305 rows × 12 columns</p>\n",
       "</div>"
      ],
      "text/plain": [
       "       Visa_Class                      Employer_Name  \\\n",
       "0            H-1B         Hexaware Technologies Inc.   \n",
       "1            H-1B                      WIPRO LIMITED   \n",
       "2            H-1B     Mastech Digital InfoTech, Inc.   \n",
       "3            H-1B                VIRTUSA CORPORATION   \n",
       "4            H-1B                     XTGLOBAL, INC.   \n",
       "...           ...                                ...   \n",
       "826300       H-1B          ESCOBEDO CONSTRUCTION, LP   \n",
       "826301       H-1B  The University of Texas at Dallas   \n",
       "826302       H-1B                   NIC INFO TEK INC   \n",
       "826303       H-1B                   NIC INFO TEK INC   \n",
       "826304       H-1B                CompassBeauty, Inc.   \n",
       "\n",
       "                                        SOC_Title  \\\n",
       "0               Software Developers, Applications   \n",
       "1                            Computer Programmers   \n",
       "2               Software Developers, Applications   \n",
       "3                       Computer Systems Analysts   \n",
       "4                         Database Administrators   \n",
       "...                                           ...   \n",
       "826300      Software Developers, Systems Software   \n",
       "826301           Business Teachers, Postsecondary   \n",
       "826302          Software Developers, Applications   \n",
       "826303          Software Developers, Applications   \n",
       "826304  Computer And Information Systems Managers   \n",
       "\n",
       "                                 Job_Title Full_Time_Position  \\\n",
       "0               Senior Technical Architect                  Y   \n",
       "1                     Programmer Analyst\\t                  Y   \n",
       "2                       Software Developer                  Y   \n",
       "3                           JAVA ANALYST 2                  Y   \n",
       "4            SQL DATABASE ADMINISTRATOR II                  Y   \n",
       "...                                    ...                ...   \n",
       "826300                SOFTWARE DEVELOPMENT                  Y   \n",
       "826301  Assistant Professor of Instruction                  Y   \n",
       "826302                    Engineering Lead                  Y   \n",
       "826303                    Engineering Lead                  Y   \n",
       "826304         Vice President, Engineering                  Y   \n",
       "\n",
       "                         Worksite  Prevailing_Wage Unit_Of_Pay  \\\n",
       "0              Herndon,, Virginia          97406.0        Year   \n",
       "1               Texas City, Texas          84510.0        Year   \n",
       "2              Strongsville, Ohio          70678.0        Year   \n",
       "3           Hartford, Connecticut          81453.0        Year   \n",
       "4                   Austin, Texas          91146.0        Year   \n",
       "...                           ...              ...         ...   \n",
       "826300                Buda, Texas          72384.0        Year   \n",
       "826301          Richardson, Texas          18340.0        Year   \n",
       "826302    Nolensville , Tennessee          80330.0        Year   \n",
       "826303     Nolensville, Tennessee          80330.0        Year   \n",
       "826304  San Francisco, California         136864.0        Year   \n",
       "\n",
       "                  Employer_Location          Employer_Country Case_Status  \\\n",
       "0                Iselin, New Jersey  United States Of America   Certified   \n",
       "1        East Brunswick, New Jersey  United States Of America   Certified   \n",
       "2       Moon Township, Pennsylvania  United States Of America   Certified   \n",
       "3       Southborough, Massachusetts  United States Of America   Certified   \n",
       "4                      Plano, Texas  United States Of America   Certified   \n",
       "...                             ...                       ...         ...   \n",
       "826300                  Buda, Texas  United States Of America   Withdrawn   \n",
       "826301           Richardson , Texas  United States Of America   Withdrawn   \n",
       "826302      Temple Terrace, Florida  United States Of America   Withdrawn   \n",
       "826303      Temple Terrace, Florida  United States Of America   Withdrawn   \n",
       "826304    San Francisco, California  United States Of America   Withdrawn   \n",
       "\n",
       "       Quarter  \n",
       "0           Q1  \n",
       "1           Q1  \n",
       "2           Q1  \n",
       "3           Q1  \n",
       "4           Q1  \n",
       "...        ...  \n",
       "826300      Q4  \n",
       "826301      Q4  \n",
       "826302      Q4  \n",
       "826303      Q4  \n",
       "826304      Q4  \n",
       "\n",
       "[826305 rows x 12 columns]"
      ]
     },
     "execution_count": 4,
     "metadata": {},
     "output_type": "execute_result"
    }
   ],
   "source": [
    "df = pd.read_csv('visa.csv')\n",
    "df"
   ]
  },
  {
   "cell_type": "code",
   "execution_count": 5,
   "id": "e944eccd",
   "metadata": {},
   "outputs": [],
   "source": [
    "# Fetch first 5 records from dataset"
   ]
  },
  {
   "cell_type": "code",
   "execution_count": 6,
   "id": "60a4aaef",
   "metadata": {},
   "outputs": [
    {
     "data": {
      "text/html": [
       "<div>\n",
       "<style scoped>\n",
       "    .dataframe tbody tr th:only-of-type {\n",
       "        vertical-align: middle;\n",
       "    }\n",
       "\n",
       "    .dataframe tbody tr th {\n",
       "        vertical-align: top;\n",
       "    }\n",
       "\n",
       "    .dataframe thead th {\n",
       "        text-align: right;\n",
       "    }\n",
       "</style>\n",
       "<table border=\"1\" class=\"dataframe\">\n",
       "  <thead>\n",
       "    <tr style=\"text-align: right;\">\n",
       "      <th></th>\n",
       "      <th>Visa_Class</th>\n",
       "      <th>Employer_Name</th>\n",
       "      <th>SOC_Title</th>\n",
       "      <th>Job_Title</th>\n",
       "      <th>Full_Time_Position</th>\n",
       "      <th>Worksite</th>\n",
       "      <th>Prevailing_Wage</th>\n",
       "      <th>Unit_Of_Pay</th>\n",
       "      <th>Employer_Location</th>\n",
       "      <th>Employer_Country</th>\n",
       "      <th>Case_Status</th>\n",
       "      <th>Quarter</th>\n",
       "    </tr>\n",
       "  </thead>\n",
       "  <tbody>\n",
       "    <tr>\n",
       "      <th>0</th>\n",
       "      <td>H-1B</td>\n",
       "      <td>Hexaware Technologies Inc.</td>\n",
       "      <td>Software Developers, Applications</td>\n",
       "      <td>Senior Technical Architect</td>\n",
       "      <td>Y</td>\n",
       "      <td>Herndon,, Virginia</td>\n",
       "      <td>97406.0</td>\n",
       "      <td>Year</td>\n",
       "      <td>Iselin, New Jersey</td>\n",
       "      <td>United States Of America</td>\n",
       "      <td>Certified</td>\n",
       "      <td>Q1</td>\n",
       "    </tr>\n",
       "    <tr>\n",
       "      <th>1</th>\n",
       "      <td>H-1B</td>\n",
       "      <td>WIPRO LIMITED</td>\n",
       "      <td>Computer Programmers</td>\n",
       "      <td>Programmer Analyst\\t</td>\n",
       "      <td>Y</td>\n",
       "      <td>Texas City, Texas</td>\n",
       "      <td>84510.0</td>\n",
       "      <td>Year</td>\n",
       "      <td>East Brunswick, New Jersey</td>\n",
       "      <td>United States Of America</td>\n",
       "      <td>Certified</td>\n",
       "      <td>Q1</td>\n",
       "    </tr>\n",
       "    <tr>\n",
       "      <th>2</th>\n",
       "      <td>H-1B</td>\n",
       "      <td>Mastech Digital InfoTech, Inc.</td>\n",
       "      <td>Software Developers, Applications</td>\n",
       "      <td>Software Developer</td>\n",
       "      <td>Y</td>\n",
       "      <td>Strongsville, Ohio</td>\n",
       "      <td>70678.0</td>\n",
       "      <td>Year</td>\n",
       "      <td>Moon Township, Pennsylvania</td>\n",
       "      <td>United States Of America</td>\n",
       "      <td>Certified</td>\n",
       "      <td>Q1</td>\n",
       "    </tr>\n",
       "    <tr>\n",
       "      <th>3</th>\n",
       "      <td>H-1B</td>\n",
       "      <td>VIRTUSA CORPORATION</td>\n",
       "      <td>Computer Systems Analysts</td>\n",
       "      <td>JAVA ANALYST 2</td>\n",
       "      <td>Y</td>\n",
       "      <td>Hartford, Connecticut</td>\n",
       "      <td>81453.0</td>\n",
       "      <td>Year</td>\n",
       "      <td>Southborough, Massachusetts</td>\n",
       "      <td>United States Of America</td>\n",
       "      <td>Certified</td>\n",
       "      <td>Q1</td>\n",
       "    </tr>\n",
       "    <tr>\n",
       "      <th>4</th>\n",
       "      <td>H-1B</td>\n",
       "      <td>XTGLOBAL, INC.</td>\n",
       "      <td>Database Administrators</td>\n",
       "      <td>SQL DATABASE ADMINISTRATOR II</td>\n",
       "      <td>Y</td>\n",
       "      <td>Austin, Texas</td>\n",
       "      <td>91146.0</td>\n",
       "      <td>Year</td>\n",
       "      <td>Plano, Texas</td>\n",
       "      <td>United States Of America</td>\n",
       "      <td>Certified</td>\n",
       "      <td>Q1</td>\n",
       "    </tr>\n",
       "  </tbody>\n",
       "</table>\n",
       "</div>"
      ],
      "text/plain": [
       "  Visa_Class                   Employer_Name  \\\n",
       "0       H-1B      Hexaware Technologies Inc.   \n",
       "1       H-1B                   WIPRO LIMITED   \n",
       "2       H-1B  Mastech Digital InfoTech, Inc.   \n",
       "3       H-1B             VIRTUSA CORPORATION   \n",
       "4       H-1B                  XTGLOBAL, INC.   \n",
       "\n",
       "                           SOC_Title                      Job_Title  \\\n",
       "0  Software Developers, Applications     Senior Technical Architect   \n",
       "1               Computer Programmers           Programmer Analyst\\t   \n",
       "2  Software Developers, Applications             Software Developer   \n",
       "3          Computer Systems Analysts                 JAVA ANALYST 2   \n",
       "4            Database Administrators  SQL DATABASE ADMINISTRATOR II   \n",
       "\n",
       "  Full_Time_Position               Worksite  Prevailing_Wage Unit_Of_Pay  \\\n",
       "0                  Y     Herndon,, Virginia          97406.0        Year   \n",
       "1                  Y      Texas City, Texas          84510.0        Year   \n",
       "2                  Y     Strongsville, Ohio          70678.0        Year   \n",
       "3                  Y  Hartford, Connecticut          81453.0        Year   \n",
       "4                  Y          Austin, Texas          91146.0        Year   \n",
       "\n",
       "             Employer_Location          Employer_Country Case_Status Quarter  \n",
       "0           Iselin, New Jersey  United States Of America   Certified      Q1  \n",
       "1   East Brunswick, New Jersey  United States Of America   Certified      Q1  \n",
       "2  Moon Township, Pennsylvania  United States Of America   Certified      Q1  \n",
       "3  Southborough, Massachusetts  United States Of America   Certified      Q1  \n",
       "4                 Plano, Texas  United States Of America   Certified      Q1  "
      ]
     },
     "execution_count": 6,
     "metadata": {},
     "output_type": "execute_result"
    }
   ],
   "source": [
    "df.head()"
   ]
  },
  {
   "cell_type": "code",
   "execution_count": null,
   "id": "31e2fe62",
   "metadata": {},
   "outputs": [],
   "source": [
    "# Fetch Last 5 records from dataset"
   ]
  },
  {
   "cell_type": "code",
   "execution_count": 8,
   "id": "b9a6c9f2",
   "metadata": {},
   "outputs": [
    {
     "data": {
      "text/html": [
       "<div>\n",
       "<style scoped>\n",
       "    .dataframe tbody tr th:only-of-type {\n",
       "        vertical-align: middle;\n",
       "    }\n",
       "\n",
       "    .dataframe tbody tr th {\n",
       "        vertical-align: top;\n",
       "    }\n",
       "\n",
       "    .dataframe thead th {\n",
       "        text-align: right;\n",
       "    }\n",
       "</style>\n",
       "<table border=\"1\" class=\"dataframe\">\n",
       "  <thead>\n",
       "    <tr style=\"text-align: right;\">\n",
       "      <th></th>\n",
       "      <th>Visa_Class</th>\n",
       "      <th>Employer_Name</th>\n",
       "      <th>SOC_Title</th>\n",
       "      <th>Job_Title</th>\n",
       "      <th>Full_Time_Position</th>\n",
       "      <th>Worksite</th>\n",
       "      <th>Prevailing_Wage</th>\n",
       "      <th>Unit_Of_Pay</th>\n",
       "      <th>Employer_Location</th>\n",
       "      <th>Employer_Country</th>\n",
       "      <th>Case_Status</th>\n",
       "      <th>Quarter</th>\n",
       "    </tr>\n",
       "  </thead>\n",
       "  <tbody>\n",
       "    <tr>\n",
       "      <th>826300</th>\n",
       "      <td>H-1B</td>\n",
       "      <td>ESCOBEDO CONSTRUCTION, LP</td>\n",
       "      <td>Software Developers, Systems Software</td>\n",
       "      <td>SOFTWARE DEVELOPMENT</td>\n",
       "      <td>Y</td>\n",
       "      <td>Buda, Texas</td>\n",
       "      <td>72384.0</td>\n",
       "      <td>Year</td>\n",
       "      <td>Buda, Texas</td>\n",
       "      <td>United States Of America</td>\n",
       "      <td>Withdrawn</td>\n",
       "      <td>Q4</td>\n",
       "    </tr>\n",
       "    <tr>\n",
       "      <th>826301</th>\n",
       "      <td>H-1B</td>\n",
       "      <td>The University of Texas at Dallas</td>\n",
       "      <td>Business Teachers, Postsecondary</td>\n",
       "      <td>Assistant Professor of Instruction</td>\n",
       "      <td>Y</td>\n",
       "      <td>Richardson, Texas</td>\n",
       "      <td>18340.0</td>\n",
       "      <td>Year</td>\n",
       "      <td>Richardson , Texas</td>\n",
       "      <td>United States Of America</td>\n",
       "      <td>Withdrawn</td>\n",
       "      <td>Q4</td>\n",
       "    </tr>\n",
       "    <tr>\n",
       "      <th>826302</th>\n",
       "      <td>H-1B</td>\n",
       "      <td>NIC INFO TEK INC</td>\n",
       "      <td>Software Developers, Applications</td>\n",
       "      <td>Engineering Lead</td>\n",
       "      <td>Y</td>\n",
       "      <td>Nolensville , Tennessee</td>\n",
       "      <td>80330.0</td>\n",
       "      <td>Year</td>\n",
       "      <td>Temple Terrace, Florida</td>\n",
       "      <td>United States Of America</td>\n",
       "      <td>Withdrawn</td>\n",
       "      <td>Q4</td>\n",
       "    </tr>\n",
       "    <tr>\n",
       "      <th>826303</th>\n",
       "      <td>H-1B</td>\n",
       "      <td>NIC INFO TEK INC</td>\n",
       "      <td>Software Developers, Applications</td>\n",
       "      <td>Engineering Lead</td>\n",
       "      <td>Y</td>\n",
       "      <td>Nolensville, Tennessee</td>\n",
       "      <td>80330.0</td>\n",
       "      <td>Year</td>\n",
       "      <td>Temple Terrace, Florida</td>\n",
       "      <td>United States Of America</td>\n",
       "      <td>Withdrawn</td>\n",
       "      <td>Q4</td>\n",
       "    </tr>\n",
       "    <tr>\n",
       "      <th>826304</th>\n",
       "      <td>H-1B</td>\n",
       "      <td>CompassBeauty, Inc.</td>\n",
       "      <td>Computer And Information Systems Managers</td>\n",
       "      <td>Vice President, Engineering</td>\n",
       "      <td>Y</td>\n",
       "      <td>San Francisco, California</td>\n",
       "      <td>136864.0</td>\n",
       "      <td>Year</td>\n",
       "      <td>San Francisco, California</td>\n",
       "      <td>United States Of America</td>\n",
       "      <td>Withdrawn</td>\n",
       "      <td>Q4</td>\n",
       "    </tr>\n",
       "  </tbody>\n",
       "</table>\n",
       "</div>"
      ],
      "text/plain": [
       "       Visa_Class                      Employer_Name  \\\n",
       "826300       H-1B          ESCOBEDO CONSTRUCTION, LP   \n",
       "826301       H-1B  The University of Texas at Dallas   \n",
       "826302       H-1B                   NIC INFO TEK INC   \n",
       "826303       H-1B                   NIC INFO TEK INC   \n",
       "826304       H-1B                CompassBeauty, Inc.   \n",
       "\n",
       "                                        SOC_Title  \\\n",
       "826300      Software Developers, Systems Software   \n",
       "826301           Business Teachers, Postsecondary   \n",
       "826302          Software Developers, Applications   \n",
       "826303          Software Developers, Applications   \n",
       "826304  Computer And Information Systems Managers   \n",
       "\n",
       "                                 Job_Title Full_Time_Position  \\\n",
       "826300                SOFTWARE DEVELOPMENT                  Y   \n",
       "826301  Assistant Professor of Instruction                  Y   \n",
       "826302                    Engineering Lead                  Y   \n",
       "826303                    Engineering Lead                  Y   \n",
       "826304         Vice President, Engineering                  Y   \n",
       "\n",
       "                         Worksite  Prevailing_Wage Unit_Of_Pay  \\\n",
       "826300                Buda, Texas          72384.0        Year   \n",
       "826301          Richardson, Texas          18340.0        Year   \n",
       "826302    Nolensville , Tennessee          80330.0        Year   \n",
       "826303     Nolensville, Tennessee          80330.0        Year   \n",
       "826304  San Francisco, California         136864.0        Year   \n",
       "\n",
       "                Employer_Location          Employer_Country Case_Status  \\\n",
       "826300                Buda, Texas  United States Of America   Withdrawn   \n",
       "826301         Richardson , Texas  United States Of America   Withdrawn   \n",
       "826302    Temple Terrace, Florida  United States Of America   Withdrawn   \n",
       "826303    Temple Terrace, Florida  United States Of America   Withdrawn   \n",
       "826304  San Francisco, California  United States Of America   Withdrawn   \n",
       "\n",
       "       Quarter  \n",
       "826300      Q4  \n",
       "826301      Q4  \n",
       "826302      Q4  \n",
       "826303      Q4  \n",
       "826304      Q4  "
      ]
     },
     "execution_count": 8,
     "metadata": {},
     "output_type": "execute_result"
    }
   ],
   "source": [
    "df.tail()"
   ]
  },
  {
   "cell_type": "code",
   "execution_count": null,
   "id": "fec14aed",
   "metadata": {},
   "outputs": [],
   "source": [
    "# Check Number of rows and Columns present in dataset"
   ]
  },
  {
   "cell_type": "code",
   "execution_count": 14,
   "id": "3c2fd4a2",
   "metadata": {},
   "outputs": [
    {
     "data": {
      "text/plain": [
       "(826305, 12)"
      ]
     },
     "execution_count": 14,
     "metadata": {},
     "output_type": "execute_result"
    }
   ],
   "source": [
    "df.shape"
   ]
  },
  {
   "cell_type": "code",
   "execution_count": null,
   "id": "97206f39",
   "metadata": {},
   "outputs": [],
   "source": [
    "# check all coulmns present in dataset"
   ]
  },
  {
   "cell_type": "code",
   "execution_count": 15,
   "id": "75f37a12",
   "metadata": {},
   "outputs": [
    {
     "data": {
      "text/plain": [
       "Index(['Visa_Class', 'Employer_Name', 'SOC_Title', 'Job_Title',\n",
       "       'Full_Time_Position', 'Worksite', 'Prevailing_Wage', 'Unit_Of_Pay',\n",
       "       'Employer_Location', 'Employer_Country', 'Case_Status', 'Quarter'],\n",
       "      dtype='object')"
      ]
     },
     "execution_count": 15,
     "metadata": {},
     "output_type": "execute_result"
    }
   ],
   "source": [
    "df.columns"
   ]
  },
  {
   "cell_type": "code",
   "execution_count": null,
   "id": "feb2f088",
   "metadata": {},
   "outputs": [],
   "source": [
    "# Check abstract summary of dataset like column, count and datatype"
   ]
  },
  {
   "cell_type": "code",
   "execution_count": 11,
   "id": "86c5dcf3",
   "metadata": {},
   "outputs": [
    {
     "name": "stdout",
     "output_type": "stream",
     "text": [
      "<class 'pandas.core.frame.DataFrame'>\n",
      "RangeIndex: 826305 entries, 0 to 826304\n",
      "Data columns (total 12 columns):\n",
      " #   Column              Non-Null Count   Dtype  \n",
      "---  ------              --------------   -----  \n",
      " 0   Visa_Class          826305 non-null  object \n",
      " 1   Employer_Name       826303 non-null  object \n",
      " 2   SOC_Title           826303 non-null  object \n",
      " 3   Job_Title           826305 non-null  object \n",
      " 4   Full_Time_Position  826305 non-null  object \n",
      " 5   Worksite            826251 non-null  object \n",
      " 6   Prevailing_Wage     826304 non-null  float64\n",
      " 7   Unit_Of_Pay         826304 non-null  object \n",
      " 8   Employer_Location   826241 non-null  object \n",
      " 9   Employer_Country    826305 non-null  object \n",
      " 10  Case_Status         826305 non-null  object \n",
      " 11  Quarter             826305 non-null  object \n",
      "dtypes: float64(1), object(11)\n",
      "memory usage: 75.7+ MB\n"
     ]
    }
   ],
   "source": [
    "df.info()"
   ]
  },
  {
   "cell_type": "code",
   "execution_count": 16,
   "id": "4c85962f",
   "metadata": {},
   "outputs": [],
   "source": [
    "# Check descriptive summary of dataset"
   ]
  },
  {
   "cell_type": "code",
   "execution_count": 17,
   "id": "6787e26a",
   "metadata": {},
   "outputs": [
    {
     "data": {
      "text/html": [
       "<div>\n",
       "<style scoped>\n",
       "    .dataframe tbody tr th:only-of-type {\n",
       "        vertical-align: middle;\n",
       "    }\n",
       "\n",
       "    .dataframe tbody tr th {\n",
       "        vertical-align: top;\n",
       "    }\n",
       "\n",
       "    .dataframe thead th {\n",
       "        text-align: right;\n",
       "    }\n",
       "</style>\n",
       "<table border=\"1\" class=\"dataframe\">\n",
       "  <thead>\n",
       "    <tr style=\"text-align: right;\">\n",
       "      <th></th>\n",
       "      <th>Prevailing_Wage</th>\n",
       "    </tr>\n",
       "  </thead>\n",
       "  <tbody>\n",
       "    <tr>\n",
       "      <th>count</th>\n",
       "      <td>826304.00000</td>\n",
       "    </tr>\n",
       "    <tr>\n",
       "      <th>mean</th>\n",
       "      <td>94172.56927</td>\n",
       "    </tr>\n",
       "    <tr>\n",
       "      <th>std</th>\n",
       "      <td>40046.33134</td>\n",
       "    </tr>\n",
       "    <tr>\n",
       "      <th>min</th>\n",
       "      <td>7.25000</td>\n",
       "    </tr>\n",
       "    <tr>\n",
       "      <th>25%</th>\n",
       "      <td>74006.00000</td>\n",
       "    </tr>\n",
       "    <tr>\n",
       "      <th>50%</th>\n",
       "      <td>93538.00000</td>\n",
       "    </tr>\n",
       "    <tr>\n",
       "      <th>75%</th>\n",
       "      <td>117125.00000</td>\n",
       "    </tr>\n",
       "    <tr>\n",
       "      <th>max</th>\n",
       "      <td>431897.00000</td>\n",
       "    </tr>\n",
       "  </tbody>\n",
       "</table>\n",
       "</div>"
      ],
      "text/plain": [
       "       Prevailing_Wage\n",
       "count     826304.00000\n",
       "mean       94172.56927\n",
       "std        40046.33134\n",
       "min            7.25000\n",
       "25%        74006.00000\n",
       "50%        93538.00000\n",
       "75%       117125.00000\n",
       "max       431897.00000"
      ]
     },
     "execution_count": 17,
     "metadata": {},
     "output_type": "execute_result"
    }
   ],
   "source": [
    "df.describe()"
   ]
  },
  {
   "cell_type": "code",
   "execution_count": 18,
   "id": "db4423f2",
   "metadata": {},
   "outputs": [],
   "source": [
    "# check whether is any null/NA value present in any column or not"
   ]
  },
  {
   "cell_type": "code",
   "execution_count": 20,
   "id": "5f0088e0",
   "metadata": {},
   "outputs": [
    {
     "data": {
      "text/plain": [
       "Visa_Class             0\n",
       "Employer_Name          2\n",
       "SOC_Title              2\n",
       "Job_Title              0\n",
       "Full_Time_Position     0\n",
       "Worksite              54\n",
       "Prevailing_Wage        1\n",
       "Unit_Of_Pay            1\n",
       "Employer_Location     64\n",
       "Employer_Country       0\n",
       "Case_Status            0\n",
       "Quarter                0\n",
       "dtype: int64"
      ]
     },
     "execution_count": 20,
     "metadata": {},
     "output_type": "execute_result"
    }
   ],
   "source": [
    "df.isna().sum()"
   ]
  },
  {
   "cell_type": "code",
   "execution_count": null,
   "id": "9c74bcd3",
   "metadata": {},
   "outputs": [],
   "source": [
    "# Here there are some column where null value present. so better option is drop it or fill with another value. we choose drop it."
   ]
  },
  {
   "cell_type": "code",
   "execution_count": 24,
   "id": "0117ea27",
   "metadata": {},
   "outputs": [
    {
     "data": {
      "text/plain": [
       "Visa_Class            0\n",
       "Employer_Name         0\n",
       "SOC_Title             0\n",
       "Job_Title             0\n",
       "Full_Time_Position    0\n",
       "Worksite              0\n",
       "Prevailing_Wage       0\n",
       "Unit_Of_Pay           0\n",
       "Employer_Location     0\n",
       "Employer_Country      0\n",
       "Case_Status           0\n",
       "Quarter               0\n",
       "dtype: int64"
      ]
     },
     "execution_count": 24,
     "metadata": {},
     "output_type": "execute_result"
    }
   ],
   "source": [
    "df.dropna(inplace=True)\n",
    "df.isna().sum()"
   ]
  },
  {
   "cell_type": "code",
   "execution_count": null,
   "id": "7d9f54bc",
   "metadata": {},
   "outputs": [],
   "source": [
    "#Take first column for analysis. Find out total class of visa"
   ]
  },
  {
   "cell_type": "code",
   "execution_count": 28,
   "id": "ddd41307",
   "metadata": {},
   "outputs": [
    {
     "data": {
      "text/plain": [
       "array(['H-1B', 'E-3 Australian', 'H-1B1 Singapore', 'H-1B1 Chile'],\n",
       "      dtype=object)"
      ]
     },
     "execution_count": 28,
     "metadata": {},
     "output_type": "execute_result"
    }
   ],
   "source": [
    "df['Visa_Class'].unique()"
   ]
  },
  {
   "cell_type": "code",
   "execution_count": null,
   "id": "4719d090",
   "metadata": {},
   "outputs": [],
   "source": [
    "# Here total 4 unique categories (type) of visa"
   ]
  },
  {
   "cell_type": "code",
   "execution_count": 26,
   "id": "07c1d738",
   "metadata": {},
   "outputs": [],
   "source": [
    "# Count total count visa class_wise "
   ]
  },
  {
   "cell_type": "code",
   "execution_count": 27,
   "id": "22753c6b",
   "metadata": {},
   "outputs": [
    {
     "data": {
      "text/plain": [
       "H-1B               803613\n",
       "E-3 Australian      18308\n",
       "H-1B1 Chile          2314\n",
       "H-1B1 Singapore      1948\n",
       "Name: Visa_Class, dtype: int64"
      ]
     },
     "execution_count": 27,
     "metadata": {},
     "output_type": "execute_result"
    }
   ],
   "source": [
    "df['Visa_Class'].value_counts()"
   ]
  },
  {
   "cell_type": "code",
   "execution_count": null,
   "id": "01516ecc",
   "metadata": {},
   "outputs": [],
   "source": [
    "# Plot above result with the help of count plot"
   ]
  },
  {
   "cell_type": "code",
   "execution_count": 92,
   "id": "6d951eaa",
   "metadata": {},
   "outputs": [
    {
     "data": {
      "image/png": "[encoded data removed]",
      "text/plain": [
       "<Figure size 864x648 with 1 Axes>"
      ]
     },
     "metadata": {
      "needs_background": "light"
     },
     "output_type": "display_data"
    }
   ],
   "source": [
    "plt.figure(figsize=(12,9))\n",
    "sns.countplot(df['Visa_Class'],data=df)\n",
    "plt.xticks(rotation=0)\n",
    "plt.show()"
   ]
  },
  {
   "cell_type": "code",
   "execution_count": null,
   "id": "6f6b6150",
   "metadata": {},
   "outputs": [],
   "source": [
    "# Take second column for analysis"
   ]
  },
  {
   "cell_type": "code",
   "execution_count": 38,
   "id": "0f4be607",
   "metadata": {},
   "outputs": [
    {
     "data": {
      "text/plain": [
       "array(['Hexaware Technologies Inc.', 'WIPRO LIMITED',\n",
       "       'Mastech Digital InfoTech, Inc.', ...,\n",
       "       ' Signature Diagnostics, Inc', 'Signature Diagnostics, Inc ',\n",
       "       'Chivico Corp'], dtype=object)"
      ]
     },
     "execution_count": 38,
     "metadata": {},
     "output_type": "execute_result"
    }
   ],
   "source": [
    "df['Employer_Name'].unique()"
   ]
  },
  {
   "cell_type": "code",
   "execution_count": 69,
   "id": "af298542",
   "metadata": {},
   "outputs": [
    {
     "data": {
      "text/plain": [
       "Employer_Name                         \n",
       "COGNIZANT TECHNOLOGY SOLUTIONS US CORP    19525\n",
       "Google LLC                                15840\n",
       "Microsoft Corporation                     11763\n",
       "Ernst & Young U.S. LLP                    10281\n",
       "TATA CONSULTANCY SERVICES LIMITED          8800\n",
       "                                          ...  \n",
       "LE BOOK PUBLISHING INC.                       1\n",
       "LDa Architecture & Interiors LLP              1\n",
       "LDDI LLC                                      1\n",
       "LDA Design Group, Inc.                        1\n",
       "LINDE ENGINEERING NORTH AMERICA, LLC          1\n",
       "Length: 63610, dtype: int64"
      ]
     },
     "execution_count": 69,
     "metadata": {},
     "output_type": "execute_result"
    }
   ],
   "source": [
    "df[['Employer_Name']].value_counts()"
   ]
  },
  {
   "cell_type": "code",
   "execution_count": 70,
   "id": "8fc3cdf5",
   "metadata": {},
   "outputs": [
    {
     "data": {
      "image/png": "[encoded data removed]",
      "text/plain": [
       "<Figure size 936x648 with 1 Axes>"
      ]
     },
     "metadata": {
      "needs_background": "light"
     },
     "output_type": "display_data"
    }
   ],
   "source": [
    "plt.figure(figsize=(13,9))\n",
    "sns.countplot(df['Employer_Name'].head(20),data=df)\n",
    "plt.xticks(rotation=90)\n",
    "plt.show()"
   ]
  },
  {
   "cell_type": "code",
   "execution_count": 72,
   "id": "8d1c2019",
   "metadata": {},
   "outputs": [
    {
     "data": {
      "text/plain": [
       "array(['Software Developers, Applications', 'Computer Programmers',\n",
       "       'Computer Systems Analysts', 'Database Administrators',\n",
       "       'Information Technology Project Managers',\n",
       "       'Computer Systems Engineers/Architects',\n",
       "       'Search Marketing Strategists', 'Computer Network Architects',\n",
       "       'Electronics Engineers, Except Computer', 'Mechanical Engineers',\n",
       "       'Software Developers, Systems Software',\n",
       "       'Computer Occupations, All Other', 'Aerospace Engineers',\n",
       "       'Management Analysts', 'Information Security Analysts',\n",
       "       'Web Developers', 'Network And Computer Systems Administrators',\n",
       "       'Software Quality Assurance Engineers And Testers',\n",
       "       'Computer And Information Systems Managers',\n",
       "       'Human Resources Specialists', 'Operations Research Analysts',\n",
       "       'Business Intelligence Analysts', 'Sales Engineers',\n",
       "       'Data Warehousing Specialists', 'Database Architects',\n",
       "       'Human Resources Managers', 'Commercial And Industrial Designers',\n",
       "       'Speech-Language Pathologists', 'Validation Engineers',\n",
       "       'Electrical Engineers', 'Dentists, General',\n",
       "       'Computer Hardware Engineers', 'Statisticians', 'Chemists',\n",
       "       'Architectural Drafters', 'Physicians And Surgeons, All Other',\n",
       "       'Computer And Information Research Scientists',\n",
       "       'Industrial Engineers',\n",
       "       'Medical Scientists, Except Epidemiologists',\n",
       "       'Physical Therapists', 'Physicists',\n",
       "       'Molecular And Cellular Biologists', 'Editors',\n",
       "       'Biological Technicians', 'Physician Assistants',\n",
       "       'Materials Scientists', 'Biochemists And Biophysicists',\n",
       "       'Accountants', 'Physical Medicine And Rehabilitation Physicians',\n",
       "       'Social Science Research Assistants',\n",
       "       'Architects, Except Landscape And Naval', 'Financial Analysts',\n",
       "       'Civil Engineers', 'Computer Network Support Specialists',\n",
       "       'Actuaries', 'Art Directors', 'Biological Scientists, All Other',\n",
       "       'Optometrists', 'Hospitalists', 'Financial Managers',\n",
       "       'Animal Trainers', 'Environmental Engineers',\n",
       "       'Urban And Regional Planners',\n",
       "       'Architectural And Engineering Managers', 'Lawyers',\n",
       "       'Compliance Officers', 'Chief Executives',\n",
       "       'Accountants And Auditors',\n",
       "       'Geospatial Information Scientists And Technologists',\n",
       "       'Financial Quantitative Analysts', 'Psychiatrists', 'Sociologists',\n",
       "       'Health Specialties Teachers, Postsecondary',\n",
       "       'Biomedical Engineers',\n",
       "       'Environmental Scientists And Specialists, Including Health',\n",
       "       'Market Research Analysts And Marketing Specialists',\n",
       "       'Veterinarians', 'Mathematicians',\n",
       "       'Chemistry Teachers, Postsecondary', 'Marketing Managers',\n",
       "       'Family And General Practitioners', 'Clinical Psychologists',\n",
       "       'Clinical Data Managers', 'Surgeons', 'Logisticians',\n",
       "       'Aerospace Engineering And Operations Technicians',\n",
       "       'Regulatory Affairs Specialists',\n",
       "       'Financial Specialists, All Other', 'Civil Engineers, R&D',\n",
       "       'Management Analyst', 'Natural Sciences Managers',\n",
       "       'Registered Nurses', 'Materials Engineers',\n",
       "       'Civil Engineering Technicians', 'Life Scientists, All Other',\n",
       "       'General And Operations Managers', 'Chemical Engineers',\n",
       "       'Judicial Law Clerks',\n",
       "       'Social Sciences Teachers, Postsecondary, All Other',\n",
       "       'Petroleum Engineers',\n",
       "       'Software Developers, Applications, Non R&D',\n",
       "       'Construction Managers',\n",
       "       'Middle School Teachers, Except Special And Career/Technical Education',\n",
       "       'Education Administrators, Preschool And Childcare Center/Program',\n",
       "       'Risk Management Specialists', 'Technical Writers',\n",
       "       'Transportation Planners',\n",
       "       'Business Operations Specialists, All Other',\n",
       "       'Supply Chain Managers', 'Graphic Designers',\n",
       "       'Engineering Teachers, Postsecondary', 'Cost Estimators',\n",
       "       'Education Teachers, Postsecondary',\n",
       "       'Obstetricians And Gynecologists',\n",
       "       'Training And Development Specialists',\n",
       "       'Secondary School Teachers, Except Special And Career/Technical Education',\n",
       "       'Investment Fund Managers', 'Electrical Engineers, R&D',\n",
       "       'Mechanical Engineers, R&D', 'Occupational Therapists',\n",
       "       'Purchasing Managers',\n",
       "       'Securities, Commodities, And Financial Services Sales Agents',\n",
       "       'Astronomers', 'Soil And Plant Scientists', 'Biostatisticians',\n",
       "       'Photonics Engineers', 'Mechatronics Engineers',\n",
       "       'Logistics Managers', 'Food Scientists And Technologists',\n",
       "       'Business Teachers, Postsecondary', 'Neurologists',\n",
       "       'Geoscientists, Except Hydrologists And Geographers', 'Economists',\n",
       "       'Internists, General', 'Economics Teachers, Postsecondary',\n",
       "       'Energy Engineers',\n",
       "       'Medical And Clinical Laboratory Technologists',\n",
       "       'Neuropsychologists And Clinical Neuropsychologists',\n",
       "       'Industrial Production Managers',\n",
       "       'Mental Health And Substance Abuse Social Workers',\n",
       "       'Computer Programmers, R&D', 'Public Relations Specialists',\n",
       "       'Transportation, Storage, And Distribution Managers',\n",
       "       'Health Diagnosing And Treating Practitioners, All Other',\n",
       "       'Epidemiologists', 'Biological Science Teachers, Postsecondary',\n",
       "       'Animal Scientists', 'Logistics Analysts',\n",
       "       'Computer Systems Analysts, Non R&D',\n",
       "       'Mechanical Engineering Technicians', 'Statistical Assistants',\n",
       "       'Software Developers, Systems Software, R&D',\n",
       "       'Wind Energy Engineers', 'Geography Teachers, Postsecondary',\n",
       "       'Bioinformatics Scientists', 'Fitness And Wellness Coordinators',\n",
       "       'Pharmacists',\n",
       "       'Purchasing Agents, Except Wholesale, Retail, And Farm Products',\n",
       "       'Robotics Engineers',\n",
       "       'Elementary School Teachers, Except Special Education',\n",
       "       'Manufacturing Engineers', 'Clinical Research Coordinators',\n",
       "       'Biochemical Engineers', 'Medical And Health Services Managers',\n",
       "       'Auditors', 'Budget Analysts',\n",
       "       'Computer Science Teachers, Postsecondary',\n",
       "       'Agricultural Sciences Teachers, Postsecondary',\n",
       "       'Computer User Support Specialists',\n",
       "       'Multimedia Artists And Animators', 'Interior Designers',\n",
       "       'Art, Drama, And Music Teachers, Postsecondary',\n",
       "       'Philosophy And Religion Teachers, Postsecondary',\n",
       "       'Neurodiagnostic Technologists',\n",
       "       'Sociology Teachers, Postsecondary',\n",
       "       'Radio Frequency Identification Device Specialists',\n",
       "       'Library Science Teachers, Postsecondary', 'Engineers, All Other',\n",
       "       'Microbiologists', 'Landscape Architects',\n",
       "       'Pediatricians, General', 'Healthcare Social Workers',\n",
       "       'Automotive Engineers', 'Treasurers And Controllers',\n",
       "       'Software Developers, Systems Software, Non R&D',\n",
       "       'Healthcare Practitioners And Technical Workers, All Other',\n",
       "       'Remote Sensing Scientists And Technologists',\n",
       "       'Audio-Visual And Multimedia Collections Specialists',\n",
       "       'Advertising And Promotions Managers',\n",
       "       'Regulatory Affairs Managers',\n",
       "       'Occupational Health And Safety Specialists',\n",
       "       'Histotechnologists And Histologic Technicians',\n",
       "       'Instructional Coordinators', 'Procurement Clerks',\n",
       "       'Software Developers, Applications\\\\',\n",
       "       'Physics Teachers, Postsecondary',\n",
       "       'Instructional Designers And Technologists',\n",
       "       'Conservation Scientists',\n",
       "       'Human Factors Engineers And Ergonomists',\n",
       "       'Educational, Guidance, School, And Vocational Counselors',\n",
       "       'Industrial Engineering Technologists', 'Chiropractors',\n",
       "       'Foreign Language And Literature Teachers, Postsecondary',\n",
       "       'Software Developers, Applications, R&D', 'Sales Managers',\n",
       "       'Transportation Engineers',\n",
       "       'Environmental Science Teachers, Postsecondary',\n",
       "       'Mathematical Science Teachers, Postsecondary', 'Urologists',\n",
       "       'Credit Analysts', 'Cartographers And Photogrammetrists',\n",
       "       'Health Educators', 'Coaches And Scouts',\n",
       "       'Financial Managers, Branch Or Department',\n",
       "       'Special Education Teachers, Secondary School',\n",
       "       'Nurse Practitioners', 'Historians',\n",
       "       'Directors, Religious Activities And Education',\n",
       "       'Health And Safety Engineers, Except Mining Safety Engineers And Inspectors',\n",
       "       'Pathologists',\n",
       "       'Atmospheric, Earth, Marine, And Space Sciences Teachers, Postsecondary',\n",
       "       'Childcare Workers', 'Industrial Safety And Health Engineers',\n",
       "       'Geneticists', 'Quality Control Systems Managers', 'Orthodontists',\n",
       "       'Software Developers', 'Information Technology Project Manager',\n",
       "       'Special Education Teachers, All Other', 'Film And Video Editors',\n",
       "       'Wholesale And Retail Buyers, Except Farm Products',\n",
       "       'Reporters And Correspondents', 'Nanosystems Engineers',\n",
       "       'Preschool Teachers, Except Special Education',\n",
       "       'Paralegals And Legal Assistants', 'Rehabilitation Counselors',\n",
       "       'Logistics Engineers', 'Genetic Counselors',\n",
       "       'Atmospheric And Space Scientists', 'Marine Engineers', 'Curators',\n",
       "       'Solar Energy Systems Engineers', 'Mental Health Counselors',\n",
       "       'Special Education Teachers, Middle School',\n",
       "       'Water/Wastewater Engineers', 'Postsecondary Teachers, All Other',\n",
       "       'Public Relations And Fundraising Managers',\n",
       "       'Career/Technical Education Teachers, Secondary School',\n",
       "       'Licensed Practical And Licensed Vocational Nurses',\n",
       "       'Engineering Technicians, Except Drafters, All Other',\n",
       "       'Directors- Stage, Motion Pictures, Television, And Radio',\n",
       "       'English Language And Literature Teachers, Postsecondary',\n",
       "       'Recreational Therapists',\n",
       "       'Education Administrators, Postsecondary',\n",
       "       'Bookkeeping, Accounting, And Auditing Clerks',\n",
       "       'Nuclear Medicine Physicians', 'Agricultural Engineers',\n",
       "       'Social And Community Service Managers',\n",
       "       'Dentists, All Other Specialists', 'Nuclear Engineers',\n",
       "       'Psychology Teachers, Postsecondary', 'Geographers',\n",
       "       'Computer Network Architects, Non R&D',\n",
       "       'Computer And Information Systems Manager',\n",
       "       'Product Safety Engineers', 'Dietitians And Nutritionists',\n",
       "       'Compensation, Benefits, And Job Analysis Specialists',\n",
       "       'Audiologists', 'Industrial-Organizational Psychologists',\n",
       "       'Survey Researchers', 'Geographic Information Systems Technicians',\n",
       "       'Tutors', 'Molecullar And Cellular Biologist',\n",
       "       'Education, Training, And Library Workers, All Other',\n",
       "       'Market Research Analysts And Marketing', 'Mechanical Drafters',\n",
       "       'Training And Development Managers',\n",
       "       'Mathematical Science Occupations, All Other',\n",
       "       'Exercise Physiologists', 'Bioinformatics Technicians',\n",
       "       'Museum Technicians And Conservators',\n",
       "       'Computer Hardware Engineers, Non R&D', 'Compliance Managers',\n",
       "       'Administrative Services Managers',\n",
       "       'Education Administrators, Elementary And Secondary School',\n",
       "       'Computer Systems Analysts, R&D',\n",
       "       'Manufacturing Engineering Technologists',\n",
       "       'Special Education Teachers, Kindergarten And Elementary School',\n",
       "       'Medical And Clinical Laboratory Technicians',\n",
       "       'Architecture Teachers, Postsecondary',\n",
       "       'Kindergarten Teachers, Except Special Education',\n",
       "       'Fashion Designers', 'Radiologists',\n",
       "       'Software Developer, Applications', 'Designers, All Other',\n",
       "       'Sales Representatives, Wholesale And Manufacturing, Except Technical And Scientific Products',\n",
       "       'Archivists', 'Producers And Directors', 'Hydrologist',\n",
       "       'Telecommunications Engineering Specialists',\n",
       "       'It Product Managers', 'Mechanical Engineer',\n",
       "       'Computer Programmers, Non R&D', 'Sustainability Specialists',\n",
       "       'Managers, All Other',\n",
       "       'Sales Representatives, Wholesale And Manufacturing, Technical And Scientific Products',\n",
       "       'Librarians', 'Lodging Managers', 'Respiratory Therapists',\n",
       "       'Teachers And Instructors, All Other',\n",
       "       'Distance Learning Coordinators',\n",
       "       'Self-Enrichment Education Teachers',\n",
       "       'Software Developers, Applications, Non R & D',\n",
       "       'Legal Support Workers, All Other',\n",
       "       'Recreation And Fitness Studies Teachers, Postsecondary',\n",
       "       'Chefs And Head Cooks', 'Communications Teachers, Postsecondary',\n",
       "       'History Teachers, Postsecondary',\n",
       "       'Fraud Examiners, Investigators And Analysts', 'Hydrologists',\n",
       "       'Physical Scientists, All Other', 'Interpreters And Translators',\n",
       "       'Medical Records And Health Information Technicians',\n",
       "       'Clinical, Counseling, And School Psychologists',\n",
       "       'Sales Agents, Securities And Commodities',\n",
       "       'Political Science Teachers, Postsecondary',\n",
       "       'Residential Advisors', 'Psychologists, All Other',\n",
       "       'Preventive Medicine Physicians',\n",
       "       'Compensation And Benefits Managers',\n",
       "       'Meeting, Convention, And Event Planners',\n",
       "       'Natural Sciences, Managers',\n",
       "       'Life, Physical, And Social Science Technicians, All Other',\n",
       "       'Social Work Teachers, Postsecondary',\n",
       "       'Area, Ethnic, And Cultural Studies Teachers, Postsecondary',\n",
       "       'Anesthesiologists', 'Web Administrators', 'Fundraisers',\n",
       "       'Anthropology And Archeology Teachers, Postsecondary',\n",
       "       'Forestry And Conservation Science Teachers, Postsecondary',\n",
       "       'Civil Drafters', 'Choreographers', 'Athletic Trainers',\n",
       "       'Quality Control Analysts', 'Zoologists And Wildlife Biologists',\n",
       "       'Set And Exhibit Designers', 'Soil And Water Conservationists',\n",
       "       'Clinical Nurse Specialist',\n",
       "       'Nuclear Equipment Operation Technicians',\n",
       "       'Construction And Related Workers, All Other',\n",
       "       'Social Workers, All Other', 'Operations Research Analyst',\n",
       "       'Poets, Lyricists And Creative Writers',\n",
       "       'Business Continuity Planners',\n",
       "       'Physician And Surgeons, All Other',\n",
       "       'Storage And Distribution Managers', 'Recreation Workers',\n",
       "       'Insurance Underwriters', 'Computer Systems Analyst',\n",
       "       'Securities And Commodities Traders',\n",
       "       'Security Management Specialists', 'Food Service Managers',\n",
       "       'Architectural And Civil Drafters',\n",
       "       'Nursing Instructors And Teachers, Postsecondary',\n",
       "       'Nanotechnology Engineering Technologists',\n",
       "       'Transportation Inspectors', 'Molecular & Cellular Biologists',\n",
       "       'Accountant And Auditor', 'Microsystems Engineers',\n",
       "       'Substance Abuse And Behavioral Disorder Counselors',\n",
       "       'Computer Hardware Engineers, R&D',\n",
       "       'Marine Engineers And Naval Architects', 'Copy Writers',\n",
       "       'Regulatory Affairs Specialist', 'Transportation Managers',\n",
       "       'Executive Secretaries And Executive Administrative Assistants',\n",
       "       'Producers', 'Counselors, All Other',\n",
       "       'Document Management Specialists', 'Political Scientists',\n",
       "       'Office And Administrative Support Workers, All Other',\n",
       "       'Electronics Engineering Technicians',\n",
       "       'Stationary Engineers And Boiler Operators',\n",
       "       'Software Developments, Applications',\n",
       "       'Industrial Engineering Technicians', 'Fuel Cell Engineers',\n",
       "       'Electronic Drafters',\n",
       "       'Aircraft Mechanics And Service Technicians',\n",
       "       'Emergency Management Directors',\n",
       "       'Software Developers, Systems Software\\\\',\n",
       "       'Electronics Engineers, Except Computer, Non R&D',\n",
       "       'Ophthalmologists', 'Business Intelligence Analysts\\\\',\n",
       "       'Property, Real Estate, And Community Association Managers',\n",
       "       'Electrical And Electronic Engineering Technicians',\n",
       "       'Mining And Geological Engineers, Including Mining Safety Engineers',\n",
       "       'School Psychologists', 'Database Administrators\\\\',\n",
       "       'Credit Counselors', 'Clergy',\n",
       "       'Communication Teachers, Postsecondary',\n",
       "       'Software Developers. Application', 'Video Game Designers',\n",
       "       'Music Directors', 'Agricultural And Food Science Technicians',\n",
       "       'Orthotists And Prosthetists', 'Environmental Economists',\n",
       "       'Orthoptists', 'Biologists', 'Prosthodontists',\n",
       "       'Electrical Engineering Technologists', 'Financial Specialist',\n",
       "       'Electronics Engineers, Except Computer, R&D',\n",
       "       'Religious Workers, All Other',\n",
       "       'Anthropologists And Archeologists',\n",
       "       'Social Scientists And Related Workers, All Other',\n",
       "       'Mechanical Engineering Technologists', 'Financial Examiners',\n",
       "       'Computer Occupations, All Other (Database Architects)',\n",
       "       'Marriage And Family Therapists',\n",
       "       'Child, Family, And School Social Workers',\n",
       "       'Geological And Petroleum Technicians',\n",
       "       'Community And Social Service Specialists, All Other',\n",
       "       'Pharmacy Technicians', 'Farm And Home Management Advisors',\n",
       "       'Critical Care Nurses',\n",
       "       'Airline Pilots, Copilots, And Flight Engineers',\n",
       "       'Musicians And Singers',\n",
       "       'Computer Systems Engineers And Architects',\n",
       "       'Environmental Science And Protection Technicians, Including Health',\n",
       "       'Information Security Advisor',\n",
       "       'Elementary School Teachers, Except Special Edu',\n",
       "       'Environmental Engineering Technicians',\n",
       "       'Special Education Teachers, Preschool',\n",
       "       'Fire-Prevention And Protection Engineers', 'Radiation Therapists',\n",
       "       'Nurse Anesthetists',\n",
       "       'Vocational Education Teachers, Postsecondary',\n",
       "       'Criminal Justice And Law Enforcement Teachers, Postsecondary',\n",
       "       'Counseling Psychologists', 'Sound Engineering Technicians',\n",
       "       'Oral And Maxillofacial Surgeons',\n",
       "       'Agents And Business Managers Of Artists, Performers, And Athletes',\n",
       "       'Writers And Authors', 'Informatics Nurse Specialists',\n",
       "       'Medical Equipment Repairers',\n",
       "       'Software Developers, Systems, Non R&D', 'Energy Engineer',\n",
       "       'Personal Financial Advisors', 'Software Developers Applications',\n",
       "       'Therapists, All Other',\n",
       "       'Photographic Process Workers And Processing Machine Operators',\n",
       "       'Pediatricians,General', 'Hazardous Materials Removal Workers',\n",
       "       'Software Quality Assurance Analysts And Testers', 'Photographers',\n",
       "       'Naturopathic Physicians', 'Computer Occupations, All Othe',\n",
       "       'Statistician', 'Electrical Engineer', 'Surveyors',\n",
       "       'Mechanical Engineers, Non R&D',\n",
       "       'Customer Service Representatives', 'Industrial Ecologists',\n",
       "       'Secretaries And Administrative Assistants, Except Legal, Medical, And Executive',\n",
       "       'Media And Communication Workers, All Other',\n",
       "       'Chemical Technicians', 'Civil Engineers, Non R&D',\n",
       "       'Agricultural Inspectors', 'Loan Interviewers And Clerks',\n",
       "       'Sales And Related Workers, All Other',\n",
       "       'Sales Representatives, Services, All Other',\n",
       "       'Probation Officers And Correctional Treatment Specialists',\n",
       "       'Technical Directors/Managers',\n",
       "       'Social And Human Service Assistants', 'Commercial Pilots',\n",
       "       'Advertising Sales Agents',\n",
       "       'First-Line Supervisors Of Construction Trades And Extraction Workers',\n",
       "       'Human Resources Assistants, Except Payroll And Timekeeping',\n",
       "       'First-Line Supervisors Of Retail Sales Workers',\n",
       "       'Camera Operators, Television, Video, And Motion Picture',\n",
       "       'Separating, Filtering, Clarifying, Precipitating, And Still Machine Setters, Operators, And Tenders',\n",
       "       'Media And Communication Equipment Workers, All Other',\n",
       "       'First-Line Supervisors Of Production And Operating Workers',\n",
       "       'Law Teachers, Postsecondary',\n",
       "       'First-Line Supervisors Of Agricultural Crop And Horticultural Workers',\n",
       "       'Farmers, Ranchers, And Other Agricultural Managers',\n",
       "       'Travel Agents',\n",
       "       'First-Line Supervisors Of Landscaping, Lawn Service, And Groundskeeping Workers',\n",
       "       'First-Line Supervisors Of Non-Retail Sales Workers',\n",
       "       'Sales Agents, Financial Services',\n",
       "       'Artists And Related Workers, All Other',\n",
       "       'Production, Planning, And Expediting Clerks',\n",
       "       'Building Cleaning Workers, All Other', 'Animal Breeders',\n",
       "       'Program Directors', 'Online Merchants', 'Investment Underwriters',\n",
       "       'Emergency Medical Technicians And Paramedics',\n",
       "       'Farm And Ranch Managers', 'Environmental Restoration Planners',\n",
       "       'First-Line Supervisors Of Mechanics, Installers, And Repairers',\n",
       "       'Teacher Assistants', 'Automotive Master Mechanics',\n",
       "       'Music Directors And Composers', 'Cytogenetic Technologists',\n",
       "       'Aquacultural Managers', 'Food Science Technicians',\n",
       "       'Acupuncturists', 'Veterinary Technologists And Technicians',\n",
       "       'Brickmasons And Blockmasons',\n",
       "       'Advanced Practice Psychiatric Nurses', 'Security Managers',\n",
       "       'Accountant', 'Computer Systems Engineer/Architects',\n",
       "       'Wind Energy Project Managers',\n",
       "       'Computer & Information Research Scientists', 'Foresters',\n",
       "       'Engineers, All Others',\n",
       "       'Buyers And Purchasing Agents, Farm Products',\n",
       "       'Electrical And Electronics Drafters',\n",
       "       'Door-To-Door Sales Workers, News And Street Vendors, And Related Workers',\n",
       "       'Sports Medicine Physicians', 'Loan Officers',\n",
       "       'Database Administrator',\n",
       "       'Arbitrators, Mediators, And Conciliators',\n",
       "       'Welders, Cutters, And Welder Fitters', 'Energy Auditors',\n",
       "       'Chief Sustainability Officers', 'Climate Change Analysts',\n",
       "       'Music Therapists', 'Natural Science Managers',\n",
       "       'Physicians And Surgeons, All Toher',\n",
       "       'First-Line Supervisors Of Housekeeping And Janitorial Workers',\n",
       "       'Electricians', 'Agricultural Technicians',\n",
       "       'Home Economics Teachers, Postsecondary',\n",
       "       'Equal Opportunity Representatives And Officers',\n",
       "       'New Accounts Clerks', 'Internists General',\n",
       "       'Software Developers, System Software',\n",
       "       'Appraisers And Assessors Of Real Estate',\n",
       "       'Geophysical Data Technicians',\n",
       "       'Farm Equipment Mechanics And Service Technicians',\n",
       "       'Adult Basic And Secondary Education And Literacy Teachers And Instructors',\n",
       "       'Healthcare Support Workers, All Other',\n",
       "       'Forensic Science Technicians', 'Web Administrator',\n",
       "       'Clinical Nurse Specialists',\n",
       "       'Interviewers, Except Eligibility And Loan',\n",
       "       'Environmental Compliance Inspectors',\n",
       "       'Ophthalmic Medical Technologists', 'Purchasing Manager',\n",
       "       'Architects', 'Business Intelligence Analyst',\n",
       "       'Claims Adjusters, Examiners, And Investigators',\n",
       "       'Personal Care Aides', 'Audio And Video Equipment Technicians',\n",
       "       'Foreign Language And Literature Teacher, Postsecondary',\n",
       "       'Education Administrators, All Other',\n",
       "       'Dieticians And Nutritionists', 'Radiologic Technologists',\n",
       "       'Freight And Cargo Inspectors',\n",
       "       'Medical Scientist, Except Epidemiologist',\n",
       "       'Jewelers And Precious Stone And Metal Workers',\n",
       "       'Shipping, Receiving, And Traffic Clerks', 'Anesthesiologist',\n",
       "       'Community Health Workers', 'Dermatologists',\n",
       "       'Software Quality Assurance Engineer And Tester',\n",
       "       'Veterinary Assistants And Laboratory Animal Caretakers',\n",
       "       'Software Quality Assurance Analysts & Testers',\n",
       "       'General & Operations Managers',\n",
       "       'Computer Information Systems Managers',\n",
       "       'Operation Research Analyst', 'Financial Analyst',\n",
       "       'Costume Attendants', 'Private Detectives And Investigators',\n",
       "       'Software Development, Applications',\n",
       "       'Operation Research Analysts', 'Home Health Aides',\n",
       "       'Detectives And Criminal Investigators',\n",
       "       'Fine Artists, Including Painters, Sculptors, And Illustrators',\n",
       "       'Travel Guides', 'Demonstrators And Product Promoters',\n",
       "       'Hospitalist Physician',\n",
       "       'Fitness Trainers And Aerobics Instructors',\n",
       "       'City And Regional Planning Aides', '2800 Rockcreek Parkway',\n",
       "       'Medical Scientist, Except Epidemiologists',\n",
       "       'Adapted Physical Education Specialists', 'Loan Counselors',\n",
       "       'Industrial Engineer',\n",
       "       'Secondary School Teachers, Except Special Career/Technical Education',\n",
       "       'Insurance Sales Agents', 'Software Developer, Systems Software',\n",
       "       'Microbiologist', 'Mathematical Science Teachers, Post Secondary',\n",
       "       'Psychiatrist', 'Electrical Engineers, Non R&D',\n",
       "       'Architectural And Engineer Managers',\n",
       "       'Software Developers, Application',\n",
       "       'Entertainers And Performers, Sports And Related Workers, All Other',\n",
       "       'Intelligence Analysts',\n",
       "       'Computer Occupations, All Other (Computer Systems Engineers/Architects)',\n",
       "       'First-Line Supervisors Of Office And Administrative Support Workers',\n",
       "       '25-1065', 'Cytotechnologists',\n",
       "       'Inspectors, Testers, Sorters, Samplers, And Weighers',\n",
       "       'Accountant And Auditors', 'Dental Laboratory Technicians',\n",
       "       'Tax Preparers', 'Musical Instrument Repairers And Tuners',\n",
       "       'Automotive Service Technicians And Mechanics',\n",
       "       'Secondary School Teachers, Except Special And Career/Technical  Education',\n",
       "       'Software Developers, Applications.',\n",
       "       'Biofuels/Biodiesel Technology And Product Development Managers',\n",
       "       'Software Developers, Applications`', 'Internist, General',\n",
       "       'Anthropologists', 'Umpires, Referees, And Other Sports Officials',\n",
       "       'Software Developers, Applicants',\n",
       "       'Cardiovascular Technologists And Technicians',\n",
       "       'Janitors And Cleaners, Except Maids And Housekeeping Cleaners',\n",
       "       'Foreign Language Teachers, Postsecondary',\n",
       "       'Tax Examiners And Collectors, And Revenue Agents',\n",
       "       'Financial Manager', 'Recreation Worker',\n",
       "       'Allergists And Immunologists',\n",
       "       'Licensing Examiners And Inspectors',\n",
       "       'Computer Systems Engineers/ Architects', 'Cooks, Restaurant',\n",
       "       'First-Line Supervisors Of Farming, Fishing, And Forestry Workers',\n",
       "       'Merchandise Displayers And Window Trimmers',\n",
       "       'Office Clerks, General', 'Computer Network Architects, R&D',\n",
       "       'Software Developers, Applications, Non-R&D', 'Green Marketers',\n",
       "       'Receptionists And Information Clerks',\n",
       "       'Information Security Analyst',\n",
       "       'Security And Fire Alarm Systems Installers',\n",
       "       'Construction Laborers', 'Energy Brokers',\n",
       "       'Psychiatric Technicians',\n",
       "       'Textile, Apparel, And Furnishings Workers, All Other',\n",
       "       'Installation, Maintenance, And Repair Workers, All Other',\n",
       "       'Farmworkers And Laborers, Crop, Nursery, And Greenhouse',\n",
       "       'Retail Salespersons', 'Hotel, Motel, And Resort Desk Clerks',\n",
       "       'Loss Prevention Managers', 'Geodetic Surveyors',\n",
       "       'Electrical Engineering Technicians', 'Archeologists',\n",
       "       'Nuclear Technicians', 'Forest Firefighters', 'Civil Engineer',\n",
       "       'Electromechanical Engineering Technologists', 'Biostatistician',\n",
       "       'Models', 'Architectural And Engineer Manager',\n",
       "       'Mathematical Technicians', 'Manufacturing Engineer',\n",
       "       'Police Detectives', 'Fabric And Apparel Patternmakers',\n",
       "       'Network And Computer Systems Administrator',\n",
       "       'Labor Relations Specialists', 'Logistician',\n",
       "       'Computer Systems Analyts', 'Podiatrists',\n",
       "       'Financial Clerks, All Other', 'Database Architect',\n",
       "       'Sales Representatives, Wholesale And',\n",
       "       'Market Research Analyst And Marketing Specialists',\n",
       "       'Physicians, All Other', 'Information Technology Program Managers',\n",
       "       'Art Therapists', 'Astronomer',\n",
       "       'Atmospheric, Earth, Marine And Space Sciences Teachers, Postsecondary',\n",
       "       'Electrical Engineering',\n",
       "       'Architects (Except Landscape And Naval)',\n",
       "       'Secondary School Teachers, Except Special And Care',\n",
       "       'Mapping Technicians', 'Computer Applications, All Other',\n",
       "       'Architect, Except Landscape And Naval',\n",
       "       'Art, Drama And Music Teachers, Postsecondary',\n",
       "       'Maids And Housekeeping Cleaners',\n",
       "       'Payroll And Timekeeping Clerks',\n",
       "       'Software Developers. Applications', 'Talent Directors',\n",
       "       'Software Engineers, Applications', 'Pediatric Surgeons',\n",
       "       'Appraisers, Real Estate', 'Bioinformatics Technician',\n",
       "       'Elementary School Teacher', 'Physician--Endocrinologist',\n",
       "       'Landscaping And Groundskeeping Workers',\n",
       "       'Construction And Building Inspectors',\n",
       "       'Multimedia Artist And Animators', 'Anesthesiologist Assistants',\n",
       "       'Supply Chain Manager', 'Business Teachers, Post-Secondary',\n",
       "       '15-1199.02 Computer Systems Engineers/Architects',\n",
       "       'Middle School Teacher', 'Acute Care Nurses',\n",
       "       'Information Technology Managers',\n",
       "       'Health Technologists And Technicians, All Other',\n",
       "       'Radio And Television Announcers',\n",
       "       'Farmworkers, Farm, Ranch, And Aquacultural Animals',\n",
       "       'Musicians, Instrumental', '15-1132',\n",
       "       'Computer Systems Engineers /Architects',\n",
       "       'Diagnostic Medical Sonographers', 'Marine Architects',\n",
       "       'Aircraft Structure, Surfaces, Rigging, And Systems Assemblers',\n",
       "       'Water Resource Specialists',\n",
       "       'Software Quality Assurance Engineers',\n",
       "       'Bioengineers And Biomedical Engineers', 'Patient Representatives',\n",
       "       'Telecommunications Line Installers And Repairers',\n",
       "       'Robotics Engineer', 'Cargo And Freight Agents',\n",
       "       'Medical Secretaries',\n",
       "       'Software Quality And Assurance Analysts And Testers',\n",
       "       'Hairdressers, Hairstylists, And Cosmetologists',\n",
       "       'Data Scientists', 'Traffic Technicians',\n",
       "       'Architechtural And Civil Drafters', 'Secondary School Teacher',\n",
       "       'Food Processing Workers, All Other',\n",
       "       'Architectual And Engineering Managers',\n",
       "       'Managers, All Other - Investment Fund Managers',\n",
       "       'Skincare Specialists', 'Proofreaders And Copy Markers',\n",
       "       'Glass Blowers, Molders, Benders, And Finishers',\n",
       "       'Maintenance And Repair Workers, General',\n",
       "       'Career/Technical Education Teachers, Middle School',\n",
       "       'Billing And Posting Clerks', 'Butchers And Meat Cutters',\n",
       "       'Wind Energy Operations Managers',\n",
       "       'Insurance Appraisers, Auto Damage',\n",
       "       'Precision Agriculture Technicians',\n",
       "       'Foreign Language & Literature Teachers, Postsecondary',\n",
       "       'Health Specialties Teacher, Postsecondary',\n",
       "       'Biomass Power Plant Managers', 'Coroners', 'Computer Programmer',\n",
       "       'First-Line Supervisors Of Food Preparation And Serving Workers',\n",
       "       'Social Sciences Teachers, Postsecondary, All Others',\n",
       "       'Electronics Engineering Technologists',\n",
       "       'Medical And Clinical Laboratory Technologist',\n",
       "       'Reservation And Transportation Ticket Agents And Travel Clerks',\n",
       "       'Physicians And Surgeons', 'Biological Scientists, All Others',\n",
       "       'Broadcast News Analysts', 'Family And General Practioners',\n",
       "       'Business Operations Specialists, All Others',\n",
       "       'Financial And Investment Analysts',\n",
       "       'Geological Sample Test Technicians', 'Nursing Assistants',\n",
       "       'Massage Therapists', 'Production Workers, All Other',\n",
       "       'Property, Real Estate, And Community Association Managaers',\n",
       "       'Tire Repairers And Changers', 'Surveying And Mapping Technicians',\n",
       "       'Industrial Machinery Mechanics',\n",
       "       'First-Line Supervisors Of Correctional Officers',\n",
       "       'Clinical Data Manager', 'Engine And Other Machine Assemblers',\n",
       "       'Information Technology Projects Manager',\n",
       "       'Nursery And Greenhouse Managers', 'Physics Teacher Postsecondary',\n",
       "       'Middle School Teacher, Except Special And Career/Technical',\n",
       "       'Graduate Teaching Assistants',\n",
       "       'Heavy And Tractor-Trailer Truck Drivers', 'Legal Secretaries',\n",
       "       '15-1199.01', 'Forest And Conservation Technicians',\n",
       "       'Textile Knitting And Weaving Machine Setters, Operators, And Tenders',\n",
       "       'Craft Artists', 'Tree Trimmers And Pruners',\n",
       "       'Stock Clerks, Sales Floor', 'Dental Assistants', 'Singers',\n",
       "       'Quality Assurance Engineers And Testers',\n",
       "       'Agricultural Science Teachers, Postsecondary', 'Municipal Clerks',\n",
       "       'Biological Teachers, Postsecondary', 'Data Scientist',\n",
       "       'Claims Examiners, Property And Casualty Insurance',\n",
       "       'Physicians & Surgeons, All Other',\n",
       "       'Graphic Designers Design Or Create Graphics To', 'Riggers',\n",
       "       'Financial Quantitative Analyst', 'Plumbers',\n",
       "       'Amusement And Recreation Attendants',\n",
       "       'Mining Machine Operators, All Other', 'Chemist', 'Nannies',\n",
       "       'Information Technology Project Mangers',\n",
       "       'Insurance Adjusters, Examiners, And Investigators',\n",
       "       'Real Estate Brokers',\n",
       "       'Secondary School Teachers, Except Special Career And Career/Technical Ed.',\n",
       "       'Market Research Analysts And Marketing Specialist',\n",
       "       'Business Systems Analysts',\n",
       "       'Forging Machine Setters, Operators, And Tenders, Metal And Plastic',\n",
       "       'Bakers', 'Graphic Designer',\n",
       "       'Atmospheric, Earth, Marine, And Space Science Teachers, Postsecondary',\n",
       "       'Airfield Operations Specialists',\n",
       "       'Software Quality Assurance Engineer And Testers',\n",
       "       'Mental Health Counselor', 'Special Effects Artists And Animators',\n",
       "       'Computer System Engineers/Architects', 'Medical Assistants',\n",
       "       'Hospitalist Physician And Practice Group Leader',\n",
       "       'Mobile Heavy Equipment Mechanics, Except Engines',\n",
       "       'Advertising And Promotions Manager',\n",
       "       'Environmental Scientists & Specialists, Including Health',\n",
       "       'Market Research Analysts',\n",
       "       'Electrical And Electronics Repairers, Commercial And Industrial Equipment',\n",
       "       'Computer Systems Engineers / Architects',\n",
       "       'Secondary School Teachers, Except Special And Career/Technicaleducation',\n",
       "       'Software Developers, Appllications', '19-1042', 'Hospitalist',\n",
       "       'Computer Systems Engineer',\n",
       "       'Occupational Health And Safety Technicians',\n",
       "       'Software Developrs, Applications',\n",
       "       'Industrial Safety And Health Engineers.'], dtype=object)"
      ]
     },
     "execution_count": 72,
     "metadata": {},
     "output_type": "execute_result"
    }
   ],
   "source": [
    "df['SOC_Title'].unique()"
   ]
  },
  {
   "cell_type": "code",
   "execution_count": 73,
   "id": "525b6d45",
   "metadata": {},
   "outputs": [
    {
     "data": {
      "text/plain": [
       "Software Developers, Applications                      265674\n",
       "Software Developers, Systems Software                   51574\n",
       "Computer Systems Analysts                               47961\n",
       "Computer Systems Engineers/Architects                   25899\n",
       "Software Quality Assurance Engineers And Testers        20532\n",
       "                                                        ...  \n",
       "Traffic Technicians                                         1\n",
       "Data Scientists                                             1\n",
       "Software Quality And Assurance Analysts And Testers         1\n",
       "Medical Secretaries                                         1\n",
       "Industrial Safety And Health Engineers.                     1\n",
       "Name: SOC_Title, Length: 829, dtype: int64"
      ]
     },
     "execution_count": 73,
     "metadata": {},
     "output_type": "execute_result"
    }
   ],
   "source": [
    "df['SOC_Title'].value_counts()"
   ]
  },
  {
   "cell_type": "code",
   "execution_count": 77,
   "id": "6dafda41",
   "metadata": {},
   "outputs": [
    {
     "data": {
      "text/plain": [
       "Software Developers, Applications                   265674\n",
       "Software Developers, Systems Software                51574\n",
       "Computer Systems Analysts                            47961\n",
       "Computer Systems Engineers/Architects                25899\n",
       "Software Quality Assurance Engineers And Testers     20532\n",
       "Information Technology Project Managers              18101\n",
       "Computer And Information Systems Managers            17479\n",
       "Mechanical Engineers                                 15227\n",
       "Business Intelligence Analysts                       15193\n",
       "Operations Research Analysts                         13509\n",
       "Name: SOC_Title, dtype: int64"
      ]
     },
     "execution_count": 77,
     "metadata": {},
     "output_type": "execute_result"
    }
   ],
   "source": [
    "df['SOC_Title'].value_counts(ascending=False).head(10)"
   ]
  },
  {
   "cell_type": "code",
   "execution_count": 79,
   "id": "891efa7b",
   "metadata": {},
   "outputs": [
    {
     "data": {
      "image/png": "[encoded data removed]",
      "text/plain": [
       "<Figure size 1008x648 with 1 Axes>"
      ]
     },
     "metadata": {
      "needs_background": "light"
     },
     "output_type": "display_data"
    }
   ],
   "source": [
    "plt.figure(figsize=(14,9))\n",
    "sns.countplot(df['SOC_Title'].head(20),data=df)\n",
    "plt.xticks(rotation=90)\n",
    "plt.show()"
   ]
  },
  {
   "cell_type": "code",
   "execution_count": 81,
   "id": "4fb4bee9",
   "metadata": {},
   "outputs": [
    {
     "data": {
      "text/plain": [
       "array(['Senior Technical Architect', 'Programmer Analyst\\t',\n",
       "       'Software Developer', ..., 'R&D Controls Engineer',\n",
       "       'SOFTWARE CONFIGURATION ANALYST', 'Senior Associate Producer'],\n",
       "      dtype=object)"
      ]
     },
     "execution_count": 81,
     "metadata": {},
     "output_type": "execute_result"
    }
   ],
   "source": [
    "df['Job_Title'].unique()"
   ]
  },
  {
   "cell_type": "code",
   "execution_count": 83,
   "id": "7af5b9ed",
   "metadata": {},
   "outputs": [
    {
     "data": {
      "text/plain": [
       "Software Engineer              32986\n",
       "Software Developer             23059\n",
       "Senior Software Engineer       10535\n",
       "SOFTWARE DEVELOPER              8530\n",
       "SOFTWARE ENGINEER               8425\n",
       "Senior Systems Analyst JC60     7067\n",
       "Manager JC50                    6722\n",
       "Assistant Professor             6108\n",
       "Associate                       3486\n",
       "Data Scientist                  3341\n",
       "Name: Job_Title, dtype: int64"
      ]
     },
     "execution_count": 83,
     "metadata": {},
     "output_type": "execute_result"
    }
   ],
   "source": [
    "df['Job_Title'].value_counts().head(10)"
   ]
  },
  {
   "cell_type": "code",
   "execution_count": 85,
   "id": "8c3db114",
   "metadata": {},
   "outputs": [
    {
     "data": {
      "image/png": "[encoded data removed]",
      "text/plain": [
       "<Figure size 936x648 with 1 Axes>"
      ]
     },
     "metadata": {
      "needs_background": "light"
     },
     "output_type": "display_data"
    }
   ],
   "source": [
    "plt.figure(figsize=(13,9))\n",
    "sns.countplot(df['Job_Title'].head(20),data=df)\n",
    "plt.xticks(rotation=90)\n",
    "plt.show()"
   ]
  },
  {
   "cell_type": "code",
   "execution_count": 87,
   "id": "3008a173",
   "metadata": {},
   "outputs": [
    {
     "data": {
      "text/plain": [
       "array(['Y', 'N'], dtype=object)"
      ]
     },
     "execution_count": 87,
     "metadata": {},
     "output_type": "execute_result"
    }
   ],
   "source": [
    "df['Full_Time_Position'].unique()"
   ]
  },
  {
   "cell_type": "code",
   "execution_count": 88,
   "id": "87a6228c",
   "metadata": {},
   "outputs": [
    {
     "data": {
      "text/plain": [
       "Y    813095\n",
       "N     13088\n",
       "Name: Full_Time_Position, dtype: int64"
      ]
     },
     "execution_count": 88,
     "metadata": {},
     "output_type": "execute_result"
    }
   ],
   "source": [
    "df['Full_Time_Position'].value_counts()"
   ]
  },
  {
   "cell_type": "code",
   "execution_count": 90,
   "id": "e230c9bb",
   "metadata": {},
   "outputs": [
    {
     "data": {
      "image/png": "[encoded data removed]",
      "text/plain": [
       "<Figure size 936x648 with 1 Axes>"
      ]
     },
     "metadata": {
      "needs_background": "light"
     },
     "output_type": "display_data"
    }
   ],
   "source": [
    "plt.figure(figsize=(13,9))\n",
    "sns.countplot(df['Full_Time_Position'],data=df)\n",
    "plt.xticks(rotation=0)\n",
    "plt.show()"
   ]
  },
  {
   "cell_type": "code",
   "execution_count": 93,
   "id": "05f77e35",
   "metadata": {},
   "outputs": [
    {
     "data": {
      "text/plain": [
       "array(['Certified', 'Certified - Withdrawn', 'Denied', 'Withdrawn'],\n",
       "      dtype=object)"
      ]
     },
     "execution_count": 93,
     "metadata": {},
     "output_type": "execute_result"
    }
   ],
   "source": [
    "df['Case_Status'].unique()"
   ]
  },
  {
   "cell_type": "code",
   "execution_count": 94,
   "id": "86102438",
   "metadata": {},
   "outputs": [
    {
     "data": {
      "text/plain": [
       "Certified                772260\n",
       "Certified - Withdrawn     33616\n",
       "Withdrawn                 15942\n",
       "Denied                     4365\n",
       "Name: Case_Status, dtype: int64"
      ]
     },
     "execution_count": 94,
     "metadata": {},
     "output_type": "execute_result"
    }
   ],
   "source": [
    "df['Case_Status'].value_counts()"
   ]
  },
  {
   "cell_type": "code",
   "execution_count": 97,
   "id": "d3f1c035",
   "metadata": {},
   "outputs": [
    {
     "data": {
      "image/png": "[encoded data removed]",
      "text/plain": [
       "<Figure size 864x576 with 1 Axes>"
      ]
     },
     "metadata": {
      "needs_background": "light"
     },
     "output_type": "display_data"
    }
   ],
   "source": [
    "plt.figure(figsize=(12,8))\n",
    "sns.countplot(df['Case_Status'],data=df)\n",
    "plt.xticks(rotation=0)\n",
    "plt.show()"
   ]
  },
  {
   "cell_type": "code",
   "execution_count": 98,
   "id": "0134e3ef",
   "metadata": {},
   "outputs": [
    {
     "data": {
      "text/plain": [
       "array(['Year', 'Hour', 'Bi-Weekly', 'Month', 'Week'], dtype=object)"
      ]
     },
     "execution_count": 98,
     "metadata": {},
     "output_type": "execute_result"
    }
   ],
   "source": [
    "df['Unit_Of_Pay'].uniqueque()"
   ]
  },
  {
   "cell_type": "code",
   "execution_count": 100,
   "id": "2515e255",
   "metadata": {},
   "outputs": [
    {
     "data": {
      "text/plain": [
       "Year         776059\n",
       "Hour          49348\n",
       "Month           500\n",
       "Week            139\n",
       "Bi-Weekly       137\n",
       "Name: Unit_Of_Pay, dtype: int64"
      ]
     },
     "execution_count": 100,
     "metadata": {},
     "output_type": "execute_result"
    }
   ],
   "source": [
    "df['Unit_Of_Pay'].value_counts()"
   ]
  },
  {
   "cell_type": "code",
   "execution_count": 101,
   "id": "bc5047c3",
   "metadata": {},
   "outputs": [
    {
     "data": {
      "image/png": "[encoded data removed]",
      "text/plain": [
       "<Figure size 864x576 with 1 Axes>"
      ]
     },
     "metadata": {
      "needs_background": "light"
     },
     "output_type": "display_data"
    }
   ],
   "source": [
    "plt.figure(figsize=(12,8))\n",
    "sns.countplot(df['Unit_Of_Pay'],data=df)\n",
    "plt.xticks(rotation=0)\n",
    "plt.show()"
   ]
  },
  {
   "cell_type": "code",
   "execution_count": 102,
   "id": "5b028a53",
   "metadata": {},
   "outputs": [
    {
     "data": {
      "text/plain": [
       "array(['Q1', 'Q2', 'Q3', 'Q4'], dtype=object)"
      ]
     },
     "execution_count": 102,
     "metadata": {},
     "output_type": "execute_result"
    }
   ],
   "source": [
    "df['Quarter'].unique()"
   ]
  },
  {
   "cell_type": "code",
   "execution_count": 103,
   "id": "2583bdf2",
   "metadata": {},
   "outputs": [
    {
     "data": {
      "text/plain": [
       "Q3    405570\n",
       "Q2    213452\n",
       "Q4    126550\n",
       "Q1     80611\n",
       "Name: Quarter, dtype: int64"
      ]
     },
     "execution_count": 103,
     "metadata": {},
     "output_type": "execute_result"
    }
   ],
   "source": [
    "df['Quarter'].value_counts()"
   ]
  },
  {
   "cell_type": "code",
   "execution_count": 104,
   "id": "687cc62b",
   "metadata": {},
   "outputs": [
    {
     "data": {
      "image/png": "[encoded data removed]",
      "text/plain": [
       "<Figure size 864x576 with 1 Axes>"
      ]
     },
     "metadata": {
      "needs_background": "light"
     },
     "output_type": "display_data"
    }
   ],
   "source": [
    "plt.figure(figsize=(12,8))\n",
    "sns.countplot(df['Quarter'],data=df)\n",
    "plt.xticks(rotation=0)\n",
    "plt.show()"
   ]
  }
 ],
 "metadata": {
  "kernelspec": {
   "display_name": "Python 3 (ipykernel)",
   "language": "python",
   "name": "python3"
  },
  "language_info": {
   "codemirror_mode": {
    "name": "ipython",
    "version": 3
   },
   "file_extension": ".py",
   "mimetype": "text/x-python",
   "name": "python",
   "nbconvert_exporter": "python",
   "pygments_lexer": "ipython3",
   "version": "3.9.7"
  }
 },
 "nbformat": 4,
 "nbformat_minor": 5
}
