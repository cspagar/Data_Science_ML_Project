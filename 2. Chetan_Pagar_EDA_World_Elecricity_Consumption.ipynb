{
 "cells": [
  {
   "cell_type": "code",
   "execution_count": 1,
   "id": "eee44899",
   "metadata": {},
   "outputs": [],
   "source": [
    "# Electricity Consumption World-Wide EDA"
   ]
  },
  {
   "cell_type": "code",
   "execution_count": null,
   "id": "de08f2b4",
   "metadata": {},
   "outputs": [],
   "source": [
    "# Module Alization (Import Numpy, Padas, Matplotlib, Seaborn Libraries)"
   ]
  },
  {
   "cell_type": "code",
   "execution_count": 76,
   "id": "9b9e2817",
   "metadata": {},
   "outputs": [],
   "source": [
    "import numpy as np\n",
    "import pandas as pd\n",
    "import matplotlib.pyplot as plt\n",
    "import seaborn as sns"
   ]
  },
  {
   "cell_type": "code",
   "execution_count": null,
   "id": "50d0f452",
   "metadata": {},
   "outputs": [],
   "source": [
    "# Read Dataset for Analysis"
   ]
  },
  {
   "cell_type": "code",
   "execution_count": 77,
   "id": "10c1a381",
   "metadata": {},
   "outputs": [
    {
     "data": {
      "text/html": [
       "<div>\n",
       "<style scoped>\n",
       "    .dataframe tbody tr th:only-of-type {\n",
       "        vertical-align: middle;\n",
       "    }\n",
       "\n",
       "    .dataframe tbody tr th {\n",
       "        vertical-align: top;\n",
       "    }\n",
       "\n",
       "    .dataframe thead th {\n",
       "        text-align: right;\n",
       "    }\n",
       "</style>\n",
       "<table border=\"1\" class=\"dataframe\">\n",
       "  <thead>\n",
       "    <tr style=\"text-align: right;\">\n",
       "      <th></th>\n",
       "      <th>Entity</th>\n",
       "      <th>Year</th>\n",
       "      <th>Per capita electricity (kWh)</th>\n",
       "    </tr>\n",
       "  </thead>\n",
       "  <tbody>\n",
       "    <tr>\n",
       "      <th>0</th>\n",
       "      <td>Afghanistan</td>\n",
       "      <td>2000</td>\n",
       "      <td>22.474</td>\n",
       "    </tr>\n",
       "    <tr>\n",
       "      <th>1</th>\n",
       "      <td>Afghanistan</td>\n",
       "      <td>2001</td>\n",
       "      <td>27.399</td>\n",
       "    </tr>\n",
       "    <tr>\n",
       "      <th>2</th>\n",
       "      <td>Afghanistan</td>\n",
       "      <td>2002</td>\n",
       "      <td>30.397</td>\n",
       "    </tr>\n",
       "    <tr>\n",
       "      <th>3</th>\n",
       "      <td>Afghanistan</td>\n",
       "      <td>2003</td>\n",
       "      <td>39.652</td>\n",
       "    </tr>\n",
       "    <tr>\n",
       "      <th>4</th>\n",
       "      <td>Afghanistan</td>\n",
       "      <td>2004</td>\n",
       "      <td>36.155</td>\n",
       "    </tr>\n",
       "    <tr>\n",
       "      <th>...</th>\n",
       "      <td>...</td>\n",
       "      <td>...</td>\n",
       "      <td>...</td>\n",
       "    </tr>\n",
       "    <tr>\n",
       "      <th>5615</th>\n",
       "      <td>Zimbabwe</td>\n",
       "      <td>2015</td>\n",
       "      <td>679.553</td>\n",
       "    </tr>\n",
       "    <tr>\n",
       "      <th>5616</th>\n",
       "      <td>Zimbabwe</td>\n",
       "      <td>2016</td>\n",
       "      <td>486.509</td>\n",
       "    </tr>\n",
       "    <tr>\n",
       "      <th>5617</th>\n",
       "      <td>Zimbabwe</td>\n",
       "      <td>2017</td>\n",
       "      <td>513.434</td>\n",
       "    </tr>\n",
       "    <tr>\n",
       "      <th>5618</th>\n",
       "      <td>Zimbabwe</td>\n",
       "      <td>2018</td>\n",
       "      <td>632.533</td>\n",
       "    </tr>\n",
       "    <tr>\n",
       "      <th>5619</th>\n",
       "      <td>Zimbabwe</td>\n",
       "      <td>2019</td>\n",
       "      <td>617.672</td>\n",
       "    </tr>\n",
       "  </tbody>\n",
       "</table>\n",
       "<p>5620 rows × 3 columns</p>\n",
       "</div>"
      ],
      "text/plain": [
       "           Entity  Year  Per capita electricity (kWh)\n",
       "0     Afghanistan  2000                        22.474\n",
       "1     Afghanistan  2001                        27.399\n",
       "2     Afghanistan  2002                        30.397\n",
       "3     Afghanistan  2003                        39.652\n",
       "4     Afghanistan  2004                        36.155\n",
       "...           ...   ...                           ...\n",
       "5615     Zimbabwe  2015                       679.553\n",
       "5616     Zimbabwe  2016                       486.509\n",
       "5617     Zimbabwe  2017                       513.434\n",
       "5618     Zimbabwe  2018                       632.533\n",
       "5619     Zimbabwe  2019                       617.672\n",
       "\n",
       "[5620 rows x 3 columns]"
      ]
     },
     "execution_count": 77,
     "metadata": {},
     "output_type": "execute_result"
    }
   ],
   "source": [
    "data = pd.read_csv('World_Per_Capita_Electricity_Consumption.csv')\n",
    "data"
   ]
  },
  {
   "cell_type": "code",
   "execution_count": null,
   "id": "37e30b86",
   "metadata": {},
   "outputs": [],
   "source": [
    "# Fetch first 5 records from dataset"
   ]
  },
  {
   "cell_type": "code",
   "execution_count": 78,
   "id": "86397a3c",
   "metadata": {},
   "outputs": [
    {
     "data": {
      "text/html": [
       "<div>\n",
       "<style scoped>\n",
       "    .dataframe tbody tr th:only-of-type {\n",
       "        vertical-align: middle;\n",
       "    }\n",
       "\n",
       "    .dataframe tbody tr th {\n",
       "        vertical-align: top;\n",
       "    }\n",
       "\n",
       "    .dataframe thead th {\n",
       "        text-align: right;\n",
       "    }\n",
       "</style>\n",
       "<table border=\"1\" class=\"dataframe\">\n",
       "  <thead>\n",
       "    <tr style=\"text-align: right;\">\n",
       "      <th></th>\n",
       "      <th>Entity</th>\n",
       "      <th>Year</th>\n",
       "      <th>Per capita electricity (kWh)</th>\n",
       "    </tr>\n",
       "  </thead>\n",
       "  <tbody>\n",
       "    <tr>\n",
       "      <th>0</th>\n",
       "      <td>Afghanistan</td>\n",
       "      <td>2000</td>\n",
       "      <td>22.474</td>\n",
       "    </tr>\n",
       "    <tr>\n",
       "      <th>1</th>\n",
       "      <td>Afghanistan</td>\n",
       "      <td>2001</td>\n",
       "      <td>27.399</td>\n",
       "    </tr>\n",
       "    <tr>\n",
       "      <th>2</th>\n",
       "      <td>Afghanistan</td>\n",
       "      <td>2002</td>\n",
       "      <td>30.397</td>\n",
       "    </tr>\n",
       "    <tr>\n",
       "      <th>3</th>\n",
       "      <td>Afghanistan</td>\n",
       "      <td>2003</td>\n",
       "      <td>39.652</td>\n",
       "    </tr>\n",
       "    <tr>\n",
       "      <th>4</th>\n",
       "      <td>Afghanistan</td>\n",
       "      <td>2004</td>\n",
       "      <td>36.155</td>\n",
       "    </tr>\n",
       "  </tbody>\n",
       "</table>\n",
       "</div>"
      ],
      "text/plain": [
       "        Entity  Year  Per capita electricity (kWh)\n",
       "0  Afghanistan  2000                        22.474\n",
       "1  Afghanistan  2001                        27.399\n",
       "2  Afghanistan  2002                        30.397\n",
       "3  Afghanistan  2003                        39.652\n",
       "4  Afghanistan  2004                        36.155"
      ]
     },
     "execution_count": 78,
     "metadata": {},
     "output_type": "execute_result"
    }
   ],
   "source": [
    "data.head()"
   ]
  },
  {
   "cell_type": "code",
   "execution_count": 9,
   "id": "949dd88c",
   "metadata": {},
   "outputs": [],
   "source": [
    "# Fetch last 5 records from dataset"
   ]
  },
  {
   "cell_type": "code",
   "execution_count": 79,
   "id": "808fce88",
   "metadata": {},
   "outputs": [
    {
     "data": {
      "text/html": [
       "<div>\n",
       "<style scoped>\n",
       "    .dataframe tbody tr th:only-of-type {\n",
       "        vertical-align: middle;\n",
       "    }\n",
       "\n",
       "    .dataframe tbody tr th {\n",
       "        vertical-align: top;\n",
       "    }\n",
       "\n",
       "    .dataframe thead th {\n",
       "        text-align: right;\n",
       "    }\n",
       "</style>\n",
       "<table border=\"1\" class=\"dataframe\">\n",
       "  <thead>\n",
       "    <tr style=\"text-align: right;\">\n",
       "      <th></th>\n",
       "      <th>Entity</th>\n",
       "      <th>Year</th>\n",
       "      <th>Per capita electricity (kWh)</th>\n",
       "    </tr>\n",
       "  </thead>\n",
       "  <tbody>\n",
       "    <tr>\n",
       "      <th>5615</th>\n",
       "      <td>Zimbabwe</td>\n",
       "      <td>2015</td>\n",
       "      <td>679.553</td>\n",
       "    </tr>\n",
       "    <tr>\n",
       "      <th>5616</th>\n",
       "      <td>Zimbabwe</td>\n",
       "      <td>2016</td>\n",
       "      <td>486.509</td>\n",
       "    </tr>\n",
       "    <tr>\n",
       "      <th>5617</th>\n",
       "      <td>Zimbabwe</td>\n",
       "      <td>2017</td>\n",
       "      <td>513.434</td>\n",
       "    </tr>\n",
       "    <tr>\n",
       "      <th>5618</th>\n",
       "      <td>Zimbabwe</td>\n",
       "      <td>2018</td>\n",
       "      <td>632.533</td>\n",
       "    </tr>\n",
       "    <tr>\n",
       "      <th>5619</th>\n",
       "      <td>Zimbabwe</td>\n",
       "      <td>2019</td>\n",
       "      <td>617.672</td>\n",
       "    </tr>\n",
       "  </tbody>\n",
       "</table>\n",
       "</div>"
      ],
      "text/plain": [
       "        Entity  Year  Per capita electricity (kWh)\n",
       "5615  Zimbabwe  2015                       679.553\n",
       "5616  Zimbabwe  2016                       486.509\n",
       "5617  Zimbabwe  2017                       513.434\n",
       "5618  Zimbabwe  2018                       632.533\n",
       "5619  Zimbabwe  2019                       617.672"
      ]
     },
     "execution_count": 79,
     "metadata": {},
     "output_type": "execute_result"
    }
   ],
   "source": [
    "data.tail()"
   ]
  },
  {
   "cell_type": "code",
   "execution_count": null,
   "id": "68f1c26e",
   "metadata": {},
   "outputs": [],
   "source": [
    "# Check Number of rows and Columns present in dataset"
   ]
  },
  {
   "cell_type": "code",
   "execution_count": 80,
   "id": "a39eb91d",
   "metadata": {},
   "outputs": [
    {
     "data": {
      "text/plain": [
       "(5620, 3)"
      ]
     },
     "execution_count": 80,
     "metadata": {},
     "output_type": "execute_result"
    }
   ],
   "source": [
    "data.shape"
   ]
  },
  {
   "cell_type": "code",
   "execution_count": 8,
   "id": "8d42ccfe",
   "metadata": {},
   "outputs": [],
   "source": [
    "# Check abstract summary of dataset like column, count and datatype"
   ]
  },
  {
   "cell_type": "code",
   "execution_count": 81,
   "id": "6849b143",
   "metadata": {},
   "outputs": [
    {
     "name": "stdout",
     "output_type": "stream",
     "text": [
      "<class 'pandas.core.frame.DataFrame'>\n",
      "RangeIndex: 5620 entries, 0 to 5619\n",
      "Data columns (total 3 columns):\n",
      " #   Column                        Non-Null Count  Dtype  \n",
      "---  ------                        --------------  -----  \n",
      " 0   Entity                        5620 non-null   object \n",
      " 1   Year                          5620 non-null   int64  \n",
      " 2   Per capita electricity (kWh)  5620 non-null   float64\n",
      "dtypes: float64(1), int64(1), object(1)\n",
      "memory usage: 131.8+ KB\n"
     ]
    }
   ],
   "source": [
    "data.info()"
   ]
  },
  {
   "cell_type": "code",
   "execution_count": null,
   "id": "de20b858",
   "metadata": {},
   "outputs": [],
   "source": [
    "# Check descriptive summary of dataset"
   ]
  },
  {
   "cell_type": "code",
   "execution_count": 13,
   "id": "2b90095d",
   "metadata": {},
   "outputs": [
    {
     "data": {
      "text/html": [
       "<div>\n",
       "<style scoped>\n",
       "    .dataframe tbody tr th:only-of-type {\n",
       "        vertical-align: middle;\n",
       "    }\n",
       "\n",
       "    .dataframe tbody tr th {\n",
       "        vertical-align: top;\n",
       "    }\n",
       "\n",
       "    .dataframe thead th {\n",
       "        text-align: right;\n",
       "    }\n",
       "</style>\n",
       "<table border=\"1\" class=\"dataframe\">\n",
       "  <thead>\n",
       "    <tr style=\"text-align: right;\">\n",
       "      <th></th>\n",
       "      <th>Year</th>\n",
       "      <th>Per capita electricity (kWh)</th>\n",
       "    </tr>\n",
       "  </thead>\n",
       "  <tbody>\n",
       "    <tr>\n",
       "      <th>count</th>\n",
       "      <td>5620.000000</td>\n",
       "      <td>5620.000000</td>\n",
       "    </tr>\n",
       "    <tr>\n",
       "      <th>mean</th>\n",
       "      <td>2005.826157</td>\n",
       "      <td>4095.887211</td>\n",
       "    </tr>\n",
       "    <tr>\n",
       "      <th>std</th>\n",
       "      <td>9.238193</td>\n",
       "      <td>5403.908499</td>\n",
       "    </tr>\n",
       "    <tr>\n",
       "      <th>min</th>\n",
       "      <td>1985.000000</td>\n",
       "      <td>0.000000</td>\n",
       "    </tr>\n",
       "    <tr>\n",
       "      <th>25%</th>\n",
       "      <td>2000.000000</td>\n",
       "      <td>646.116250</td>\n",
       "    </tr>\n",
       "    <tr>\n",
       "      <th>50%</th>\n",
       "      <td>2007.000000</td>\n",
       "      <td>2555.821500</td>\n",
       "    </tr>\n",
       "    <tr>\n",
       "      <th>75%</th>\n",
       "      <td>2013.000000</td>\n",
       "      <td>5561.172750</td>\n",
       "    </tr>\n",
       "    <tr>\n",
       "      <th>max</th>\n",
       "      <td>2021.000000</td>\n",
       "      <td>58863.361000</td>\n",
       "    </tr>\n",
       "  </tbody>\n",
       "</table>\n",
       "</div>"
      ],
      "text/plain": [
       "              Year  Per capita electricity (kWh)\n",
       "count  5620.000000                   5620.000000\n",
       "mean   2005.826157                   4095.887211\n",
       "std       9.238193                   5403.908499\n",
       "min    1985.000000                      0.000000\n",
       "25%    2000.000000                    646.116250\n",
       "50%    2007.000000                   2555.821500\n",
       "75%    2013.000000                   5561.172750\n",
       "max    2021.000000                  58863.361000"
      ]
     },
     "execution_count": 13,
     "metadata": {},
     "output_type": "execute_result"
    }
   ],
   "source": [
    "data.describe()"
   ]
  },
  {
   "cell_type": "code",
   "execution_count": null,
   "id": "ad5e9e50",
   "metadata": {},
   "outputs": [],
   "source": [
    "# check all coulmns"
   ]
  },
  {
   "cell_type": "code",
   "execution_count": 14,
   "id": "330a4265",
   "metadata": {},
   "outputs": [
    {
     "data": {
      "text/plain": [
       "Index(['Entity', 'Year', 'Per capita electricity (kWh)'], dtype='object')"
      ]
     },
     "execution_count": 14,
     "metadata": {},
     "output_type": "execute_result"
    }
   ],
   "source": [
    "data.columns"
   ]
  },
  {
   "cell_type": "code",
   "execution_count": null,
   "id": "77595144",
   "metadata": {},
   "outputs": [],
   "source": [
    "# check whether is any null/NA value present in any column or not"
   ]
  },
  {
   "cell_type": "code",
   "execution_count": 15,
   "id": "5232bebd",
   "metadata": {},
   "outputs": [
    {
     "data": {
      "text/plain": [
       "Entity                          0\n",
       "Year                            0\n",
       "Per capita electricity (kWh)    0\n",
       "dtype: int64"
      ]
     },
     "execution_count": 15,
     "metadata": {},
     "output_type": "execute_result"
    }
   ],
   "source": [
    "#data.isna().sum()         OR\n",
    "data.isnull().sum()"
   ]
  },
  {
   "cell_type": "code",
   "execution_count": null,
   "id": "41d3ef6c",
   "metadata": {},
   "outputs": [],
   "source": [
    "# Take first Catrgorical column for analysis- Entity\n",
    "# Check unique countries in entity coulmn"
   ]
  },
  {
   "cell_type": "code",
   "execution_count": 16,
   "id": "24f2bd8c",
   "metadata": {},
   "outputs": [
    {
     "data": {
      "text/plain": [
       "array(['Afghanistan', 'Africa', 'Albania', 'Algeria', 'American Samoa',\n",
       "       'Angola', 'Antigua and Barbuda', 'Argentina', 'Armenia', 'Aruba',\n",
       "       'Australia', 'Austria', 'Azerbaijan', 'Bahamas', 'Bahrain',\n",
       "       'Bangladesh', 'Barbados', 'Belarus', 'Belgium', 'Belize', 'Benin',\n",
       "       'Bermuda', 'Bhutan', 'Bolivia', 'Bosnia and Herzegovina',\n",
       "       'Botswana', 'Brazil', 'British Virgin Islands', 'Brunei',\n",
       "       'Bulgaria', 'Burkina Faso', 'Burundi', 'Cambodia', 'Cameroon',\n",
       "       'Canada', 'Cape Verde', 'Cayman Islands',\n",
       "       'Central African Republic', 'Chad', 'Chile', 'China', 'Colombia',\n",
       "       'Comoros', 'Congo', 'Cook Islands', 'Costa Rica', 'Croatia',\n",
       "       'Cuba', 'Cyprus', 'Czechia', 'Democratic Republic of Congo',\n",
       "       'Denmark', 'Djibouti', 'Dominica', 'Dominican Republic', 'Ecuador',\n",
       "       'Egypt', 'El Salvador', 'Equatorial Guinea', 'Eritrea', 'Estonia',\n",
       "       'Ethiopia', 'Europe', 'European Union (27)', 'Falkland Islands',\n",
       "       'Fiji', 'Finland', 'France', 'French Guiana', 'French Polynesia',\n",
       "       'Gabon', 'Gambia', 'Georgia', 'Germany', 'Ghana', 'Gibraltar',\n",
       "       'Greece', 'Greenland', 'Grenada', 'Guadeloupe', 'Guam',\n",
       "       'Guatemala', 'Guinea', 'Guinea-Bissau', 'Guyana', 'Haiti',\n",
       "       'Honduras', 'Hong Kong', 'Hungary', 'Iceland', 'India',\n",
       "       'Indonesia', 'Iran', 'Iraq', 'Ireland', 'Israel', 'Italy',\n",
       "       'Jamaica', 'Japan', 'Jordan', 'Kazakhstan', 'Kenya', 'Kiribati',\n",
       "       'Kuwait', 'Kyrgyzstan', 'Laos', 'Latvia', 'Lebanon', 'Lesotho',\n",
       "       'Liberia', 'Libya', 'Lithuania', 'Luxembourg', 'Madagascar',\n",
       "       'Malawi', 'Malaysia', 'Maldives', 'Mali', 'Malta', 'Martinique',\n",
       "       'Mauritania', 'Mauritius', 'Mexico', 'Mongolia', 'Montenegro',\n",
       "       'Montserrat', 'Morocco', 'Mozambique', 'Myanmar', 'Namibia',\n",
       "       'Nauru', 'Nepal', 'Netherlands', 'Netherlands Antilles',\n",
       "       'New Caledonia', 'New Zealand', 'Nicaragua', 'Niger', 'Nigeria',\n",
       "       'Niue', 'North Korea', 'North Macedonia', 'Norway', 'Oman',\n",
       "       'Pakistan', 'Palestine', 'Panama', 'Papua New Guinea', 'Paraguay',\n",
       "       'Peru', 'Philippines', 'Poland', 'Portugal', 'Puerto Rico',\n",
       "       'Qatar', 'Reunion', 'Romania', 'Russia', 'Rwanda', 'Saint Helena',\n",
       "       'Saint Kitts and Nevis', 'Saint Lucia',\n",
       "       'Saint Pierre and Miquelon', 'Saint Vincent and the Grenadines',\n",
       "       'Samoa', 'Sao Tome and Principe', 'Saudi Arabia', 'Senegal',\n",
       "       'Serbia', 'Seychelles', 'Sierra Leone', 'Singapore', 'Slovakia',\n",
       "       'Slovenia', 'Solomon Islands', 'Somalia', 'South Africa',\n",
       "       'South Korea', 'South Sudan', 'Spain', 'Sri Lanka', 'Sudan',\n",
       "       'Suriname', 'Sweden', 'Switzerland', 'Syria', 'Taiwan',\n",
       "       'Tajikistan', 'Tanzania', 'Thailand', 'Togo', 'Tonga',\n",
       "       'Trinidad and Tobago', 'Tunisia', 'Turkey', 'Turkmenistan',\n",
       "       'Turks and Caicos Islands', 'Uganda', 'Ukraine',\n",
       "       'United Arab Emirates', 'United Kingdom', 'United States',\n",
       "       'United States Virgin Islands', 'Uruguay', 'Uzbekistan', 'Vanuatu',\n",
       "       'Venezuela', 'Vietnam', 'Western Sahara', 'World', 'Yemen',\n",
       "       'Zambia', 'Zimbabwe'], dtype=object)"
      ]
     },
     "execution_count": 16,
     "metadata": {},
     "output_type": "execute_result"
    }
   ],
   "source": [
    "data['Entity'].unique()"
   ]
  },
  {
   "cell_type": "code",
   "execution_count": null,
   "id": "aa8b4406",
   "metadata": {},
   "outputs": [],
   "source": [
    "# calculate total unique entities in entity column"
   ]
  },
  {
   "cell_type": "code",
   "execution_count": 17,
   "id": "4823c4ad",
   "metadata": {},
   "outputs": [
    {
     "data": {
      "text/plain": [
       "213"
      ]
     },
     "execution_count": 17,
     "metadata": {},
     "output_type": "execute_result"
    }
   ],
   "source": [
    "len(data['Entity'].unique())"
   ]
  },
  {
   "cell_type": "code",
   "execution_count": null,
   "id": "6047278d",
   "metadata": {},
   "outputs": [],
   "source": [
    "#Count occurences of countries in entity column"
   ]
  },
  {
   "cell_type": "code",
   "execution_count": 18,
   "id": "517d9ab8",
   "metadata": {},
   "outputs": [
    {
     "data": {
      "text/plain": [
       "Latvia                  37\n",
       "Bulgaria                37\n",
       "Cyprus                  37\n",
       "Czechia                 37\n",
       "Denmark                 37\n",
       "                        ..\n",
       "Haiti                   20\n",
       "Honduras                20\n",
       "Jamaica                 20\n",
       "Jordan                  20\n",
       "Netherlands Antilles    18\n",
       "Name: Entity, Length: 213, dtype: int64"
      ]
     },
     "execution_count": 18,
     "metadata": {},
     "output_type": "execute_result"
    }
   ],
   "source": [
    "data['Entity'].value_counts()"
   ]
  },
  {
   "cell_type": "code",
   "execution_count": null,
   "id": "682a0619",
   "metadata": {},
   "outputs": [],
   "source": [
    "# check India electricity consumption from 1985 to 2020"
   ]
  },
  {
   "cell_type": "code",
   "execution_count": 19,
   "id": "758104fb",
   "metadata": {},
   "outputs": [
    {
     "data": {
      "text/html": [
       "<div>\n",
       "<style scoped>\n",
       "    .dataframe tbody tr th:only-of-type {\n",
       "        vertical-align: middle;\n",
       "    }\n",
       "\n",
       "    .dataframe tbody tr th {\n",
       "        vertical-align: top;\n",
       "    }\n",
       "\n",
       "    .dataframe thead th {\n",
       "        text-align: right;\n",
       "    }\n",
       "</style>\n",
       "<table border=\"1\" class=\"dataframe\">\n",
       "  <thead>\n",
       "    <tr style=\"text-align: right;\">\n",
       "      <th></th>\n",
       "      <th>Entity</th>\n",
       "      <th>Year</th>\n",
       "      <th>Per capita electricity (kWh)</th>\n",
       "    </tr>\n",
       "  </thead>\n",
       "  <tbody>\n",
       "    <tr>\n",
       "      <th>2307</th>\n",
       "      <td>India</td>\n",
       "      <td>1985</td>\n",
       "      <td>237.628</td>\n",
       "    </tr>\n",
       "    <tr>\n",
       "      <th>2308</th>\n",
       "      <td>India</td>\n",
       "      <td>1986</td>\n",
       "      <td>252.723</td>\n",
       "    </tr>\n",
       "    <tr>\n",
       "      <th>2309</th>\n",
       "      <td>India</td>\n",
       "      <td>1987</td>\n",
       "      <td>272.873</td>\n",
       "    </tr>\n",
       "    <tr>\n",
       "      <th>2310</th>\n",
       "      <td>India</td>\n",
       "      <td>1988</td>\n",
       "      <td>288.136</td>\n",
       "    </tr>\n",
       "    <tr>\n",
       "      <th>2311</th>\n",
       "      <td>India</td>\n",
       "      <td>1989</td>\n",
       "      <td>318.526</td>\n",
       "    </tr>\n",
       "    <tr>\n",
       "      <th>2312</th>\n",
       "      <td>India</td>\n",
       "      <td>1990</td>\n",
       "      <td>329.520</td>\n",
       "    </tr>\n",
       "    <tr>\n",
       "      <th>2313</th>\n",
       "      <td>India</td>\n",
       "      <td>1991</td>\n",
       "      <td>359.550</td>\n",
       "    </tr>\n",
       "    <tr>\n",
       "      <th>2314</th>\n",
       "      <td>India</td>\n",
       "      <td>1992</td>\n",
       "      <td>370.781</td>\n",
       "    </tr>\n",
       "    <tr>\n",
       "      <th>2315</th>\n",
       "      <td>India</td>\n",
       "      <td>1993</td>\n",
       "      <td>390.527</td>\n",
       "    </tr>\n",
       "    <tr>\n",
       "      <th>2316</th>\n",
       "      <td>India</td>\n",
       "      <td>1994</td>\n",
       "      <td>410.286</td>\n",
       "    </tr>\n",
       "    <tr>\n",
       "      <th>2317</th>\n",
       "      <td>India</td>\n",
       "      <td>1995</td>\n",
       "      <td>443.136</td>\n",
       "    </tr>\n",
       "    <tr>\n",
       "      <th>2318</th>\n",
       "      <td>India</td>\n",
       "      <td>1996</td>\n",
       "      <td>451.162</td>\n",
       "    </tr>\n",
       "    <tr>\n",
       "      <th>2319</th>\n",
       "      <td>India</td>\n",
       "      <td>1997</td>\n",
       "      <td>468.732</td>\n",
       "    </tr>\n",
       "    <tr>\n",
       "      <th>2320</th>\n",
       "      <td>India</td>\n",
       "      <td>1998</td>\n",
       "      <td>495.426</td>\n",
       "    </tr>\n",
       "    <tr>\n",
       "      <th>2321</th>\n",
       "      <td>India</td>\n",
       "      <td>1999</td>\n",
       "      <td>527.295</td>\n",
       "    </tr>\n",
       "    <tr>\n",
       "      <th>2322</th>\n",
       "      <td>India</td>\n",
       "      <td>2000</td>\n",
       "      <td>460.100</td>\n",
       "    </tr>\n",
       "    <tr>\n",
       "      <th>2323</th>\n",
       "      <td>India</td>\n",
       "      <td>2001</td>\n",
       "      <td>472.838</td>\n",
       "    </tr>\n",
       "    <tr>\n",
       "      <th>2324</th>\n",
       "      <td>India</td>\n",
       "      <td>2002</td>\n",
       "      <td>475.286</td>\n",
       "    </tr>\n",
       "    <tr>\n",
       "      <th>2325</th>\n",
       "      <td>India</td>\n",
       "      <td>2003</td>\n",
       "      <td>495.287</td>\n",
       "    </tr>\n",
       "    <tr>\n",
       "      <th>2326</th>\n",
       "      <td>India</td>\n",
       "      <td>2004</td>\n",
       "      <td>519.412</td>\n",
       "    </tr>\n",
       "    <tr>\n",
       "      <th>2327</th>\n",
       "      <td>India</td>\n",
       "      <td>2005</td>\n",
       "      <td>536.013</td>\n",
       "    </tr>\n",
       "    <tr>\n",
       "      <th>2328</th>\n",
       "      <td>India</td>\n",
       "      <td>2006</td>\n",
       "      <td>566.615</td>\n",
       "    </tr>\n",
       "    <tr>\n",
       "      <th>2329</th>\n",
       "      <td>India</td>\n",
       "      <td>2007</td>\n",
       "      <td>586.312</td>\n",
       "    </tr>\n",
       "    <tr>\n",
       "      <th>2330</th>\n",
       "      <td>India</td>\n",
       "      <td>2008</td>\n",
       "      <td>604.211</td>\n",
       "    </tr>\n",
       "    <tr>\n",
       "      <th>2331</th>\n",
       "      <td>India</td>\n",
       "      <td>2009</td>\n",
       "      <td>641.219</td>\n",
       "    </tr>\n",
       "    <tr>\n",
       "      <th>2332</th>\n",
       "      <td>India</td>\n",
       "      <td>2010</td>\n",
       "      <td>667.616</td>\n",
       "    </tr>\n",
       "    <tr>\n",
       "      <th>2333</th>\n",
       "      <td>India</td>\n",
       "      <td>2011</td>\n",
       "      <td>722.896</td>\n",
       "    </tr>\n",
       "    <tr>\n",
       "      <th>2334</th>\n",
       "      <td>India</td>\n",
       "      <td>2012</td>\n",
       "      <td>754.648</td>\n",
       "    </tr>\n",
       "    <tr>\n",
       "      <th>2335</th>\n",
       "      <td>India</td>\n",
       "      <td>2013</td>\n",
       "      <td>784.507</td>\n",
       "    </tr>\n",
       "    <tr>\n",
       "      <th>2336</th>\n",
       "      <td>India</td>\n",
       "      <td>2014</td>\n",
       "      <td>851.348</td>\n",
       "    </tr>\n",
       "    <tr>\n",
       "      <th>2337</th>\n",
       "      <td>India</td>\n",
       "      <td>2015</td>\n",
       "      <td>869.785</td>\n",
       "    </tr>\n",
       "    <tr>\n",
       "      <th>2338</th>\n",
       "      <td>India</td>\n",
       "      <td>2016</td>\n",
       "      <td>924.206</td>\n",
       "    </tr>\n",
       "    <tr>\n",
       "      <th>2339</th>\n",
       "      <td>India</td>\n",
       "      <td>2017</td>\n",
       "      <td>960.455</td>\n",
       "    </tr>\n",
       "    <tr>\n",
       "      <th>2340</th>\n",
       "      <td>India</td>\n",
       "      <td>2018</td>\n",
       "      <td>1011.229</td>\n",
       "    </tr>\n",
       "    <tr>\n",
       "      <th>2341</th>\n",
       "      <td>India</td>\n",
       "      <td>2019</td>\n",
       "      <td>1008.604</td>\n",
       "    </tr>\n",
       "    <tr>\n",
       "      <th>2342</th>\n",
       "      <td>India</td>\n",
       "      <td>2020</td>\n",
       "      <td>972.437</td>\n",
       "    </tr>\n",
       "  </tbody>\n",
       "</table>\n",
       "</div>"
      ],
      "text/plain": [
       "     Entity  Year  Per capita electricity (kWh)\n",
       "2307  India  1985                       237.628\n",
       "2308  India  1986                       252.723\n",
       "2309  India  1987                       272.873\n",
       "2310  India  1988                       288.136\n",
       "2311  India  1989                       318.526\n",
       "2312  India  1990                       329.520\n",
       "2313  India  1991                       359.550\n",
       "2314  India  1992                       370.781\n",
       "2315  India  1993                       390.527\n",
       "2316  India  1994                       410.286\n",
       "2317  India  1995                       443.136\n",
       "2318  India  1996                       451.162\n",
       "2319  India  1997                       468.732\n",
       "2320  India  1998                       495.426\n",
       "2321  India  1999                       527.295\n",
       "2322  India  2000                       460.100\n",
       "2323  India  2001                       472.838\n",
       "2324  India  2002                       475.286\n",
       "2325  India  2003                       495.287\n",
       "2326  India  2004                       519.412\n",
       "2327  India  2005                       536.013\n",
       "2328  India  2006                       566.615\n",
       "2329  India  2007                       586.312\n",
       "2330  India  2008                       604.211\n",
       "2331  India  2009                       641.219\n",
       "2332  India  2010                       667.616\n",
       "2333  India  2011                       722.896\n",
       "2334  India  2012                       754.648\n",
       "2335  India  2013                       784.507\n",
       "2336  India  2014                       851.348\n",
       "2337  India  2015                       869.785\n",
       "2338  India  2016                       924.206\n",
       "2339  India  2017                       960.455\n",
       "2340  India  2018                      1011.229\n",
       "2341  India  2019                      1008.604\n",
       "2342  India  2020                       972.437"
      ]
     },
     "execution_count": 19,
     "metadata": {},
     "output_type": "execute_result"
    }
   ],
   "source": [
    "India_Elecricity_Consumption = data[data['Entity'] == 'India']\n",
    "India_Elecricity_Consumption"
   ]
  },
  {
   "cell_type": "code",
   "execution_count": 20,
   "id": "543af54a",
   "metadata": {},
   "outputs": [
    {
     "data": {
      "text/html": [
       "<div>\n",
       "<style scoped>\n",
       "    .dataframe tbody tr th:only-of-type {\n",
       "        vertical-align: middle;\n",
       "    }\n",
       "\n",
       "    .dataframe tbody tr th {\n",
       "        vertical-align: top;\n",
       "    }\n",
       "\n",
       "    .dataframe thead th {\n",
       "        text-align: right;\n",
       "    }\n",
       "</style>\n",
       "<table border=\"1\" class=\"dataframe\">\n",
       "  <thead>\n",
       "    <tr style=\"text-align: right;\">\n",
       "      <th></th>\n",
       "      <th>Entity</th>\n",
       "      <th>Year</th>\n",
       "      <th>Per capita electricity (kWh)</th>\n",
       "    </tr>\n",
       "  </thead>\n",
       "  <tbody>\n",
       "    <tr>\n",
       "      <th>2307</th>\n",
       "      <td>India</td>\n",
       "      <td>1985</td>\n",
       "      <td>237.628</td>\n",
       "    </tr>\n",
       "    <tr>\n",
       "      <th>2308</th>\n",
       "      <td>India</td>\n",
       "      <td>1986</td>\n",
       "      <td>252.723</td>\n",
       "    </tr>\n",
       "    <tr>\n",
       "      <th>2309</th>\n",
       "      <td>India</td>\n",
       "      <td>1987</td>\n",
       "      <td>272.873</td>\n",
       "    </tr>\n",
       "    <tr>\n",
       "      <th>2310</th>\n",
       "      <td>India</td>\n",
       "      <td>1988</td>\n",
       "      <td>288.136</td>\n",
       "    </tr>\n",
       "    <tr>\n",
       "      <th>2311</th>\n",
       "      <td>India</td>\n",
       "      <td>1989</td>\n",
       "      <td>318.526</td>\n",
       "    </tr>\n",
       "  </tbody>\n",
       "</table>\n",
       "</div>"
      ],
      "text/plain": [
       "     Entity  Year  Per capita electricity (kWh)\n",
       "2307  India  1985                       237.628\n",
       "2308  India  1986                       252.723\n",
       "2309  India  1987                       272.873\n",
       "2310  India  1988                       288.136\n",
       "2311  India  1989                       318.526"
      ]
     },
     "execution_count": 20,
     "metadata": {},
     "output_type": "execute_result"
    }
   ],
   "source": [
    "India_Elecricity_Consumption.head() # Fetch first 5"
   ]
  },
  {
   "cell_type": "code",
   "execution_count": 21,
   "id": "5ee9cb94",
   "metadata": {},
   "outputs": [
    {
     "data": {
      "text/html": [
       "<div>\n",
       "<style scoped>\n",
       "    .dataframe tbody tr th:only-of-type {\n",
       "        vertical-align: middle;\n",
       "    }\n",
       "\n",
       "    .dataframe tbody tr th {\n",
       "        vertical-align: top;\n",
       "    }\n",
       "\n",
       "    .dataframe thead th {\n",
       "        text-align: right;\n",
       "    }\n",
       "</style>\n",
       "<table border=\"1\" class=\"dataframe\">\n",
       "  <thead>\n",
       "    <tr style=\"text-align: right;\">\n",
       "      <th></th>\n",
       "      <th>Entity</th>\n",
       "      <th>Year</th>\n",
       "      <th>Per capita electricity (kWh)</th>\n",
       "    </tr>\n",
       "  </thead>\n",
       "  <tbody>\n",
       "    <tr>\n",
       "      <th>2338</th>\n",
       "      <td>India</td>\n",
       "      <td>2016</td>\n",
       "      <td>924.206</td>\n",
       "    </tr>\n",
       "    <tr>\n",
       "      <th>2339</th>\n",
       "      <td>India</td>\n",
       "      <td>2017</td>\n",
       "      <td>960.455</td>\n",
       "    </tr>\n",
       "    <tr>\n",
       "      <th>2340</th>\n",
       "      <td>India</td>\n",
       "      <td>2018</td>\n",
       "      <td>1011.229</td>\n",
       "    </tr>\n",
       "    <tr>\n",
       "      <th>2341</th>\n",
       "      <td>India</td>\n",
       "      <td>2019</td>\n",
       "      <td>1008.604</td>\n",
       "    </tr>\n",
       "    <tr>\n",
       "      <th>2342</th>\n",
       "      <td>India</td>\n",
       "      <td>2020</td>\n",
       "      <td>972.437</td>\n",
       "    </tr>\n",
       "  </tbody>\n",
       "</table>\n",
       "</div>"
      ],
      "text/plain": [
       "     Entity  Year  Per capita electricity (kWh)\n",
       "2338  India  2016                       924.206\n",
       "2339  India  2017                       960.455\n",
       "2340  India  2018                      1011.229\n",
       "2341  India  2019                      1008.604\n",
       "2342  India  2020                       972.437"
      ]
     },
     "execution_count": 21,
     "metadata": {},
     "output_type": "execute_result"
    }
   ],
   "source": [
    "India_Elecricity_Consumption.tail() # Fetch last 5"
   ]
  },
  {
   "cell_type": "code",
   "execution_count": 26,
   "id": "09e39297",
   "metadata": {},
   "outputs": [],
   "source": [
    "# Plot barchart on India_Elcrticity_Consumption"
   ]
  },
  {
   "cell_type": "code",
   "execution_count": 22,
   "id": "9adf3d33",
   "metadata": {
    "scrolled": false
   },
   "outputs": [
    {
     "data": {
      "image/png": "[encoded data removed]",
      "text/plain": [
       "<Figure size 936x648 with 1 Axes>"
      ]
     },
     "metadata": {
      "needs_background": "light"
     },
     "output_type": "display_data"
    }
   ],
   "source": [
    "plt.figure(figsize=(13,9))\n",
    "sns.barplot(data=India_Elecricity_Consumption, x = 'Year', y= 'Per capita electricity (kWh)',hue='Entity')\n",
    "plt.xticks(rotation= 90)\n",
    "plt.title(\"India Electricity Consumption\")\n",
    "plt.show()"
   ]
  },
  {
   "cell_type": "code",
   "execution_count": null,
   "id": "9010bfe4",
   "metadata": {},
   "outputs": [],
   "source": [
    "#Hence from above barplot it is observes that in year 2018 india electricity consumption is higher."
   ]
  },
  {
   "cell_type": "code",
   "execution_count": 23,
   "id": "88d1dc81",
   "metadata": {},
   "outputs": [],
   "source": [
    "# Check china Electricity consumption now"
   ]
  },
  {
   "cell_type": "code",
   "execution_count": 26,
   "id": "fc15f123",
   "metadata": {},
   "outputs": [
    {
     "data": {
      "text/html": [
       "<div>\n",
       "<style scoped>\n",
       "    .dataframe tbody tr th:only-of-type {\n",
       "        vertical-align: middle;\n",
       "    }\n",
       "\n",
       "    .dataframe tbody tr th {\n",
       "        vertical-align: top;\n",
       "    }\n",
       "\n",
       "    .dataframe thead th {\n",
       "        text-align: right;\n",
       "    }\n",
       "</style>\n",
       "<table border=\"1\" class=\"dataframe\">\n",
       "  <thead>\n",
       "    <tr style=\"text-align: right;\">\n",
       "      <th></th>\n",
       "      <th>Entity</th>\n",
       "      <th>Year</th>\n",
       "      <th>Per capita electricity (kWh)</th>\n",
       "    </tr>\n",
       "  </thead>\n",
       "  <tbody>\n",
       "    <tr>\n",
       "      <th>1022</th>\n",
       "      <td>China</td>\n",
       "      <td>1985</td>\n",
       "      <td>381.828</td>\n",
       "    </tr>\n",
       "    <tr>\n",
       "      <th>1023</th>\n",
       "      <td>China</td>\n",
       "      <td>1986</td>\n",
       "      <td>410.524</td>\n",
       "    </tr>\n",
       "    <tr>\n",
       "      <th>1024</th>\n",
       "      <td>China</td>\n",
       "      <td>1987</td>\n",
       "      <td>445.542</td>\n",
       "    </tr>\n",
       "    <tr>\n",
       "      <th>1025</th>\n",
       "      <td>China</td>\n",
       "      <td>1988</td>\n",
       "      <td>479.211</td>\n",
       "    </tr>\n",
       "    <tr>\n",
       "      <th>1026</th>\n",
       "      <td>China</td>\n",
       "      <td>1989</td>\n",
       "      <td>504.861</td>\n",
       "    </tr>\n",
       "    <tr>\n",
       "      <th>1027</th>\n",
       "      <td>China</td>\n",
       "      <td>1990</td>\n",
       "      <td>527.835</td>\n",
       "    </tr>\n",
       "    <tr>\n",
       "      <th>1028</th>\n",
       "      <td>China</td>\n",
       "      <td>1991</td>\n",
       "      <td>567.987</td>\n",
       "    </tr>\n",
       "    <tr>\n",
       "      <th>1029</th>\n",
       "      <td>China</td>\n",
       "      <td>1992</td>\n",
       "      <td>624.789</td>\n",
       "    </tr>\n",
       "    <tr>\n",
       "      <th>1030</th>\n",
       "      <td>China</td>\n",
       "      <td>1993</td>\n",
       "      <td>665.883</td>\n",
       "    </tr>\n",
       "    <tr>\n",
       "      <th>1031</th>\n",
       "      <td>China</td>\n",
       "      <td>1994</td>\n",
       "      <td>754.297</td>\n",
       "    </tr>\n",
       "    <tr>\n",
       "      <th>1032</th>\n",
       "      <td>China</td>\n",
       "      <td>1995</td>\n",
       "      <td>811.519</td>\n",
       "    </tr>\n",
       "    <tr>\n",
       "      <th>1033</th>\n",
       "      <td>China</td>\n",
       "      <td>1996</td>\n",
       "      <td>863.917</td>\n",
       "    </tr>\n",
       "    <tr>\n",
       "      <th>1034</th>\n",
       "      <td>China</td>\n",
       "      <td>1997</td>\n",
       "      <td>899.805</td>\n",
       "    </tr>\n",
       "    <tr>\n",
       "      <th>1035</th>\n",
       "      <td>China</td>\n",
       "      <td>1998</td>\n",
       "      <td>917.466</td>\n",
       "    </tr>\n",
       "    <tr>\n",
       "      <th>1036</th>\n",
       "      <td>China</td>\n",
       "      <td>1999</td>\n",
       "      <td>967.059</td>\n",
       "    </tr>\n",
       "    <tr>\n",
       "      <th>1037</th>\n",
       "      <td>China</td>\n",
       "      <td>2000</td>\n",
       "      <td>1022.123</td>\n",
       "    </tr>\n",
       "    <tr>\n",
       "      <th>1038</th>\n",
       "      <td>China</td>\n",
       "      <td>2001</td>\n",
       "      <td>1126.855</td>\n",
       "    </tr>\n",
       "    <tr>\n",
       "      <th>1039</th>\n",
       "      <td>China</td>\n",
       "      <td>2002</td>\n",
       "      <td>1249.959</td>\n",
       "    </tr>\n",
       "    <tr>\n",
       "      <th>1040</th>\n",
       "      <td>China</td>\n",
       "      <td>2003</td>\n",
       "      <td>1413.067</td>\n",
       "    </tr>\n",
       "    <tr>\n",
       "      <th>1041</th>\n",
       "      <td>China</td>\n",
       "      <td>2004</td>\n",
       "      <td>1633.289</td>\n",
       "    </tr>\n",
       "    <tr>\n",
       "      <th>1042</th>\n",
       "      <td>China</td>\n",
       "      <td>2005</td>\n",
       "      <td>1819.561</td>\n",
       "    </tr>\n",
       "    <tr>\n",
       "      <th>1043</th>\n",
       "      <td>China</td>\n",
       "      <td>2006</td>\n",
       "      <td>2077.550</td>\n",
       "    </tr>\n",
       "    <tr>\n",
       "      <th>1044</th>\n",
       "      <td>China</td>\n",
       "      <td>2007</td>\n",
       "      <td>2397.538</td>\n",
       "    </tr>\n",
       "    <tr>\n",
       "      <th>1045</th>\n",
       "      <td>China</td>\n",
       "      <td>2008</td>\n",
       "      <td>2535.039</td>\n",
       "    </tr>\n",
       "    <tr>\n",
       "      <th>1046</th>\n",
       "      <td>China</td>\n",
       "      <td>2009</td>\n",
       "      <td>2699.810</td>\n",
       "    </tr>\n",
       "    <tr>\n",
       "      <th>1047</th>\n",
       "      <td>China</td>\n",
       "      <td>2010</td>\n",
       "      <td>3086.964</td>\n",
       "    </tr>\n",
       "    <tr>\n",
       "      <th>1048</th>\n",
       "      <td>China</td>\n",
       "      <td>2011</td>\n",
       "      <td>3428.557</td>\n",
       "    </tr>\n",
       "    <tr>\n",
       "      <th>1049</th>\n",
       "      <td>China</td>\n",
       "      <td>2012</td>\n",
       "      <td>3602.411</td>\n",
       "    </tr>\n",
       "    <tr>\n",
       "      <th>1050</th>\n",
       "      <td>China</td>\n",
       "      <td>2013</td>\n",
       "      <td>3859.648</td>\n",
       "    </tr>\n",
       "    <tr>\n",
       "      <th>1051</th>\n",
       "      <td>China</td>\n",
       "      <td>2014</td>\n",
       "      <td>4004.776</td>\n",
       "    </tr>\n",
       "    <tr>\n",
       "      <th>1052</th>\n",
       "      <td>China</td>\n",
       "      <td>2015</td>\n",
       "      <td>4080.043</td>\n",
       "    </tr>\n",
       "    <tr>\n",
       "      <th>1053</th>\n",
       "      <td>China</td>\n",
       "      <td>2016</td>\n",
       "      <td>4259.257</td>\n",
       "    </tr>\n",
       "    <tr>\n",
       "      <th>1054</th>\n",
       "      <td>China</td>\n",
       "      <td>2017</td>\n",
       "      <td>4538.073</td>\n",
       "    </tr>\n",
       "    <tr>\n",
       "      <th>1055</th>\n",
       "      <td>China</td>\n",
       "      <td>2018</td>\n",
       "      <td>4900.508</td>\n",
       "    </tr>\n",
       "    <tr>\n",
       "      <th>1056</th>\n",
       "      <td>China</td>\n",
       "      <td>2019</td>\n",
       "      <td>5110.046</td>\n",
       "    </tr>\n",
       "    <tr>\n",
       "      <th>1057</th>\n",
       "      <td>China</td>\n",
       "      <td>2020</td>\n",
       "      <td>5296.721</td>\n",
       "    </tr>\n",
       "  </tbody>\n",
       "</table>\n",
       "</div>"
      ],
      "text/plain": [
       "     Entity  Year  Per capita electricity (kWh)\n",
       "1022  China  1985                       381.828\n",
       "1023  China  1986                       410.524\n",
       "1024  China  1987                       445.542\n",
       "1025  China  1988                       479.211\n",
       "1026  China  1989                       504.861\n",
       "1027  China  1990                       527.835\n",
       "1028  China  1991                       567.987\n",
       "1029  China  1992                       624.789\n",
       "1030  China  1993                       665.883\n",
       "1031  China  1994                       754.297\n",
       "1032  China  1995                       811.519\n",
       "1033  China  1996                       863.917\n",
       "1034  China  1997                       899.805\n",
       "1035  China  1998                       917.466\n",
       "1036  China  1999                       967.059\n",
       "1037  China  2000                      1022.123\n",
       "1038  China  2001                      1126.855\n",
       "1039  China  2002                      1249.959\n",
       "1040  China  2003                      1413.067\n",
       "1041  China  2004                      1633.289\n",
       "1042  China  2005                      1819.561\n",
       "1043  China  2006                      2077.550\n",
       "1044  China  2007                      2397.538\n",
       "1045  China  2008                      2535.039\n",
       "1046  China  2009                      2699.810\n",
       "1047  China  2010                      3086.964\n",
       "1048  China  2011                      3428.557\n",
       "1049  China  2012                      3602.411\n",
       "1050  China  2013                      3859.648\n",
       "1051  China  2014                      4004.776\n",
       "1052  China  2015                      4080.043\n",
       "1053  China  2016                      4259.257\n",
       "1054  China  2017                      4538.073\n",
       "1055  China  2018                      4900.508\n",
       "1056  China  2019                      5110.046\n",
       "1057  China  2020                      5296.721"
      ]
     },
     "execution_count": 26,
     "metadata": {},
     "output_type": "execute_result"
    }
   ],
   "source": [
    "China_Elecricity_Consumption = data[data['Entity'] == 'China']\n",
    "China_Elecricity_Consumption"
   ]
  },
  {
   "cell_type": "code",
   "execution_count": 27,
   "id": "8021aeab",
   "metadata": {},
   "outputs": [
    {
     "data": {
      "text/html": [
       "<div>\n",
       "<style scoped>\n",
       "    .dataframe tbody tr th:only-of-type {\n",
       "        vertical-align: middle;\n",
       "    }\n",
       "\n",
       "    .dataframe tbody tr th {\n",
       "        vertical-align: top;\n",
       "    }\n",
       "\n",
       "    .dataframe thead th {\n",
       "        text-align: right;\n",
       "    }\n",
       "</style>\n",
       "<table border=\"1\" class=\"dataframe\">\n",
       "  <thead>\n",
       "    <tr style=\"text-align: right;\">\n",
       "      <th></th>\n",
       "      <th>Entity</th>\n",
       "      <th>Year</th>\n",
       "      <th>Per capita electricity (kWh)</th>\n",
       "    </tr>\n",
       "  </thead>\n",
       "  <tbody>\n",
       "    <tr>\n",
       "      <th>1022</th>\n",
       "      <td>China</td>\n",
       "      <td>1985</td>\n",
       "      <td>381.828</td>\n",
       "    </tr>\n",
       "    <tr>\n",
       "      <th>1023</th>\n",
       "      <td>China</td>\n",
       "      <td>1986</td>\n",
       "      <td>410.524</td>\n",
       "    </tr>\n",
       "    <tr>\n",
       "      <th>1024</th>\n",
       "      <td>China</td>\n",
       "      <td>1987</td>\n",
       "      <td>445.542</td>\n",
       "    </tr>\n",
       "    <tr>\n",
       "      <th>1025</th>\n",
       "      <td>China</td>\n",
       "      <td>1988</td>\n",
       "      <td>479.211</td>\n",
       "    </tr>\n",
       "    <tr>\n",
       "      <th>1026</th>\n",
       "      <td>China</td>\n",
       "      <td>1989</td>\n",
       "      <td>504.861</td>\n",
       "    </tr>\n",
       "  </tbody>\n",
       "</table>\n",
       "</div>"
      ],
      "text/plain": [
       "     Entity  Year  Per capita electricity (kWh)\n",
       "1022  China  1985                       381.828\n",
       "1023  China  1986                       410.524\n",
       "1024  China  1987                       445.542\n",
       "1025  China  1988                       479.211\n",
       "1026  China  1989                       504.861"
      ]
     },
     "execution_count": 27,
     "metadata": {},
     "output_type": "execute_result"
    }
   ],
   "source": [
    "China_Elecricity_Consumption.head()"
   ]
  },
  {
   "cell_type": "code",
   "execution_count": 28,
   "id": "e5823bec",
   "metadata": {},
   "outputs": [
    {
     "data": {
      "text/html": [
       "<div>\n",
       "<style scoped>\n",
       "    .dataframe tbody tr th:only-of-type {\n",
       "        vertical-align: middle;\n",
       "    }\n",
       "\n",
       "    .dataframe tbody tr th {\n",
       "        vertical-align: top;\n",
       "    }\n",
       "\n",
       "    .dataframe thead th {\n",
       "        text-align: right;\n",
       "    }\n",
       "</style>\n",
       "<table border=\"1\" class=\"dataframe\">\n",
       "  <thead>\n",
       "    <tr style=\"text-align: right;\">\n",
       "      <th></th>\n",
       "      <th>Entity</th>\n",
       "      <th>Year</th>\n",
       "      <th>Per capita electricity (kWh)</th>\n",
       "    </tr>\n",
       "  </thead>\n",
       "  <tbody>\n",
       "    <tr>\n",
       "      <th>1053</th>\n",
       "      <td>China</td>\n",
       "      <td>2016</td>\n",
       "      <td>4259.257</td>\n",
       "    </tr>\n",
       "    <tr>\n",
       "      <th>1054</th>\n",
       "      <td>China</td>\n",
       "      <td>2017</td>\n",
       "      <td>4538.073</td>\n",
       "    </tr>\n",
       "    <tr>\n",
       "      <th>1055</th>\n",
       "      <td>China</td>\n",
       "      <td>2018</td>\n",
       "      <td>4900.508</td>\n",
       "    </tr>\n",
       "    <tr>\n",
       "      <th>1056</th>\n",
       "      <td>China</td>\n",
       "      <td>2019</td>\n",
       "      <td>5110.046</td>\n",
       "    </tr>\n",
       "    <tr>\n",
       "      <th>1057</th>\n",
       "      <td>China</td>\n",
       "      <td>2020</td>\n",
       "      <td>5296.721</td>\n",
       "    </tr>\n",
       "  </tbody>\n",
       "</table>\n",
       "</div>"
      ],
      "text/plain": [
       "     Entity  Year  Per capita electricity (kWh)\n",
       "1053  China  2016                      4259.257\n",
       "1054  China  2017                      4538.073\n",
       "1055  China  2018                      4900.508\n",
       "1056  China  2019                      5110.046\n",
       "1057  China  2020                      5296.721"
      ]
     },
     "execution_count": 28,
     "metadata": {},
     "output_type": "execute_result"
    }
   ],
   "source": [
    "China_Elecricity_Consumption.tail()"
   ]
  },
  {
   "cell_type": "code",
   "execution_count": null,
   "id": "56129087",
   "metadata": {},
   "outputs": [],
   "source": [
    "# Plot Barchart for china electricity consumption"
   ]
  },
  {
   "cell_type": "code",
   "execution_count": 29,
   "id": "e79523d0",
   "metadata": {},
   "outputs": [
    {
     "data": {
      "image/png": "[encoded data removed]",
      "text/plain": [
       "<Figure size 936x648 with 1 Axes>"
      ]
     },
     "metadata": {
      "needs_background": "light"
     },
     "output_type": "display_data"
    }
   ],
   "source": [
    "plt.figure(figsize=(13,9))\n",
    "sns.barplot(data=China_Elecricity_Consumption, x = 'Year', y= 'Per capita electricity (kWh)',hue='Entity')\n",
    "plt.xticks(rotation= 90)\n",
    "plt.title(\"China Electricity Consumption\")\n",
    "plt.show()"
   ]
  },
  {
   "cell_type": "code",
   "execution_count": null,
   "id": "2ed5b058",
   "metadata": {},
   "outputs": [],
   "source": [
    "# From above analysis, it is observes that in year 2020 china consumes highest electricity consumption. "
   ]
  },
  {
   "cell_type": "code",
   "execution_count": null,
   "id": "5da02108",
   "metadata": {},
   "outputs": [],
   "source": [
    "# Lastly check U.S. electricity Consumption"
   ]
  },
  {
   "cell_type": "code",
   "execution_count": 30,
   "id": "8c512914",
   "metadata": {},
   "outputs": [
    {
     "data": {
      "text/html": [
       "<div>\n",
       "<style scoped>\n",
       "    .dataframe tbody tr th:only-of-type {\n",
       "        vertical-align: middle;\n",
       "    }\n",
       "\n",
       "    .dataframe tbody tr th {\n",
       "        vertical-align: top;\n",
       "    }\n",
       "\n",
       "    .dataframe thead th {\n",
       "        text-align: right;\n",
       "    }\n",
       "</style>\n",
       "<table border=\"1\" class=\"dataframe\">\n",
       "  <thead>\n",
       "    <tr style=\"text-align: right;\">\n",
       "      <th></th>\n",
       "      <th>Entity</th>\n",
       "      <th>Year</th>\n",
       "      <th>Per capita electricity (kWh)</th>\n",
       "    </tr>\n",
       "  </thead>\n",
       "  <tbody>\n",
       "    <tr>\n",
       "      <th>5301</th>\n",
       "      <td>United States</td>\n",
       "      <td>1985</td>\n",
       "      <td>11048.449</td>\n",
       "    </tr>\n",
       "    <tr>\n",
       "      <th>5302</th>\n",
       "      <td>United States</td>\n",
       "      <td>1986</td>\n",
       "      <td>11023.556</td>\n",
       "    </tr>\n",
       "    <tr>\n",
       "      <th>5303</th>\n",
       "      <td>United States</td>\n",
       "      <td>1987</td>\n",
       "      <td>11312.686</td>\n",
       "    </tr>\n",
       "    <tr>\n",
       "      <th>5304</th>\n",
       "      <td>United States</td>\n",
       "      <td>1988</td>\n",
       "      <td>11781.619</td>\n",
       "    </tr>\n",
       "    <tr>\n",
       "      <th>5305</th>\n",
       "      <td>United States</td>\n",
       "      <td>1989</td>\n",
       "      <td>12635.657</td>\n",
       "    </tr>\n",
       "    <tr>\n",
       "      <th>5306</th>\n",
       "      <td>United States</td>\n",
       "      <td>1990</td>\n",
       "      <td>12822.369</td>\n",
       "    </tr>\n",
       "    <tr>\n",
       "      <th>5307</th>\n",
       "      <td>United States</td>\n",
       "      <td>1991</td>\n",
       "      <td>12849.582</td>\n",
       "    </tr>\n",
       "    <tr>\n",
       "      <th>5308</th>\n",
       "      <td>United States</td>\n",
       "      <td>1992</td>\n",
       "      <td>12780.194</td>\n",
       "    </tr>\n",
       "    <tr>\n",
       "      <th>5309</th>\n",
       "      <td>United States</td>\n",
       "      <td>1993</td>\n",
       "      <td>13118.522</td>\n",
       "    </tr>\n",
       "    <tr>\n",
       "      <th>5310</th>\n",
       "      <td>United States</td>\n",
       "      <td>1994</td>\n",
       "      <td>13188.340</td>\n",
       "    </tr>\n",
       "    <tr>\n",
       "      <th>5311</th>\n",
       "      <td>United States</td>\n",
       "      <td>1995</td>\n",
       "      <td>13453.314</td>\n",
       "    </tr>\n",
       "    <tr>\n",
       "      <th>5312</th>\n",
       "      <td>United States</td>\n",
       "      <td>1996</td>\n",
       "      <td>13652.286</td>\n",
       "    </tr>\n",
       "    <tr>\n",
       "      <th>5313</th>\n",
       "      <td>United States</td>\n",
       "      <td>1997</td>\n",
       "      <td>13677.552</td>\n",
       "    </tr>\n",
       "    <tr>\n",
       "      <th>5314</th>\n",
       "      <td>United States</td>\n",
       "      <td>1998</td>\n",
       "      <td>14012.189</td>\n",
       "    </tr>\n",
       "    <tr>\n",
       "      <th>5315</th>\n",
       "      <td>United States</td>\n",
       "      <td>1999</td>\n",
       "      <td>14130.762</td>\n",
       "    </tr>\n",
       "    <tr>\n",
       "      <th>5316</th>\n",
       "      <td>United States</td>\n",
       "      <td>2000</td>\n",
       "      <td>13496.477</td>\n",
       "    </tr>\n",
       "    <tr>\n",
       "      <th>5317</th>\n",
       "      <td>United States</td>\n",
       "      <td>2001</td>\n",
       "      <td>13129.089</td>\n",
       "    </tr>\n",
       "    <tr>\n",
       "      <th>5318</th>\n",
       "      <td>United States</td>\n",
       "      <td>2002</td>\n",
       "      <td>13431.013</td>\n",
       "    </tr>\n",
       "    <tr>\n",
       "      <th>5319</th>\n",
       "      <td>United States</td>\n",
       "      <td>2003</td>\n",
       "      <td>13398.815</td>\n",
       "    </tr>\n",
       "    <tr>\n",
       "      <th>5320</th>\n",
       "      <td>United States</td>\n",
       "      <td>2004</td>\n",
       "      <td>13581.296</td>\n",
       "    </tr>\n",
       "    <tr>\n",
       "      <th>5321</th>\n",
       "      <td>United States</td>\n",
       "      <td>2005</td>\n",
       "      <td>13747.498</td>\n",
       "    </tr>\n",
       "    <tr>\n",
       "      <th>5322</th>\n",
       "      <td>United States</td>\n",
       "      <td>2006</td>\n",
       "      <td>13650.981</td>\n",
       "    </tr>\n",
       "    <tr>\n",
       "      <th>5323</th>\n",
       "      <td>United States</td>\n",
       "      <td>2007</td>\n",
       "      <td>13827.772</td>\n",
       "    </tr>\n",
       "    <tr>\n",
       "      <th>5324</th>\n",
       "      <td>United States</td>\n",
       "      <td>2008</td>\n",
       "      <td>13573.567</td>\n",
       "    </tr>\n",
       "    <tr>\n",
       "      <th>5325</th>\n",
       "      <td>United States</td>\n",
       "      <td>2009</td>\n",
       "      <td>12896.616</td>\n",
       "    </tr>\n",
       "    <tr>\n",
       "      <th>5326</th>\n",
       "      <td>United States</td>\n",
       "      <td>2010</td>\n",
       "      <td>13349.213</td>\n",
       "    </tr>\n",
       "    <tr>\n",
       "      <th>5327</th>\n",
       "      <td>United States</td>\n",
       "      <td>2011</td>\n",
       "      <td>13159.021</td>\n",
       "    </tr>\n",
       "    <tr>\n",
       "      <th>5328</th>\n",
       "      <td>United States</td>\n",
       "      <td>2012</td>\n",
       "      <td>12889.171</td>\n",
       "    </tr>\n",
       "    <tr>\n",
       "      <th>5329</th>\n",
       "      <td>United States</td>\n",
       "      <td>2013</td>\n",
       "      <td>12850.686</td>\n",
       "    </tr>\n",
       "    <tr>\n",
       "      <th>5330</th>\n",
       "      <td>United States</td>\n",
       "      <td>2014</td>\n",
       "      <td>12881.020</td>\n",
       "    </tr>\n",
       "    <tr>\n",
       "      <th>5331</th>\n",
       "      <td>United States</td>\n",
       "      <td>2015</td>\n",
       "      <td>12751.688</td>\n",
       "    </tr>\n",
       "    <tr>\n",
       "      <th>5332</th>\n",
       "      <td>United States</td>\n",
       "      <td>2016</td>\n",
       "      <td>12678.900</td>\n",
       "    </tr>\n",
       "    <tr>\n",
       "      <th>5333</th>\n",
       "      <td>United States</td>\n",
       "      <td>2017</td>\n",
       "      <td>12483.701</td>\n",
       "    </tr>\n",
       "    <tr>\n",
       "      <th>5334</th>\n",
       "      <td>United States</td>\n",
       "      <td>2018</td>\n",
       "      <td>12852.293</td>\n",
       "    </tr>\n",
       "    <tr>\n",
       "      <th>5335</th>\n",
       "      <td>United States</td>\n",
       "      <td>2019</td>\n",
       "      <td>12647.457</td>\n",
       "    </tr>\n",
       "    <tr>\n",
       "      <th>5336</th>\n",
       "      <td>United States</td>\n",
       "      <td>2020</td>\n",
       "      <td>12235.088</td>\n",
       "    </tr>\n",
       "  </tbody>\n",
       "</table>\n",
       "</div>"
      ],
      "text/plain": [
       "             Entity  Year  Per capita electricity (kWh)\n",
       "5301  United States  1985                     11048.449\n",
       "5302  United States  1986                     11023.556\n",
       "5303  United States  1987                     11312.686\n",
       "5304  United States  1988                     11781.619\n",
       "5305  United States  1989                     12635.657\n",
       "5306  United States  1990                     12822.369\n",
       "5307  United States  1991                     12849.582\n",
       "5308  United States  1992                     12780.194\n",
       "5309  United States  1993                     13118.522\n",
       "5310  United States  1994                     13188.340\n",
       "5311  United States  1995                     13453.314\n",
       "5312  United States  1996                     13652.286\n",
       "5313  United States  1997                     13677.552\n",
       "5314  United States  1998                     14012.189\n",
       "5315  United States  1999                     14130.762\n",
       "5316  United States  2000                     13496.477\n",
       "5317  United States  2001                     13129.089\n",
       "5318  United States  2002                     13431.013\n",
       "5319  United States  2003                     13398.815\n",
       "5320  United States  2004                     13581.296\n",
       "5321  United States  2005                     13747.498\n",
       "5322  United States  2006                     13650.981\n",
       "5323  United States  2007                     13827.772\n",
       "5324  United States  2008                     13573.567\n",
       "5325  United States  2009                     12896.616\n",
       "5326  United States  2010                     13349.213\n",
       "5327  United States  2011                     13159.021\n",
       "5328  United States  2012                     12889.171\n",
       "5329  United States  2013                     12850.686\n",
       "5330  United States  2014                     12881.020\n",
       "5331  United States  2015                     12751.688\n",
       "5332  United States  2016                     12678.900\n",
       "5333  United States  2017                     12483.701\n",
       "5334  United States  2018                     12852.293\n",
       "5335  United States  2019                     12647.457\n",
       "5336  United States  2020                     12235.088"
      ]
     },
     "execution_count": 30,
     "metadata": {},
     "output_type": "execute_result"
    }
   ],
   "source": [
    "US_Elecricity_Consumption = data[data['Entity'] == 'United States']\n",
    "US_Elecricity_Consumption"
   ]
  },
  {
   "cell_type": "code",
   "execution_count": 44,
   "id": "71dd0e8b",
   "metadata": {},
   "outputs": [],
   "source": [
    "# Plot Barchart for United States electricity consumption"
   ]
  },
  {
   "cell_type": "code",
   "execution_count": 31,
   "id": "e476eb93",
   "metadata": {},
   "outputs": [
    {
     "data": {
      "image/png": "[encoded data removed]",
      "text/plain": [
       "<Figure size 936x648 with 1 Axes>"
      ]
     },
     "metadata": {
      "needs_background": "light"
     },
     "output_type": "display_data"
    }
   ],
   "source": [
    "plt.figure(figsize=(13,9))\n",
    "sns.barplot(data=US_Elecricity_Consumption, x = 'Year', y= 'Per capita electricity (kWh)',hue='Entity')\n",
    "plt.xticks(rotation= 90)\n",
    "plt.title(\"United States Electricity Consumption\")\n",
    "plt.show()"
   ]
  },
  {
   "cell_type": "code",
   "execution_count": null,
   "id": "3ffd73fa",
   "metadata": {},
   "outputs": [],
   "source": [
    "# From above analysis it is observed that US electricity consumption is variable according to need."
   ]
  },
  {
   "cell_type": "code",
   "execution_count": null,
   "id": "f96e0c18",
   "metadata": {},
   "outputs": [],
   "source": [
    "# Now with the help of this analysis draw a line plot so we can summerize and understand in betterway."
   ]
  },
  {
   "cell_type": "code",
   "execution_count": 32,
   "id": "784e6fe8",
   "metadata": {},
   "outputs": [
    {
     "data": {
      "image/png": "[encoded data removed]",
      "text/plain": [
       "<Figure size 720x504 with 1 Axes>"
      ]
     },
     "metadata": {
      "needs_background": "light"
     },
     "output_type": "display_data"
    }
   ],
   "source": [
    "# India\n",
    "plt.figure(figsize=(10,7))\n",
    "plt.plot(data['Year'][data['Entity']=='India'],\n",
    "        data['Per capita electricity (kWh)'][data['Entity']=='India'])\n",
    "plt.title('India Electricity Consumption')\n",
    "plt.show()"
   ]
  },
  {
   "cell_type": "code",
   "execution_count": 50,
   "id": "9fbbde9f",
   "metadata": {},
   "outputs": [
    {
     "data": {
      "image/png": "[encoded data removed]",
      "text/plain": [
       "<Figure size 720x504 with 1 Axes>"
      ]
     },
     "metadata": {
      "needs_background": "light"
     },
     "output_type": "display_data"
    }
   ],
   "source": [
    "# China\n",
    "plt.figure(figsize=(10,7))\n",
    "plt.plot(data['Year'][data['Entity']=='China'],\n",
    "        data['Per capita electricity (kWh)'][data['Entity']=='China'])\n",
    "plt.title('China Electricity Consumption')\n",
    "plt.show()"
   ]
  },
  {
   "cell_type": "code",
   "execution_count": 34,
   "id": "22869474",
   "metadata": {},
   "outputs": [
    {
     "data": {
      "image/png": "[encoded data removed]",
      "text/plain": [
       "<Figure size 720x504 with 1 Axes>"
      ]
     },
     "metadata": {
      "needs_background": "light"
     },
     "output_type": "display_data"
    }
   ],
   "source": [
    "# United States\n",
    "plt.figure(figsize=(10,7))\n",
    "plt.plot(data['Year'][data['Entity']=='United States'],\n",
    "        data['Per capita electricity (kWh)'][data['Entity']=='United States'])\n",
    "plt.title('United States Electricity Consumption')\n",
    "plt.show()"
   ]
  },
  {
   "cell_type": "code",
   "execution_count": null,
   "id": "6fd6081f",
   "metadata": {},
   "outputs": [],
   "source": [
    "# From all above analysis, it is observed that, we know the output which is in numerical so we can apply regression technique.\n",
    "# As our data contains 1 input (Years) and 1 output (Electricity consumption), we can apply simple lenear regression.\n",
    "# Now lets do Linear Regression on India,China,United States- \n",
    "# Formula is:-  y = mx+c\n",
    "# x = Input, y = Output, m =mean/slop of input and output, c = Inierception point / regression line "
   ]
  },
  {
   "cell_type": "code",
   "execution_count": 37,
   "id": "72538b09",
   "metadata": {},
   "outputs": [],
   "source": [
    "x = India_Elecricity_Consumption.drop(['Per capita electricity (kWh)','Entity'],axis= 1)\n",
    "y = India_Elecricity_Consumption['Per capita electricity (kWh)']"
   ]
  },
  {
   "cell_type": "code",
   "execution_count": 43,
   "id": "0937937b",
   "metadata": {},
   "outputs": [],
   "source": [
    "# Hear x is input which is nothing but India electricity consumption-years only. \n",
    "# y is output which is nothing but India electricity consumption- Per capita electricity (kWh)"
   ]
  },
  {
   "cell_type": "code",
   "execution_count": 40,
   "id": "2becf7d6",
   "metadata": {},
   "outputs": [
    {
     "data": {
      "text/plain": [
       "(36, 1)"
      ]
     },
     "execution_count": 40,
     "metadata": {},
     "output_type": "execute_result"
    }
   ],
   "source": [
    "x.shape "
   ]
  },
  {
   "cell_type": "code",
   "execution_count": 39,
   "id": "7abab0da",
   "metadata": {},
   "outputs": [
    {
     "data": {
      "text/plain": [
       "(36,)"
      ]
     },
     "execution_count": 39,
     "metadata": {},
     "output_type": "execute_result"
    }
   ],
   "source": [
    "y.shape"
   ]
  },
  {
   "cell_type": "code",
   "execution_count": null,
   "id": "7265b11b",
   "metadata": {},
   "outputs": [],
   "source": [
    "# Now for lenear regression we required sklearn library (module) and linearregression function, so import it\n",
    "# To split data for traing and testing we requires train_test_split function, so import it."
   ]
  },
  {
   "cell_type": "code",
   "execution_count": 41,
   "id": "2fb2eeac",
   "metadata": {},
   "outputs": [],
   "source": [
    "from sklearn.linear_model import LinearRegression\n",
    "from sklearn.model_selection import train_test_split"
   ]
  },
  {
   "cell_type": "code",
   "execution_count": 42,
   "id": "3d958be3",
   "metadata": {},
   "outputs": [],
   "source": [
    "X_train, X_test, y_train, y_test = train_test_split(x, y, test_size=0.2) # Splitting data for testing (0.2 means 20% for test and 80% for traing)"
   ]
  },
  {
   "cell_type": "code",
   "execution_count": 47,
   "id": "9298dcd7",
   "metadata": {},
   "outputs": [
    {
     "data": {
      "text/plain": [
       "LinearRegression()"
      ]
     },
     "execution_count": 47,
     "metadata": {},
     "output_type": "execute_result"
    }
   ],
   "source": [
    "model_india = LinearRegression () #  Creating object, model_india and applying/ assigning linear regression algo.\n",
    "model_india.fit(x,y)  #Training data (algorithm will understand the pattern + will calculate m and c )"
   ]
  },
  {
   "cell_type": "code",
   "execution_count": 52,
   "id": "45db60e0",
   "metadata": {},
   "outputs": [
    {
     "name": "stdout",
     "output_type": "stream",
     "text": [
      "Coefficient:  [21.11990232]\n",
      "intercept:  -41723.12313899615\n"
     ]
    }
   ],
   "source": [
    "print(\"Coefficient: \",model_india.coef_) # coef_ mean value of m/slop\n",
    "print(\"intercept: \",model_india.intercept_) # value of c/interception point / regression point"
   ]
  },
  {
   "cell_type": "code",
   "execution_count": 59,
   "id": "139e85d9",
   "metadata": {},
   "outputs": [],
   "source": [
    "pre=model_india.predict(x) # Testing data"
   ]
  },
  {
   "cell_type": "code",
   "execution_count": null,
   "id": "af320dfc",
   "metadata": {},
   "outputs": [],
   "source": [
    "# Lets plot linear regression on Training data Vs Testing data (Actual values Vs. Predicted values)\n",
    "# Here scatter plot is traning data and line plot is for testing data."
   ]
  },
  {
   "cell_type": "code",
   "execution_count": 51,
   "id": "9899bb05",
   "metadata": {},
   "outputs": [
    {
     "data": {
      "image/png": "[encoded data removed]",
      "text/plain": [
       "<Figure size 864x648 with 1 Axes>"
      ]
     },
     "metadata": {
      "needs_background": "light"
     },
     "output_type": "display_data"
    }
   ],
   "source": [
    "plt.figure(figsize=(12,9))\n",
    "plt.scatter(x,y,label= 'Actual Values') # Training Data \n",
    "plt.plot(x,pre,color= 'g',label= \"Predicted Line\") # Testing Data\n",
    "plt.title(\"India\",color='r')\n",
    "plt.xlabel(\"Years\",color='r')\n",
    "plt.ylabel(\"Per capita electricity (kWh)\",color='r')\n",
    "plt.legend() \n",
    "plt.tight_layout()\n",
    "plt.show()"
   ]
  },
  {
   "cell_type": "code",
   "execution_count": null,
   "id": "50f20bb9",
   "metadata": {},
   "outputs": [],
   "source": [
    "# From above India Electricity Consumption analysis, we conclude that after year 2000 predicted ans actual electricity consumption is having some errors."
   ]
  },
  {
   "cell_type": "code",
   "execution_count": 63,
   "id": "580dfb7b",
   "metadata": {},
   "outputs": [],
   "source": [
    "# Lets Do same approch on China Country Electricity Consumption."
   ]
  },
  {
   "cell_type": "code",
   "execution_count": 61,
   "id": "4c6b4830",
   "metadata": {},
   "outputs": [],
   "source": [
    "x = China_Elecricity_Consumption.drop(['Per capita electricity (kWh)','Entity'],axis= 1)\n",
    "y = China_Elecricity_Consumption['Per capita electricity (kWh)']"
   ]
  },
  {
   "cell_type": "code",
   "execution_count": 88,
   "id": "5ed30b31",
   "metadata": {},
   "outputs": [
    {
     "data": {
      "text/plain": [
       "(36, 1)"
      ]
     },
     "execution_count": 88,
     "metadata": {},
     "output_type": "execute_result"
    }
   ],
   "source": [
    "x.shape"
   ]
  },
  {
   "cell_type": "code",
   "execution_count": 89,
   "id": "8aeeb6e9",
   "metadata": {},
   "outputs": [
    {
     "data": {
      "text/plain": [
       "(36,)"
      ]
     },
     "execution_count": 89,
     "metadata": {},
     "output_type": "execute_result"
    }
   ],
   "source": [
    "y.shape"
   ]
  },
  {
   "cell_type": "code",
   "execution_count": 70,
   "id": "e4c804a2",
   "metadata": {},
   "outputs": [],
   "source": [
    "X_train, X_test, y_train, y_test = train_test_split(x, y, test_size=0.2)"
   ]
  },
  {
   "cell_type": "code",
   "execution_count": 71,
   "id": "4dd12ff2",
   "metadata": {},
   "outputs": [
    {
     "data": {
      "text/plain": [
       "LinearRegression()"
      ]
     },
     "execution_count": 71,
     "metadata": {},
     "output_type": "execute_result"
    }
   ],
   "source": [
    "model_china = LinearRegression ()\n",
    "model_china.fit(x,y)"
   ]
  },
  {
   "cell_type": "code",
   "execution_count": 72,
   "id": "6d17a435",
   "metadata": {},
   "outputs": [
    {
     "name": "stdout",
     "output_type": "stream",
     "text": [
      "Coefficient:  [144.66853256]\n",
      "intercept:  -287644.1720647791\n"
     ]
    }
   ],
   "source": [
    "print(\"Coefficient: \",model_china.coef_)\n",
    "print(\"intercept: \",model_china.intercept_)\n",
    "pre=model_china.predict(x)"
   ]
  },
  {
   "cell_type": "code",
   "execution_count": 73,
   "id": "78f75422",
   "metadata": {},
   "outputs": [
    {
     "data": {
      "image/png": "[encoded data removed]",
      "text/plain": [
       "<Figure size 864x648 with 1 Axes>"
      ]
     },
     "metadata": {
      "needs_background": "light"
     },
     "output_type": "display_data"
    }
   ],
   "source": [
    "plt.figure(figsize=(12,9))\n",
    "plt.scatter(x,y,label= 'Actual Values')\n",
    "plt.plot(x,pre,color= 'g',label= \"Predicted Values\")\n",
    "plt.title(\"China\",color='r')\n",
    "plt.xlabel(\"Years\",color='r')\n",
    "plt.ylabel(\"Per capita electricity (kWh)\",color='r')\n",
    "plt.legend()\n",
    "plt.tight_layout()\n",
    "plt.show()"
   ]
  },
  {
   "cell_type": "code",
   "execution_count": null,
   "id": "6d45b36d",
   "metadata": {},
   "outputs": [],
   "source": [
    "# From above China Electricity Consumption analysis, we conclude that there some errors in actual vales and predicted values."
   ]
  },
  {
   "cell_type": "code",
   "execution_count": null,
   "id": "41a912c2",
   "metadata": {},
   "outputs": [],
   "source": [
    "# Lets apply same approach on US Contry Electricity Consumption "
   ]
  },
  {
   "cell_type": "code",
   "execution_count": 96,
   "id": "d04738e4",
   "metadata": {},
   "outputs": [],
   "source": [
    "x = US_Elecricity_Consumption.drop(['Per capita electricity (kWh)','Entity'],axis= 1)\n",
    "y = US_Elecricity_Consumption['Per capita electricity (kWh)']"
   ]
  },
  {
   "cell_type": "code",
   "execution_count": 97,
   "id": "f35155d6",
   "metadata": {},
   "outputs": [
    {
     "data": {
      "text/plain": [
       "(36, 1)"
      ]
     },
     "execution_count": 97,
     "metadata": {},
     "output_type": "execute_result"
    }
   ],
   "source": [
    "x.shape"
   ]
  },
  {
   "cell_type": "code",
   "execution_count": 98,
   "id": "5c69fb09",
   "metadata": {},
   "outputs": [
    {
     "data": {
      "text/plain": [
       "(36,)"
      ]
     },
     "execution_count": 98,
     "metadata": {},
     "output_type": "execute_result"
    }
   ],
   "source": [
    "y.shape"
   ]
  },
  {
   "cell_type": "code",
   "execution_count": 99,
   "id": "0a520e97",
   "metadata": {},
   "outputs": [],
   "source": [
    "X_train, X_test, y_train, y_test = train_test_split(x, y, test_size=0.2)"
   ]
  },
  {
   "cell_type": "code",
   "execution_count": 101,
   "id": "cd05846e",
   "metadata": {},
   "outputs": [
    {
     "data": {
      "text/plain": [
       "LinearRegression()"
      ]
     },
     "execution_count": 101,
     "metadata": {},
     "output_type": "execute_result"
    }
   ],
   "source": [
    "model_US = LinearRegression ()\n",
    "model_US.fit(x,y)"
   ]
  },
  {
   "cell_type": "code",
   "execution_count": 102,
   "id": "ed546718",
   "metadata": {},
   "outputs": [
    {
     "name": "stdout",
     "output_type": "stream",
     "text": [
      "Coefficient:  [18.66015328]\n",
      "intercept:  -24394.77808580007\n"
     ]
    }
   ],
   "source": [
    "print(\"Coefficient: \",model_US.coef_)\n",
    "print(\"intercept: \",model_US.intercept_)\n",
    "pre=model_US.predict(x)"
   ]
  },
  {
   "cell_type": "code",
   "execution_count": 103,
   "id": "19685b1e",
   "metadata": {},
   "outputs": [
    {
     "data": {
      "image/png": "[encoded data removed]",
      "text/plain": [
       "<Figure size 864x648 with 1 Axes>"
      ]
     },
     "metadata": {
      "needs_background": "light"
     },
     "output_type": "display_data"
    }
   ],
   "source": [
    "plt.figure(figsize=(12,9))\n",
    "plt.scatter(x,y,label= 'Actual Values')\n",
    "plt.plot(x,pre,color= 'g',label= \"Predicted Values\")\n",
    "plt.title(\"United States\",color='r')\n",
    "plt.xlabel(\"Years\",color='r')\n",
    "plt.ylabel(\"Per capita electricity (kWh)\",color='r')\n",
    "plt.legend()\n",
    "plt.tight_layout()\n",
    "plt.show()"
   ]
  },
  {
   "cell_type": "code",
   "execution_count": null,
   "id": "db80218d",
   "metadata": {},
   "outputs": [],
   "source": [
    "# From above US Elcrticity Consumption analysis, we can observed that there is big diiference (Outliers) between predicted and actual vales. Error rate is higher."
   ]
  },
  {
   "cell_type": "code",
   "execution_count": null,
   "id": "6e8c16c0",
   "metadata": {},
   "outputs": [],
   "source": []
  }
 ],
 "metadata": {
  "kernelspec": {
   "display_name": "Python 3 (ipykernel)",
   "language": "python",
   "name": "python3"
  },
  "language_info": {
   "codemirror_mode": {
    "name": "ipython",
    "version": 3
   },
   "file_extension": ".py",
   "mimetype": "text/x-python",
   "name": "python",
   "nbconvert_exporter": "python",
   "pygments_lexer": "ipython3",
   "version": "3.9.7"
  }
 },
 "nbformat": 4,
 "nbformat_minor": 5
}
