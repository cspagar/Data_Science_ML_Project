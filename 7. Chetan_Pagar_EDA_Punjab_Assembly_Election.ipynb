{
 "cells": [
  {
   "cell_type": "code",
   "execution_count": 1,
   "id": "07c70b24",
   "metadata": {},
   "outputs": [],
   "source": [
    "# Punjab Assembly Elections 2022 - Political partywise Percentage Analyssis."
   ]
  },
  {
   "cell_type": "code",
   "execution_count": null,
   "id": "2355ba20",
   "metadata": {},
   "outputs": [],
   "source": [
    "# Module Alization (Import Numpy, Padas, Matplotlib, Seaborn Libraries)"
   ]
  },
  {
   "cell_type": "code",
   "execution_count": 52,
   "id": "7c5cc64f",
   "metadata": {},
   "outputs": [],
   "source": [
    "import numpy as np\n",
    "import pandas as pd\n",
    "import matplotlib.pyplot as plt\n",
    "import seaborn as sns"
   ]
  },
  {
   "cell_type": "code",
   "execution_count": null,
   "id": "09d5d8d9",
   "metadata": {},
   "outputs": [],
   "source": [
    "# Read Dataset for Analysis"
   ]
  },
  {
   "cell_type": "code",
   "execution_count": 53,
   "id": "0a5f7731",
   "metadata": {},
   "outputs": [
    {
     "data": {
      "text/html": [
       "<div>\n",
       "<style scoped>\n",
       "    .dataframe tbody tr th:only-of-type {\n",
       "        vertical-align: middle;\n",
       "    }\n",
       "\n",
       "    .dataframe tbody tr th {\n",
       "        vertical-align: top;\n",
       "    }\n",
       "\n",
       "    .dataframe thead th {\n",
       "        text-align: right;\n",
       "    }\n",
       "</style>\n",
       "<table border=\"1\" class=\"dataframe\">\n",
       "  <thead>\n",
       "    <tr style=\"text-align: right;\">\n",
       "      <th></th>\n",
       "      <th>AC Name</th>\n",
       "      <th>AC No.</th>\n",
       "      <th>Type</th>\n",
       "      <th>District</th>\n",
       "      <th>Winning Candidate</th>\n",
       "      <th>Party</th>\n",
       "      <th>EVM Votes</th>\n",
       "      <th>Postal Votes\\t</th>\n",
       "      <th>Total Votes\\t</th>\n",
       "      <th>% of Votes</th>\n",
       "    </tr>\n",
       "  </thead>\n",
       "  <tbody>\n",
       "    <tr>\n",
       "      <th>0</th>\n",
       "      <td>Abohar</td>\n",
       "      <td>81</td>\n",
       "      <td>GEN</td>\n",
       "      <td>Firozpur</td>\n",
       "      <td>SANDEEP JAKHAR</td>\n",
       "      <td>Indian National Congress</td>\n",
       "      <td>49390</td>\n",
       "      <td>534</td>\n",
       "      <td>49924</td>\n",
       "      <td>37.51</td>\n",
       "    </tr>\n",
       "    <tr>\n",
       "      <th>1</th>\n",
       "      <td>Adampur</td>\n",
       "      <td>38</td>\n",
       "      <td>SC</td>\n",
       "      <td>Jalandhar</td>\n",
       "      <td>SUKHWINDER SINGH KOTLI</td>\n",
       "      <td>Indian National Congress</td>\n",
       "      <td>39373</td>\n",
       "      <td>181</td>\n",
       "      <td>39554</td>\n",
       "      <td>34.77</td>\n",
       "    </tr>\n",
       "    <tr>\n",
       "      <th>2</th>\n",
       "      <td>Ajnala</td>\n",
       "      <td>11</td>\n",
       "      <td>GEN</td>\n",
       "      <td>Amritsar</td>\n",
       "      <td>KULDEEP SINGH DHALIWAL</td>\n",
       "      <td>Aam Aadmi Party</td>\n",
       "      <td>43257</td>\n",
       "      <td>298</td>\n",
       "      <td>43555</td>\n",
       "      <td>35.69</td>\n",
       "    </tr>\n",
       "    <tr>\n",
       "      <th>3</th>\n",
       "      <td>Amargarh</td>\n",
       "      <td>106</td>\n",
       "      <td>GEN</td>\n",
       "      <td>Sangrur</td>\n",
       "      <td>PROF. JASWANT SINGH GAJJAN MAJRA</td>\n",
       "      <td>Aam Aadmi Party</td>\n",
       "      <td>44294</td>\n",
       "      <td>229</td>\n",
       "      <td>44523</td>\n",
       "      <td>34.28</td>\n",
       "    </tr>\n",
       "    <tr>\n",
       "      <th>4</th>\n",
       "      <td>Amloh</td>\n",
       "      <td>56</td>\n",
       "      <td>GEN</td>\n",
       "      <td>Fatehgarh Sahib</td>\n",
       "      <td>Gurinder Singh Garry Birring</td>\n",
       "      <td>Aam Aadmi Party</td>\n",
       "      <td>52648</td>\n",
       "      <td>264</td>\n",
       "      <td>52912</td>\n",
       "      <td>46.43</td>\n",
       "    </tr>\n",
       "    <tr>\n",
       "      <th>...</th>\n",
       "      <td>...</td>\n",
       "      <td>...</td>\n",
       "      <td>...</td>\n",
       "      <td>...</td>\n",
       "      <td>...</td>\n",
       "      <td>...</td>\n",
       "      <td>...</td>\n",
       "      <td>...</td>\n",
       "      <td>...</td>\n",
       "      <td>...</td>\n",
       "    </tr>\n",
       "    <tr>\n",
       "      <th>112</th>\n",
       "      <td>Sunam</td>\n",
       "      <td>101</td>\n",
       "      <td>GEN</td>\n",
       "      <td>Sangrur</td>\n",
       "      <td>AMAN ARORA</td>\n",
       "      <td>Aam Aadmi Party</td>\n",
       "      <td>94274</td>\n",
       "      <td>520</td>\n",
       "      <td>94794</td>\n",
       "      <td>61.28</td>\n",
       "    </tr>\n",
       "    <tr>\n",
       "      <th>113</th>\n",
       "      <td>Talwandi Sabo</td>\n",
       "      <td>94</td>\n",
       "      <td>GEN</td>\n",
       "      <td>Bathinda</td>\n",
       "      <td>Prof. Baljinder Kaur</td>\n",
       "      <td>Aam Aadmi Party</td>\n",
       "      <td>48358</td>\n",
       "      <td>395</td>\n",
       "      <td>48753</td>\n",
       "      <td>37.04</td>\n",
       "    </tr>\n",
       "    <tr>\n",
       "      <th>114</th>\n",
       "      <td>Tarn Taran</td>\n",
       "      <td>21</td>\n",
       "      <td>GEN</td>\n",
       "      <td>Amritsar</td>\n",
       "      <td>Dr. Kashmir Singh Sohal</td>\n",
       "      <td>Aam Aadmi Party</td>\n",
       "      <td>52469</td>\n",
       "      <td>466</td>\n",
       "      <td>52935</td>\n",
       "      <td>40.45</td>\n",
       "    </tr>\n",
       "    <tr>\n",
       "      <th>115</th>\n",
       "      <td>Urmar</td>\n",
       "      <td>41</td>\n",
       "      <td>GEN</td>\n",
       "      <td>Hoshiarpur</td>\n",
       "      <td>Jasvir Singh Raja Gill</td>\n",
       "      <td>Aam Aadmi Party</td>\n",
       "      <td>42029</td>\n",
       "      <td>547</td>\n",
       "      <td>42576</td>\n",
       "      <td>34.01</td>\n",
       "    </tr>\n",
       "    <tr>\n",
       "      <th>116</th>\n",
       "      <td>Zira</td>\n",
       "      <td>75</td>\n",
       "      <td>GEN</td>\n",
       "      <td>Firozpur</td>\n",
       "      <td>Naresh Kataria</td>\n",
       "      <td>Aam Aadmi Party</td>\n",
       "      <td>63709</td>\n",
       "      <td>325</td>\n",
       "      <td>64034</td>\n",
       "      <td>42.35</td>\n",
       "    </tr>\n",
       "  </tbody>\n",
       "</table>\n",
       "<p>117 rows × 10 columns</p>\n",
       "</div>"
      ],
      "text/plain": [
       "           AC Name  AC No. Type         District  \\\n",
       "0           Abohar      81  GEN         Firozpur   \n",
       "1          Adampur      38   SC        Jalandhar   \n",
       "2           Ajnala      11  GEN         Amritsar   \n",
       "3         Amargarh     106  GEN          Sangrur   \n",
       "4            Amloh      56  GEN  Fatehgarh Sahib   \n",
       "..             ...     ...  ...              ...   \n",
       "112          Sunam     101  GEN          Sangrur   \n",
       "113  Talwandi Sabo      94  GEN         Bathinda   \n",
       "114     Tarn Taran      21  GEN         Amritsar   \n",
       "115          Urmar      41  GEN       Hoshiarpur   \n",
       "116           Zira      75  GEN         Firozpur   \n",
       "\n",
       "                    Winning Candidate                     Party  EVM Votes  \\\n",
       "0                      SANDEEP JAKHAR  Indian National Congress      49390   \n",
       "1              SUKHWINDER SINGH KOTLI  Indian National Congress      39373   \n",
       "2              KULDEEP SINGH DHALIWAL           Aam Aadmi Party      43257   \n",
       "3    PROF. JASWANT SINGH GAJJAN MAJRA           Aam Aadmi Party      44294   \n",
       "4        Gurinder Singh Garry Birring           Aam Aadmi Party      52648   \n",
       "..                                ...                       ...        ...   \n",
       "112                        AMAN ARORA           Aam Aadmi Party      94274   \n",
       "113              Prof. Baljinder Kaur           Aam Aadmi Party      48358   \n",
       "114           Dr. Kashmir Singh Sohal           Aam Aadmi Party      52469   \n",
       "115            Jasvir Singh Raja Gill           Aam Aadmi Party      42029   \n",
       "116                    Naresh Kataria           Aam Aadmi Party      63709   \n",
       "\n",
       "     Postal Votes\\t  Total Votes\\t  % of Votes  \n",
       "0               534          49924       37.51  \n",
       "1               181          39554       34.77  \n",
       "2               298          43555       35.69  \n",
       "3               229          44523       34.28  \n",
       "4               264          52912       46.43  \n",
       "..              ...            ...         ...  \n",
       "112             520          94794       61.28  \n",
       "113             395          48753       37.04  \n",
       "114             466          52935       40.45  \n",
       "115             547          42576       34.01  \n",
       "116             325          64034       42.35  \n",
       "\n",
       "[117 rows x 10 columns]"
      ]
     },
     "execution_count": 53,
     "metadata": {},
     "output_type": "execute_result"
    }
   ],
   "source": [
    "df = pd.read_csv('Punjab Assembly Elections 2022.csv')\n",
    "df"
   ]
  },
  {
   "cell_type": "code",
   "execution_count": 4,
   "id": "e971e797",
   "metadata": {},
   "outputs": [],
   "source": [
    "# Fetch first 5 records from dataset"
   ]
  },
  {
   "cell_type": "code",
   "execution_count": 54,
   "id": "3a3c4959",
   "metadata": {},
   "outputs": [
    {
     "data": {
      "text/html": [
       "<div>\n",
       "<style scoped>\n",
       "    .dataframe tbody tr th:only-of-type {\n",
       "        vertical-align: middle;\n",
       "    }\n",
       "\n",
       "    .dataframe tbody tr th {\n",
       "        vertical-align: top;\n",
       "    }\n",
       "\n",
       "    .dataframe thead th {\n",
       "        text-align: right;\n",
       "    }\n",
       "</style>\n",
       "<table border=\"1\" class=\"dataframe\">\n",
       "  <thead>\n",
       "    <tr style=\"text-align: right;\">\n",
       "      <th></th>\n",
       "      <th>AC Name</th>\n",
       "      <th>AC No.</th>\n",
       "      <th>Type</th>\n",
       "      <th>District</th>\n",
       "      <th>Winning Candidate</th>\n",
       "      <th>Party</th>\n",
       "      <th>EVM Votes</th>\n",
       "      <th>Postal Votes\\t</th>\n",
       "      <th>Total Votes\\t</th>\n",
       "      <th>% of Votes</th>\n",
       "    </tr>\n",
       "  </thead>\n",
       "  <tbody>\n",
       "    <tr>\n",
       "      <th>0</th>\n",
       "      <td>Abohar</td>\n",
       "      <td>81</td>\n",
       "      <td>GEN</td>\n",
       "      <td>Firozpur</td>\n",
       "      <td>SANDEEP JAKHAR</td>\n",
       "      <td>Indian National Congress</td>\n",
       "      <td>49390</td>\n",
       "      <td>534</td>\n",
       "      <td>49924</td>\n",
       "      <td>37.51</td>\n",
       "    </tr>\n",
       "    <tr>\n",
       "      <th>1</th>\n",
       "      <td>Adampur</td>\n",
       "      <td>38</td>\n",
       "      <td>SC</td>\n",
       "      <td>Jalandhar</td>\n",
       "      <td>SUKHWINDER SINGH KOTLI</td>\n",
       "      <td>Indian National Congress</td>\n",
       "      <td>39373</td>\n",
       "      <td>181</td>\n",
       "      <td>39554</td>\n",
       "      <td>34.77</td>\n",
       "    </tr>\n",
       "    <tr>\n",
       "      <th>2</th>\n",
       "      <td>Ajnala</td>\n",
       "      <td>11</td>\n",
       "      <td>GEN</td>\n",
       "      <td>Amritsar</td>\n",
       "      <td>KULDEEP SINGH DHALIWAL</td>\n",
       "      <td>Aam Aadmi Party</td>\n",
       "      <td>43257</td>\n",
       "      <td>298</td>\n",
       "      <td>43555</td>\n",
       "      <td>35.69</td>\n",
       "    </tr>\n",
       "    <tr>\n",
       "      <th>3</th>\n",
       "      <td>Amargarh</td>\n",
       "      <td>106</td>\n",
       "      <td>GEN</td>\n",
       "      <td>Sangrur</td>\n",
       "      <td>PROF. JASWANT SINGH GAJJAN MAJRA</td>\n",
       "      <td>Aam Aadmi Party</td>\n",
       "      <td>44294</td>\n",
       "      <td>229</td>\n",
       "      <td>44523</td>\n",
       "      <td>34.28</td>\n",
       "    </tr>\n",
       "    <tr>\n",
       "      <th>4</th>\n",
       "      <td>Amloh</td>\n",
       "      <td>56</td>\n",
       "      <td>GEN</td>\n",
       "      <td>Fatehgarh Sahib</td>\n",
       "      <td>Gurinder Singh Garry Birring</td>\n",
       "      <td>Aam Aadmi Party</td>\n",
       "      <td>52648</td>\n",
       "      <td>264</td>\n",
       "      <td>52912</td>\n",
       "      <td>46.43</td>\n",
       "    </tr>\n",
       "  </tbody>\n",
       "</table>\n",
       "</div>"
      ],
      "text/plain": [
       "    AC Name  AC No. Type         District                 Winning Candidate  \\\n",
       "0    Abohar      81  GEN         Firozpur                    SANDEEP JAKHAR   \n",
       "1   Adampur      38   SC        Jalandhar            SUKHWINDER SINGH KOTLI   \n",
       "2    Ajnala      11  GEN         Amritsar            KULDEEP SINGH DHALIWAL   \n",
       "3  Amargarh     106  GEN          Sangrur  PROF. JASWANT SINGH GAJJAN MAJRA   \n",
       "4     Amloh      56  GEN  Fatehgarh Sahib      Gurinder Singh Garry Birring   \n",
       "\n",
       "                      Party  EVM Votes  Postal Votes\\t  Total Votes\\t  \\\n",
       "0  Indian National Congress      49390             534          49924   \n",
       "1  Indian National Congress      39373             181          39554   \n",
       "2           Aam Aadmi Party      43257             298          43555   \n",
       "3           Aam Aadmi Party      44294             229          44523   \n",
       "4           Aam Aadmi Party      52648             264          52912   \n",
       "\n",
       "   % of Votes  \n",
       "0       37.51  \n",
       "1       34.77  \n",
       "2       35.69  \n",
       "3       34.28  \n",
       "4       46.43  "
      ]
     },
     "execution_count": 54,
     "metadata": {},
     "output_type": "execute_result"
    }
   ],
   "source": [
    "df.head()"
   ]
  },
  {
   "cell_type": "code",
   "execution_count": null,
   "id": "5aee7053",
   "metadata": {},
   "outputs": [],
   "source": [
    "# Fetch last 5 records from dataset"
   ]
  },
  {
   "cell_type": "code",
   "execution_count": 55,
   "id": "2ff019da",
   "metadata": {},
   "outputs": [
    {
     "data": {
      "text/html": [
       "<div>\n",
       "<style scoped>\n",
       "    .dataframe tbody tr th:only-of-type {\n",
       "        vertical-align: middle;\n",
       "    }\n",
       "\n",
       "    .dataframe tbody tr th {\n",
       "        vertical-align: top;\n",
       "    }\n",
       "\n",
       "    .dataframe thead th {\n",
       "        text-align: right;\n",
       "    }\n",
       "</style>\n",
       "<table border=\"1\" class=\"dataframe\">\n",
       "  <thead>\n",
       "    <tr style=\"text-align: right;\">\n",
       "      <th></th>\n",
       "      <th>AC Name</th>\n",
       "      <th>AC No.</th>\n",
       "      <th>Type</th>\n",
       "      <th>District</th>\n",
       "      <th>Winning Candidate</th>\n",
       "      <th>Party</th>\n",
       "      <th>EVM Votes</th>\n",
       "      <th>Postal Votes\\t</th>\n",
       "      <th>Total Votes\\t</th>\n",
       "      <th>% of Votes</th>\n",
       "    </tr>\n",
       "  </thead>\n",
       "  <tbody>\n",
       "    <tr>\n",
       "      <th>112</th>\n",
       "      <td>Sunam</td>\n",
       "      <td>101</td>\n",
       "      <td>GEN</td>\n",
       "      <td>Sangrur</td>\n",
       "      <td>AMAN ARORA</td>\n",
       "      <td>Aam Aadmi Party</td>\n",
       "      <td>94274</td>\n",
       "      <td>520</td>\n",
       "      <td>94794</td>\n",
       "      <td>61.28</td>\n",
       "    </tr>\n",
       "    <tr>\n",
       "      <th>113</th>\n",
       "      <td>Talwandi Sabo</td>\n",
       "      <td>94</td>\n",
       "      <td>GEN</td>\n",
       "      <td>Bathinda</td>\n",
       "      <td>Prof. Baljinder Kaur</td>\n",
       "      <td>Aam Aadmi Party</td>\n",
       "      <td>48358</td>\n",
       "      <td>395</td>\n",
       "      <td>48753</td>\n",
       "      <td>37.04</td>\n",
       "    </tr>\n",
       "    <tr>\n",
       "      <th>114</th>\n",
       "      <td>Tarn Taran</td>\n",
       "      <td>21</td>\n",
       "      <td>GEN</td>\n",
       "      <td>Amritsar</td>\n",
       "      <td>Dr. Kashmir Singh Sohal</td>\n",
       "      <td>Aam Aadmi Party</td>\n",
       "      <td>52469</td>\n",
       "      <td>466</td>\n",
       "      <td>52935</td>\n",
       "      <td>40.45</td>\n",
       "    </tr>\n",
       "    <tr>\n",
       "      <th>115</th>\n",
       "      <td>Urmar</td>\n",
       "      <td>41</td>\n",
       "      <td>GEN</td>\n",
       "      <td>Hoshiarpur</td>\n",
       "      <td>Jasvir Singh Raja Gill</td>\n",
       "      <td>Aam Aadmi Party</td>\n",
       "      <td>42029</td>\n",
       "      <td>547</td>\n",
       "      <td>42576</td>\n",
       "      <td>34.01</td>\n",
       "    </tr>\n",
       "    <tr>\n",
       "      <th>116</th>\n",
       "      <td>Zira</td>\n",
       "      <td>75</td>\n",
       "      <td>GEN</td>\n",
       "      <td>Firozpur</td>\n",
       "      <td>Naresh Kataria</td>\n",
       "      <td>Aam Aadmi Party</td>\n",
       "      <td>63709</td>\n",
       "      <td>325</td>\n",
       "      <td>64034</td>\n",
       "      <td>42.35</td>\n",
       "    </tr>\n",
       "  </tbody>\n",
       "</table>\n",
       "</div>"
      ],
      "text/plain": [
       "           AC Name  AC No. Type    District        Winning Candidate  \\\n",
       "112          Sunam     101  GEN     Sangrur               AMAN ARORA   \n",
       "113  Talwandi Sabo      94  GEN    Bathinda     Prof. Baljinder Kaur   \n",
       "114     Tarn Taran      21  GEN    Amritsar  Dr. Kashmir Singh Sohal   \n",
       "115          Urmar      41  GEN  Hoshiarpur   Jasvir Singh Raja Gill   \n",
       "116           Zira      75  GEN    Firozpur           Naresh Kataria   \n",
       "\n",
       "               Party  EVM Votes  Postal Votes\\t  Total Votes\\t  % of Votes  \n",
       "112  Aam Aadmi Party      94274             520          94794       61.28  \n",
       "113  Aam Aadmi Party      48358             395          48753       37.04  \n",
       "114  Aam Aadmi Party      52469             466          52935       40.45  \n",
       "115  Aam Aadmi Party      42029             547          42576       34.01  \n",
       "116  Aam Aadmi Party      63709             325          64034       42.35  "
      ]
     },
     "execution_count": 55,
     "metadata": {},
     "output_type": "execute_result"
    }
   ],
   "source": [
    "df.tail()"
   ]
  },
  {
   "cell_type": "code",
   "execution_count": 7,
   "id": "10828115",
   "metadata": {},
   "outputs": [],
   "source": [
    "# Check Number of rows and Columns present in dataset"
   ]
  },
  {
   "cell_type": "code",
   "execution_count": 56,
   "id": "958affd9",
   "metadata": {},
   "outputs": [
    {
     "data": {
      "text/plain": [
       "(117, 10)"
      ]
     },
     "execution_count": 56,
     "metadata": {},
     "output_type": "execute_result"
    }
   ],
   "source": [
    "df.shape"
   ]
  },
  {
   "cell_type": "code",
   "execution_count": null,
   "id": "43c70e0c",
   "metadata": {},
   "outputs": [],
   "source": [
    "# check all coulmns"
   ]
  },
  {
   "cell_type": "code",
   "execution_count": 57,
   "id": "d98c9baf",
   "metadata": {},
   "outputs": [
    {
     "data": {
      "text/plain": [
       "Index(['AC Name', 'AC No.', 'Type', 'District', 'Winning Candidate', 'Party',\n",
       "       'EVM Votes', 'Postal Votes\\t', 'Total Votes\\t', '% of Votes'],\n",
       "      dtype='object')"
      ]
     },
     "execution_count": 57,
     "metadata": {},
     "output_type": "execute_result"
    }
   ],
   "source": [
    "df.columns"
   ]
  },
  {
   "cell_type": "code",
   "execution_count": null,
   "id": "be8b5614",
   "metadata": {},
   "outputs": [],
   "source": [
    "# Check abstract summary of dataset like column, null values, count and datatype of every column."
   ]
  },
  {
   "cell_type": "code",
   "execution_count": 58,
   "id": "8127d6cc",
   "metadata": {},
   "outputs": [
    {
     "name": "stdout",
     "output_type": "stream",
     "text": [
      "<class 'pandas.core.frame.DataFrame'>\n",
      "RangeIndex: 117 entries, 0 to 116\n",
      "Data columns (total 10 columns):\n",
      " #   Column             Non-Null Count  Dtype  \n",
      "---  ------             --------------  -----  \n",
      " 0   AC Name            117 non-null    object \n",
      " 1   AC No.             117 non-null    int64  \n",
      " 2   Type               117 non-null    object \n",
      " 3   District           117 non-null    object \n",
      " 4   Winning Candidate  117 non-null    object \n",
      " 5   Party              117 non-null    object \n",
      " 6   EVM Votes          117 non-null    int64  \n",
      " 7   Postal Votes\t      117 non-null    int64  \n",
      " 8   Total Votes\t       117 non-null    int64  \n",
      " 9   % of Votes         117 non-null    float64\n",
      "dtypes: float64(1), int64(4), object(5)\n",
      "memory usage: 9.3+ KB\n"
     ]
    }
   ],
   "source": [
    "df.info()"
   ]
  },
  {
   "cell_type": "code",
   "execution_count": null,
   "id": "f7cfba65",
   "metadata": {},
   "outputs": [],
   "source": [
    "# Check descriptive summary of dataset"
   ]
  },
  {
   "cell_type": "code",
   "execution_count": 59,
   "id": "2c232433",
   "metadata": {},
   "outputs": [
    {
     "data": {
      "text/html": [
       "<div>\n",
       "<style scoped>\n",
       "    .dataframe tbody tr th:only-of-type {\n",
       "        vertical-align: middle;\n",
       "    }\n",
       "\n",
       "    .dataframe tbody tr th {\n",
       "        vertical-align: top;\n",
       "    }\n",
       "\n",
       "    .dataframe thead th {\n",
       "        text-align: right;\n",
       "    }\n",
       "</style>\n",
       "<table border=\"1\" class=\"dataframe\">\n",
       "  <thead>\n",
       "    <tr style=\"text-align: right;\">\n",
       "      <th></th>\n",
       "      <th>AC No.</th>\n",
       "      <th>EVM Votes</th>\n",
       "      <th>Postal Votes\\t</th>\n",
       "      <th>Total Votes\\t</th>\n",
       "      <th>% of Votes</th>\n",
       "    </tr>\n",
       "  </thead>\n",
       "  <tbody>\n",
       "    <tr>\n",
       "      <th>count</th>\n",
       "      <td>117.000000</td>\n",
       "      <td>117.000000</td>\n",
       "      <td>117.000000</td>\n",
       "      <td>117.000000</td>\n",
       "      <td>117.000000</td>\n",
       "    </tr>\n",
       "    <tr>\n",
       "      <th>mean</th>\n",
       "      <td>59.000000</td>\n",
       "      <td>57795.444444</td>\n",
       "      <td>413.128205</td>\n",
       "      <td>58208.572650</td>\n",
       "      <td>43.479231</td>\n",
       "    </tr>\n",
       "    <tr>\n",
       "      <th>std</th>\n",
       "      <td>33.919021</td>\n",
       "      <td>15281.053220</td>\n",
       "      <td>239.501765</td>\n",
       "      <td>15394.568338</td>\n",
       "      <td>8.287270</td>\n",
       "    </tr>\n",
       "    <tr>\n",
       "      <th>min</th>\n",
       "      <td>1.000000</td>\n",
       "      <td>29606.000000</td>\n",
       "      <td>70.000000</td>\n",
       "      <td>29903.000000</td>\n",
       "      <td>26.410000</td>\n",
       "    </tr>\n",
       "    <tr>\n",
       "      <th>25%</th>\n",
       "      <td>30.000000</td>\n",
       "      <td>46802.000000</td>\n",
       "      <td>232.000000</td>\n",
       "      <td>46916.000000</td>\n",
       "      <td>36.550000</td>\n",
       "    </tr>\n",
       "    <tr>\n",
       "      <th>50%</th>\n",
       "      <td>59.000000</td>\n",
       "      <td>55715.000000</td>\n",
       "      <td>396.000000</td>\n",
       "      <td>56155.000000</td>\n",
       "      <td>43.110000</td>\n",
       "    </tr>\n",
       "    <tr>\n",
       "      <th>75%</th>\n",
       "      <td>88.000000</td>\n",
       "      <td>65698.000000</td>\n",
       "      <td>523.000000</td>\n",
       "      <td>66096.000000</td>\n",
       "      <td>49.610000</td>\n",
       "    </tr>\n",
       "    <tr>\n",
       "      <th>max</th>\n",
       "      <td>117.000000</td>\n",
       "      <td>99200.000000</td>\n",
       "      <td>1548.000000</td>\n",
       "      <td>100023.000000</td>\n",
       "      <td>64.290000</td>\n",
       "    </tr>\n",
       "  </tbody>\n",
       "</table>\n",
       "</div>"
      ],
      "text/plain": [
       "           AC No.     EVM Votes  Postal Votes\\t  Total Votes\\t  % of Votes\n",
       "count  117.000000    117.000000      117.000000     117.000000  117.000000\n",
       "mean    59.000000  57795.444444      413.128205   58208.572650   43.479231\n",
       "std     33.919021  15281.053220      239.501765   15394.568338    8.287270\n",
       "min      1.000000  29606.000000       70.000000   29903.000000   26.410000\n",
       "25%     30.000000  46802.000000      232.000000   46916.000000   36.550000\n",
       "50%     59.000000  55715.000000      396.000000   56155.000000   43.110000\n",
       "75%     88.000000  65698.000000      523.000000   66096.000000   49.610000\n",
       "max    117.000000  99200.000000     1548.000000  100023.000000   64.290000"
      ]
     },
     "execution_count": 59,
     "metadata": {},
     "output_type": "execute_result"
    }
   ],
   "source": [
    "df.describe()"
   ]
  },
  {
   "cell_type": "code",
   "execution_count": null,
   "id": "23700b66",
   "metadata": {},
   "outputs": [],
   "source": [
    "# check whether is any null/NA value present in any column or not"
   ]
  },
  {
   "cell_type": "code",
   "execution_count": 60,
   "id": "14e11141",
   "metadata": {},
   "outputs": [
    {
     "data": {
      "text/plain": [
       "AC Name              0\n",
       "AC No.               0\n",
       "Type                 0\n",
       "District             0\n",
       "Winning Candidate    0\n",
       "Party                0\n",
       "EVM Votes            0\n",
       "Postal Votes\\t       0\n",
       "Total Votes\\t        0\n",
       "% of Votes           0\n",
       "dtype: int64"
      ]
     },
     "execution_count": 60,
     "metadata": {},
     "output_type": "execute_result"
    }
   ],
   "source": [
    "# df.isna().sum() OR\n",
    "df.isnull().sum()"
   ]
  },
  {
   "cell_type": "code",
   "execution_count": null,
   "id": "8c4b4954",
   "metadata": {},
   "outputs": [],
   "source": [
    "# As per problem statement we want to compaire party with percentage so lates take it."
   ]
  },
  {
   "cell_type": "code",
   "execution_count": 75,
   "id": "07347ae5",
   "metadata": {},
   "outputs": [
    {
     "data": {
      "text/html": [
       "<div>\n",
       "<style scoped>\n",
       "    .dataframe tbody tr th:only-of-type {\n",
       "        vertical-align: middle;\n",
       "    }\n",
       "\n",
       "    .dataframe tbody tr th {\n",
       "        vertical-align: top;\n",
       "    }\n",
       "\n",
       "    .dataframe thead th {\n",
       "        text-align: right;\n",
       "    }\n",
       "</style>\n",
       "<table border=\"1\" class=\"dataframe\">\n",
       "  <thead>\n",
       "    <tr style=\"text-align: right;\">\n",
       "      <th></th>\n",
       "      <th>Party</th>\n",
       "      <th>% of Votes</th>\n",
       "    </tr>\n",
       "  </thead>\n",
       "  <tbody>\n",
       "    <tr>\n",
       "      <th>0</th>\n",
       "      <td>Indian National Congress</td>\n",
       "      <td>37.51</td>\n",
       "    </tr>\n",
       "    <tr>\n",
       "      <th>1</th>\n",
       "      <td>Indian National Congress</td>\n",
       "      <td>34.77</td>\n",
       "    </tr>\n",
       "    <tr>\n",
       "      <th>2</th>\n",
       "      <td>Aam Aadmi Party</td>\n",
       "      <td>35.69</td>\n",
       "    </tr>\n",
       "    <tr>\n",
       "      <th>3</th>\n",
       "      <td>Aam Aadmi Party</td>\n",
       "      <td>34.28</td>\n",
       "    </tr>\n",
       "    <tr>\n",
       "      <th>4</th>\n",
       "      <td>Aam Aadmi Party</td>\n",
       "      <td>46.43</td>\n",
       "    </tr>\n",
       "    <tr>\n",
       "      <th>...</th>\n",
       "      <td>...</td>\n",
       "      <td>...</td>\n",
       "    </tr>\n",
       "    <tr>\n",
       "      <th>112</th>\n",
       "      <td>Aam Aadmi Party</td>\n",
       "      <td>61.28</td>\n",
       "    </tr>\n",
       "    <tr>\n",
       "      <th>113</th>\n",
       "      <td>Aam Aadmi Party</td>\n",
       "      <td>37.04</td>\n",
       "    </tr>\n",
       "    <tr>\n",
       "      <th>114</th>\n",
       "      <td>Aam Aadmi Party</td>\n",
       "      <td>40.45</td>\n",
       "    </tr>\n",
       "    <tr>\n",
       "      <th>115</th>\n",
       "      <td>Aam Aadmi Party</td>\n",
       "      <td>34.01</td>\n",
       "    </tr>\n",
       "    <tr>\n",
       "      <th>116</th>\n",
       "      <td>Aam Aadmi Party</td>\n",
       "      <td>42.35</td>\n",
       "    </tr>\n",
       "  </tbody>\n",
       "</table>\n",
       "<p>117 rows × 2 columns</p>\n",
       "</div>"
      ],
      "text/plain": [
       "                        Party  % of Votes\n",
       "0    Indian National Congress       37.51\n",
       "1    Indian National Congress       34.77\n",
       "2             Aam Aadmi Party       35.69\n",
       "3             Aam Aadmi Party       34.28\n",
       "4             Aam Aadmi Party       46.43\n",
       "..                        ...         ...\n",
       "112           Aam Aadmi Party       61.28\n",
       "113           Aam Aadmi Party       37.04\n",
       "114           Aam Aadmi Party       40.45\n",
       "115           Aam Aadmi Party       34.01\n",
       "116           Aam Aadmi Party       42.35\n",
       "\n",
       "[117 rows x 2 columns]"
      ]
     },
     "execution_count": 75,
     "metadata": {},
     "output_type": "execute_result"
    }
   ],
   "source": [
    "per= df[['Party','% of Votes']]\n",
    "per"
   ]
  },
  {
   "cell_type": "code",
   "execution_count": 41,
   "id": "810de9c4",
   "metadata": {},
   "outputs": [],
   "source": [
    "# Lets Compaire two columns-Party and % of Votes for the purpose of which party get maximum voting purcentage categoriwise with the help of boxplot."
   ]
  },
  {
   "cell_type": "code",
   "execution_count": 77,
   "id": "b9e5cc1a",
   "metadata": {},
   "outputs": [
    {
     "data": {
      "image/png": "[encoded data removed]",
      "text/plain": [
       "<Figure size 864x576 with 1 Axes>"
      ]
     },
     "metadata": {
      "needs_background": "light"
     },
     "output_type": "display_data"
    }
   ],
   "source": [
    "plt.figure(figsize=(12,8))\n",
    "plt.xticks(rotation=90)\n",
    "sns.barplot(data= df, x = 'Party', y = '% of Votes', hue='Type' )\n",
    "plt.title('Party vs Percentage of Votes')\n",
    "plt.show()"
   ]
  },
  {
   "cell_type": "code",
   "execution_count": null,
   "id": "f4b36f3c",
   "metadata": {},
   "outputs": [],
   "source": [
    "# Above result will be shown with the help scatter plot, boxplot."
   ]
  },
  {
   "cell_type": "code",
   "execution_count": 63,
   "id": "2e1e4fe9",
   "metadata": {},
   "outputs": [
    {
     "data": {
      "image/png": "[encoded data removed]",
      "text/plain": [
       "<Figure size 864x576 with 1 Axes>"
      ]
     },
     "metadata": {
      "needs_background": "light"
     },
     "output_type": "display_data"
    }
   ],
   "source": [
    "plt.figure(figsize=(12,8))\n",
    "plt.xticks(rotation=90)\n",
    "sns.scatterplot(data= df, x = 'Party', y = '% of Votes', hue='Type' )\n",
    "plt.title('Party vs Percentage of Votes')\n",
    "plt.show()"
   ]
  },
  {
   "cell_type": "code",
   "execution_count": 64,
   "id": "b834657f",
   "metadata": {},
   "outputs": [
    {
     "data": {
      "image/png": "[encoded data removed]",
      "text/plain": [
       "<Figure size 864x576 with 1 Axes>"
      ]
     },
     "metadata": {
      "needs_background": "light"
     },
     "output_type": "display_data"
    }
   ],
   "source": [
    "plt.figure(figsize=(12,8))\n",
    "plt.xticks(rotation=90)\n",
    "sns.boxplot(data= df, x = 'Party', y = '% of Votes', hue='Type' )\n",
    "plt.title('Party vs Percentage of Votes')\n",
    "plt.show()"
   ]
  },
  {
   "cell_type": "code",
   "execution_count": 23,
   "id": "e3007e7d",
   "metadata": {},
   "outputs": [],
   "source": [
    "# Lets estimate the probability density of total votes by using KDE plot-Firstwe need to import warning and the ignore it for better visualization."
   ]
  },
  {
   "cell_type": "code",
   "execution_count": null,
   "id": "539fcade",
   "metadata": {},
   "outputs": [],
   "source": [
    "import  warnings\n",
    "warnings.filterwarnings('ignore')"
   ]
  },
  {
   "cell_type": "code",
   "execution_count": 65,
   "id": "58ce3a4f",
   "metadata": {},
   "outputs": [
    {
     "data": {
      "image/png": "[encoded data removed]",
      "text/plain": [
       "<Figure size 864x576 with 1 Axes>"
      ]
     },
     "metadata": {
      "needs_background": "light"
     },
     "output_type": "display_data"
    }
   ],
   "source": [
    "plt.figure(figsize=(12,8))\n",
    "plt.xticks(rotation=90)\n",
    "sns.distplot(df['Total Votes\\t'],kde=True)\n",
    "plt.show()"
   ]
  },
  {
   "cell_type": "code",
   "execution_count": null,
   "id": "b1dd425f",
   "metadata": {},
   "outputs": [],
   "source": [
    "# Finally let draw heatmap which gives matrix representation with respect to weight of each feature."
   ]
  },
  {
   "cell_type": "code",
   "execution_count": 66,
   "id": "7b400ca8",
   "metadata": {},
   "outputs": [
    {
     "data": {
      "text/plain": [
       "<AxesSubplot:>"
      ]
     },
     "execution_count": 66,
     "metadata": {},
     "output_type": "execute_result"
    },
    {
     "data": {
      "image/png": "[encoded data removed]",
      "text/plain": [
       "<Figure size 432x288 with 2 Axes>"
      ]
     },
     "metadata": {
      "needs_background": "light"
     },
     "output_type": "display_data"
    }
   ],
   "source": [
    "sns.heatmap(df.corr(),fmt='.2f')"
   ]
  },
  {
   "cell_type": "code",
   "execution_count": null,
   "id": "e40eee43",
   "metadata": {},
   "outputs": [],
   "source": []
  }
 ],
 "metadata": {
  "kernelspec": {
   "display_name": "Python 3 (ipykernel)",
   "language": "python",
   "name": "python3"
  },
  "language_info": {
   "codemirror_mode": {
    "name": "ipython",
    "version": 3
   },
   "file_extension": ".py",
   "mimetype": "text/x-python",
   "name": "python",
   "nbconvert_exporter": "python",
   "pygments_lexer": "ipython3",
   "version": "3.9.7"
  }
 },
 "nbformat": 4,
 "nbformat_minor": 5
}
